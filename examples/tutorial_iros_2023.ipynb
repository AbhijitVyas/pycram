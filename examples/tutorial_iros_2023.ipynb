{
 "cells": [
  {
   "cell_type": "markdown",
   "metadata": {},
   "source": [
    "# IROS 2023 - Hands-on Robot Control in CRAM\n",
    "\n",
    "This tutorial will lead you through the IROS 2023 Tutorial on Robot Programming with the Cognitive Robot Abstract Machine (CRAM). We'll start off with the setup, then list the lectures to follow.\n",
    "\n",
    "\n",
    "## Setup\n",
    "\n",
    "This tutorial shows the use of the plan executive PyCRAM. The whole tutorial will take place in this very JupyterHub.  Open a new Launcher by opening a new tab, or with Ctrl-Shift-L. From the **Launcher** you can open a new bash terminal, the RvizWeb visualization or create a new Notebook to execute Python code from.\n",
    "\n",
    "Enter the Launcher and **start RvizWeb**. You can shove it over for a split screen with the Notebook, and close the navigation bar on the very left for a better view. RvizWeb should only show an empty grid right now."
   ]
  },
  {
   "cell_type": "markdown",
   "metadata": {},
   "source": [
    "## Lectures\n",
    "\n",
    "1. [Bullet World](bullet_world.ipynb) is our physics environment. Get familiar with spawning objects and poses.\n",
    "2. [Poses](pose.ipynb) will refine your understanding of applied 3D linear algebra.\n",
    "3. [Object Designators](object_designator.ipynb) are the vague description of objects in the world.\n",
    "4. [Motion Designators](motion_designator.ipynb) are the lowest-level instructions for the robot.\n",
    "5. [Location Designators](location_designator.ipynb) are underspecified regions that span up a distribution of poses, also known as a Costmap.\n",
    "6. [Action Designators](action_designator.ipynb) are descriptions of actions. Resolve and perform them to make the robot do things.\n",
    "7. [Task Trees](minimal_task_tree.ipynb) are one representation of the execution trace. It contains every action executed and the parameters used within.\n",
    "8. [Object Relational Mapping](orm_example.ipynb) is one of our mechanisms, to store a robots experience during its execution.\n",
    "9. [Custom Resolver](custom_resolver.ipynb) shows a location resolver that reduces the sample space through prior experience.\n",
    "\n",
    "\n",
    "## Troubleshoot\n",
    "\n",
    "When you start a new Notebook, refresh RvizWeb with the circled arrow button in the top right. If you have any leftovers from a Notebook, restart the launchfile and kill all kernels via the `Kernel` menu element in the top bar. Restart the current kernel if the visualization gets stuck as well.\n",
    "\n",
    "If you are stuck with weird changes in your Notebook, you can revert it to its original state with right-click -> Git -> Discard.\n",
    "\n",
    "\n",
    "## Latest developments\n",
    "\n",
    "Following you have an example of solution iterators. As you have surely recognized, finding suitable locations is computationally heavy. We want to solve this by finding the next solution iteratively. Costmaps can be designed as iterators, to retreive new solutions if the current one is bad.\n",
    "\n",
    "First we initialize the world, robot and environment."
   ]
  },
  {
   "cell_type": "code",
   "execution_count": null,
   "metadata": {
    "collapsed": false,
    "jupyter": {
     "outputs_hidden": false
    }
   },
   "outputs": [],
   "source": [
    "from pycram.designators.location_designator import *\n",
    "from pycram.designators.object_designator import *\n",
    "from pycram.pose import Pose\n",
    "from pycram.bullet_world import BulletWorld, Object\n",
    "from pycram.process_module import simulated_robot\n",
    "\n",
    "world = BulletWorld(\"DIRECT\")\n",
    "robot = Object(\"pr2\", \"robot\", \"pr2.urdf\", pose=Pose([1, 2, 0]))\n",
    "apartment = Object(\"apartment\", \"environment\", \"apartment.urdf\")\n",
    "\n",
    "robot_desig = BelieveObject(names=[\"pr2\"])\n",
    "apartment_desig = BelieveObject(names=[\"apartment\"])"
   ]
  },
  {
   "cell_type": "markdown",
   "metadata": {},
   "source": [
    "Retreive the handle of a drawer and create a generator for locations to access it."
   ]
  },
  {
   "cell_type": "code",
   "execution_count": null,
   "metadata": {
    "ExecuteTime": {
     "end_time": "2023-09-05T15:40:51.742441172Z",
     "start_time": "2023-09-05T15:40:51.602423280Z"
    },
    "collapsed": false,
    "jupyter": {
     "outputs_hidden": false
    }
   },
   "outputs": [],
   "source": [
    "with simulated_robot:\n",
    "    handle_desig = ObjectPart(names=[\"handle_cab10_t\"], part_of=apartment_desig.resolve())\n",
    "    drawer_open_loc_solutions = \\\n",
    "        iter(AccessingLocation(handle_desig=handle_desig.resolve(),\n",
    "                               robot_desig=robot_desig.resolve()))"
   ]
  },
  {
   "cell_type": "markdown",
   "metadata": {},
   "source": [
    "Then iterate through the solutions."
   ]
  },
  {
   "cell_type": "code",
   "execution_count": null,
   "metadata": {
    "ExecuteTime": {
     "end_time": "2023-09-05T15:41:11.498748297Z",
     "start_time": "2023-09-05T15:41:10.961099983Z"
    },
    "collapsed": false,
    "jupyter": {
     "outputs_hidden": false
    }
   },
   "outputs": [],
   "source": [
    "with simulated_robot:\n",
    "    drawer_open_loc = next(drawer_open_loc_solutions)"
   ]
  },
  {
   "cell_type": "markdown",
   "metadata": {},
   "source": [
    "This is the underlying technique used for finding solutions for the OpenAction, as described in the lecture on action designators."
   ]
  }
 ],
 "metadata": {
  "kernelspec": {
   "display_name": "Python 3 (ipykernel)",
   "language": "python",
   "name": "python3"
  },
  "language_info": {
   "codemirror_mode": {
    "name": "ipython",
    "version": 3
   },
   "file_extension": ".py",
   "mimetype": "text/x-python",
   "name": "python",
   "nbconvert_exporter": "python",
   "pygments_lexer": "ipython3",
   "version": "3.10.6"
  }
 },
 "nbformat": 4,
 "nbformat_minor": 4
}
