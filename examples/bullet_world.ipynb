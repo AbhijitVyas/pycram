{
 "cells": [
  {
   "cell_type": "markdown",
   "id": "81189461",
   "metadata": {},
   "source": [
    "# Bullet World\n",
    "This Notebook will show you the basics of working with the PyCRAM BulletWorld.\n",
    "\n",
    "First we need to import and create a BulletWorld."
   ]
  },
  {
   "cell_type": "code",
   "execution_count": null,
   "id": "c0ff3630",
   "metadata": {
    "tags": []
   },
   "outputs": [],
   "source": [
    "from pycram.bullet_world import BulletWorld\n",
    "from pycram.pose import Pose\n",
    "\n",
    "world = BulletWorld()"
   ]
  },
  {
   "cell_type": "code",
   "execution_count": null,
   "id": "397f8d84-e11d-4208-8a5e-4ea0e04b29c6",
   "metadata": {
    "tags": []
   },
   "outputs": [],
   "source": [
    "from pycram.ros.tf_broadcaster import TFBroadcaster\n",
    "from pycram.ros.viz_marker_publisher import VizMarkerPublisher\n",
    "\n",
    "broadcaster = TFBroadcaster()\n",
    "v = VizMarkerPublisher()"
   ]
  },
  {
   "cell_type": "markdown",
   "id": "0d4d819d",
   "metadata": {},
   "source": [
    "This new window is the BulletWorld, PyCRAMs internal physics simulation. You can use the mouse to move the camera around:\n",
    "\n",
    "  * Press the left mouse button to rotate the camera\n",
    "  * Press the right mouse button to move the camera \n",
    "  * Press the middle mouse button (scroll wheel) and move the mouse up or down to zoom\n",
    "    \n",
    "At the moment the BulletWorld only contains a floor, this is spawned by default when creating the BulletWorld. Furthermore, the gravity is set to 9.8 m^2, which is the same gravitation as the one on earth. \n",
    "    "
   ]
  },
  {
   "cell_type": "markdown",
   "id": "67b01264",
   "metadata": {},
   "source": [
    "To spawn new things in the BulletWorld we need to import the Object class and create and instance of it. "
   ]
  },
  {
   "cell_type": "code",
   "execution_count": null,
   "id": "17209293",
   "metadata": {
    "tags": []
   },
   "outputs": [],
   "source": [
    "from pycram.bullet_world import Object\n",
    "\n",
    "milk = Object(\"milk\", \"milk\", \"milk.stl\", pose=Pose([0, 0, 1]))"
   ]
  },
  {
   "cell_type": "markdown",
   "id": "893059cd",
   "metadata": {},
   "source": [
    "As you can see this spawns a milk floating in the air. What we did here was create a new Object which has the name \"milk\" as well as the type \"milk\", is spawned from the file \"milk.stl\" and is at the position [0, 0, 1]. \n",
    "\n",
    "The first three of these parameters are required while the position is optional. As you can see it was sufficent to only specify the filename for PyCRAM to spawn the milk mesh. When only providing a filename PyCRAM will search in its resource directory for a matching file and use it. \n",
    "\n",
    "For a complete list of all parameters that can be used to crate an Object please check the documentation. \n",
    "\n",
    "\n",
    "\n",
    "Since the Object is spawned we can now interact with it. First we want to move it around and change it's orientation"
   ]
  },
  {
   "cell_type": "code",
   "execution_count": null,
   "id": "91d0ad16",
   "metadata": {
    "tags": []
   },
   "outputs": [],
   "source": [
    "milk.set_position(Pose([1, 1, 1]))"
   ]
  },
  {
   "cell_type": "code",
   "execution_count": null,
   "id": "3642b7ba",
   "metadata": {
    "tags": []
   },
   "outputs": [],
   "source": [
    "milk.set_orientation(Pose(orientation=[1, 0, 0, 1]))"
   ]
  },
  {
   "cell_type": "code",
   "execution_count": null,
   "id": "cc8eb0d6",
   "metadata": {
    "tags": []
   },
   "outputs": [],
   "source": [
    "milk.set_pose(Pose([0, 0, 1], [0, 0, 0, 1]))"
   ]
  },
  {
   "cell_type": "markdown",
   "id": "f99bb85d",
   "metadata": {},
   "source": [
    "In the same sense as setting the position or orientation you can also get the position and orientation."
   ]
  },
  {
   "cell_type": "code",
   "execution_count": null,
   "id": "fe508686",
   "metadata": {
    "tags": []
   },
   "outputs": [],
   "source": [
    "print(f\"Position: \\n{milk.get_position()}\")\n",
    "\n",
    "print(f\"Orientation: \\n{milk.get_orientation()}\")\n",
    "\n",
    "print(f\"Pose: \\n{milk.get_pose()}\")"
   ]
  },
  {
   "cell_type": "markdown",
   "id": "515c218f",
   "metadata": {},
   "source": [
    "## Attachments\n",
    "You can attach Objects to each other simply by calling the attach method on one of them and providing the other as parameter. Since attachments are bi-directional it doesn't matter on which Object you call the method. \n",
    "\n",
    "First we neeed another Object"
   ]
  },
  {
   "cell_type": "code",
   "execution_count": null,
   "id": "16268d7a",
   "metadata": {
    "tags": []
   },
   "outputs": [],
   "source": [
    "cereal = Object(\"cereal\", \"cereal\", \"breakfast_cereal.stl\", pose=Pose([1, 0, 1]))"
   ]
  },
  {
   "cell_type": "code",
   "execution_count": null,
   "id": "2a125f92",
   "metadata": {
    "tags": []
   },
   "outputs": [],
   "source": [
    "milk.attach(cereal)"
   ]
  },
  {
   "cell_type": "markdown",
   "id": "5192787b",
   "metadata": {},
   "source": [
    "Now since they are attached to each other, if we move one of them the other will move in conjunction."
   ]
  },
  {
   "cell_type": "code",
   "execution_count": null,
   "id": "3a42b286",
   "metadata": {
    "tags": []
   },
   "outputs": [],
   "source": [
    "milk.set_position(Pose([1,1,1]))"
   ]
  },
  {
   "cell_type": "markdown",
   "id": "b0dfba50",
   "metadata": {},
   "source": [
    "In the same way the Object can also be detached, just call the detach method on one of the two attached Objects."
   ]
  },
  {
   "cell_type": "code",
   "execution_count": null,
   "id": "d48596df",
   "metadata": {
    "tags": []
   },
   "outputs": [],
   "source": [
    "cereal.detach(milk)"
   ]
  },
  {
   "cell_type": "markdown",
   "id": "582bce14",
   "metadata": {},
   "source": [
    "## Links and Joints\n",
    "Objects spawned from mesh files do not have links or joints, but if you spawn things from a URDF like a robot they will have a lot of links and joints. Every Object has two dictionaries as attributes namley ```links``` and ```joints``` which contain every link or joint as key and a unique id, used by PyBullet, as value. \n",
    "\n",
    "We will see this at the example of the PR2"
   ]
  },
  {
   "cell_type": "code",
   "execution_count": null,
   "id": "95ae69a0",
   "metadata": {
    "tags": []
   },
   "outputs": [],
   "source": [
    "pr2 = Object(\"pr2\", \"pr2\", \"pr2.urdf\")\n",
    "print(pr2.links)"
   ]
  },
  {
   "cell_type": "markdown",
   "id": "ccad986f",
   "metadata": {},
   "source": [
    "For links there are similar methods available as for the pose. However, you can only **get** the position and orientation of a link. "
   ]
  },
  {
   "cell_type": "code",
   "execution_count": null,
   "id": "1fe62857",
   "metadata": {},
   "outputs": [],
   "source": [
    "print(f\"Position: \\n{pr2.get_link_position('torso_lift_link')}\")\n",
    "\n",
    "print(f\"Orientation: \\n{pr2.get_link_orientation('torso_lift_link')}\")\n",
    "\n",
    "print(f\"Pose: \\n{pr2.get_link_pose('torso_lift_link')}\")"
   ]
  },
  {
   "cell_type": "markdown",
   "id": "e4a9ae71",
   "metadata": {},
   "source": [
    "Methods available for joints are:\n",
    "\n",
    "  * ```get_joint_state```\n",
    "  * ```set_joint_state```\n",
    "  * ```get_joint_limits```\n",
    "  \n",
    "We will see how these methods work at the example of the torso_lift_joint"
   ]
  },
  {
   "cell_type": "code",
   "execution_count": null,
   "id": "00a13b77",
   "metadata": {
    "tags": []
   },
   "outputs": [],
   "source": [
    "print(f\"Joint limits: {pr2.get_joint_limits('torso_lift_joint')}\")\n",
    "\n",
    "print(f\"Current Joint state: {pr2.get_joint_state('torso_lift_joint')}\")\n",
    "\n",
    "pr2.set_joint_state(\"torso_lift_joint\", 0.2)\n",
    "\n",
    "print(f\"New Joint state: {pr2.get_joint_state('torso_lift_joint')}\")"
   ]
  },
  {
   "cell_type": "markdown",
   "id": "ad4cb0ab",
   "metadata": {},
   "source": [
    "Lastly, there is ```get_AABB``` AABB stands for axis aligned bounding box. This method returns two points in world coordinates which span a rectangle representing the AABB."
   ]
  },
  {
   "cell_type": "code",
   "execution_count": null,
   "id": "c94f7c67",
   "metadata": {
    "tags": []
   },
   "outputs": [],
   "source": [
    "pr2.get_AABB()"
   ]
  }
 ],
 "metadata": {
  "kernelspec": {
   "display_name": "Python 3 (ipykernel)",
   "language": "python",
   "name": "python3"
  },
  "language_info": {
   "codemirror_mode": {
    "name": "ipython",
    "version": 3
   },
   "file_extension": ".py",
   "mimetype": "text/x-python",
   "name": "python",
   "nbconvert_exporter": "python",
   "pygments_lexer": "ipython3",
   "version": "3.10.6"
  }
 },
 "nbformat": 4,
 "nbformat_minor": 5
}
