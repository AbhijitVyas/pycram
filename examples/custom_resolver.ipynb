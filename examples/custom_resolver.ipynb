{
 "cells": [
  {
   "cell_type": "markdown",
   "source": [
    "# Creating a custom Location Costmap\n",
    "\n",
    "In this tutorial we will walk through the creation of a costmap through machine learning.\n",
    "First we need to gather a lot of data. For that we will write a randomized experiment for grasping a couple of objects.\n",
    "In the experiment the robot will try to grasp a randomized object using random poses and torso heights."
   ],
   "metadata": {
    "collapsed": false
   }
  },
  {
   "cell_type": "code",
   "execution_count": 1,
   "outputs": [
    {
     "name": "stderr",
     "output_type": "stream",
     "text": [
      "Unknown attribute \"type\" in /robot[@name='pr2']/link[@name='base_laser_link']\n",
      "Unknown attribute \"type\" in /robot[@name='pr2']/link[@name='wide_stereo_optical_frame']\n",
      "Unknown attribute \"type\" in /robot[@name='pr2']/link[@name='narrow_stereo_optical_frame']\n",
      "Unknown attribute \"type\" in /robot[@name='pr2']/link[@name='laser_tilt_link']\n",
      "Unknown attribute \"type\" in /robot[@name='pr2']/link[@name='base_laser_link']\n",
      "Unknown attribute \"type\" in /robot[@name='pr2']/link[@name='wide_stereo_optical_frame']\n",
      "Unknown attribute \"type\" in /robot[@name='pr2']/link[@name='narrow_stereo_optical_frame']\n",
      "Unknown attribute \"type\" in /robot[@name='pr2']/link[@name='laser_tilt_link']\n"
     ]
    }
   ],
   "source": [
    "import itertools\n",
    "import time\n",
    "from typing import Optional, List, Tuple\n",
    "\n",
    "import numpy as np\n",
    "np.random.seed(69)\n",
    "import sqlalchemy.orm\n",
    "import tf\n",
    "import tqdm\n",
    "\n",
    "import pycram.orm.base\n",
    "import pycram.task\n",
    "from pycram.bullet_world import BulletWorld, Object as BulletWorldObject\n",
    "from pycram.designators.action_designator import MoveTorsoAction, PickUpAction, NavigateAction, ParkArmsAction\n",
    "from pycram.designators.object_designator import ObjectDesignatorDescription\n",
    "import pycram.enums\n",
    "from pycram.plan_failures import PlanFailure\n",
    "from pycram.process_module import ProcessModule\n",
    "ProcessModule.execution_delay = False\n",
    "from pycram.process_module import simulated_robot\n",
    "import sqlalchemy.orm\n",
    "from pycram.resolver.location.jpt_location import JPTCostmapLocation\n",
    "from pycram.orm.base import Position, RobotState\n",
    "from pycram.orm.task import TaskTreeNode, Code\n",
    "from pycram.orm.action_designator import PickUpAction as ORMPickUpAction\n",
    "from pycram.orm.object_designator import ObjectDesignator\n",
    "import sqlalchemy.sql\n",
    "import pandas as pd\n",
    "\n",
    "\n",
    "class GraspingExplorer:\n",
    "    \"\"\"Class to try randomized grasping plans.\"\"\"\n",
    "\n",
    "    world: Optional[BulletWorld]\n",
    "\n",
    "    def __init__(self, robots: Optional[List[Tuple[str, str]]] = None, objects: Optional[List[Tuple[str, str]]] = None,\n",
    "                 arms: Optional[List[str]] = None, grasps: Optional[List[str]] = None,\n",
    "                 samples_per_scenario: int = 1000):\n",
    "        \"\"\"\n",
    "        Create a GraspingExplorer.\n",
    "        :param robots: The robots to use\n",
    "        :param objects: The objects to try to grasp\n",
    "        :param arms: The arms of the robot to use\n",
    "        :param grasps: The grasp orientations to use\n",
    "        :param samples_per_scenario: The number of tries per scenario.\n",
    "        \"\"\"\n",
    "        # store exploration space\n",
    "        if not robots:\n",
    "            self.robots: List[Tuple[str, str]] = [(\"pr2\", \"pr2.urdf\")]\n",
    "\n",
    "        if not objects:\n",
    "            self.objects: List[Tuple[str, str]] = [(\"cereal\", \"breakfast_cereal.stl\"), (\"bowl\", \"bowl.stl\"),\n",
    "                                                   (\"milk\", \"milk.stl\"),\n",
    "                                                   (\"spoon\", \"spoon.stl\")]\n",
    "\n",
    "        if not arms:\n",
    "            self.arms: List[str] = [\"left\", \"right\"]\n",
    "\n",
    "        if not grasps:\n",
    "            self.grasps: List[str] = [\"left\", \"right\", \"front\", \"top\"]\n",
    "\n",
    "        # store trials per scenario\n",
    "        self.samples_per_scenario: int = samples_per_scenario\n",
    "\n",
    "        # chain hyperparameters\n",
    "        self.hyper_parameters = [self.robots, self.objects, self.arms, self.grasps]\n",
    "\n",
    "        self.total_tries = 0\n",
    "        self.total_failures = 0\n",
    "\n",
    "    def perform(self, session: sqlalchemy.orm.Session):\n",
    "        \"\"\"\n",
    "        Perform all experiments.\n",
    "        :param session: The database-session to insert the samples in.\n",
    "        \"\"\"\n",
    "\n",
    "        # create progress bar\n",
    "        progress_bar = tqdm.tqdm(\n",
    "            total=np.prod([len(p) for p in self.hyper_parameters]) * self.samples_per_scenario)\n",
    "\n",
    "        self.world = BulletWorld(\"DIRECT\")\n",
    "\n",
    "        # for every robot\n",
    "        for robot, robot_urdf in self.robots:\n",
    "\n",
    "            # spawn it\n",
    "            robot = BulletWorldObject(robot, \"robot\", robot_urdf)\n",
    "\n",
    "            # for every obj\n",
    "            for obj, obj_stl in self.objects:\n",
    "\n",
    "                # spawn it\n",
    "                bw_object = BulletWorldObject(obj, obj, obj_stl, [0, 0, 0.75], [0, 0, 0, 1])\n",
    "\n",
    "                # create object designator\n",
    "                object_designator = ObjectDesignatorDescription(names=[obj])\n",
    "\n",
    "                # for every arm and grasp pose\n",
    "                for arm, grasp in itertools.product(self.arms, self.grasps):\n",
    "                    # sample positions in 2D\n",
    "                    positions = np.random.uniform([-2, -2], [2, 2], (self.samples_per_scenario, 2))\n",
    "\n",
    "                    # for every position\n",
    "                    for position in positions:\n",
    "\n",
    "                        # set z axis to 0\n",
    "                        position = [*position, 0]\n",
    "\n",
    "                        # calculate orientation for robot to face the object\n",
    "                        angle = np.arctan2(position[1], position[0]) + np.pi\n",
    "                        orientation = list(tf.transformations.quaternion_from_euler(0, 0, angle, axes=\"sxyz\"))\n",
    "\n",
    "                        # try to execute a grasping plan\n",
    "                        with simulated_robot:\n",
    "\n",
    "                            ParkArmsAction.Action(pycram.enums.Arms.BOTH).perform()\n",
    "                            # navigate to sampled position\n",
    "                            NavigateAction([(position, orientation)]).resolve().perform()\n",
    "\n",
    "                            # move torso\n",
    "                            height = np.random.uniform(0., 0.33, 1)[0]\n",
    "                            MoveTorsoAction.Action(height).perform()\n",
    "\n",
    "                            # try to pick it up\n",
    "                            try:\n",
    "                                PickUpAction(object_designator, [arm], [grasp]).resolve().perform()\n",
    "\n",
    "                            # if it fails\n",
    "                            except PlanFailure:\n",
    "\n",
    "                                # update failure stats\n",
    "                                self.total_failures += 1\n",
    "\n",
    "                            # reset BulletWorld\n",
    "                            self.world.reset_bullet_world()\n",
    "\n",
    "                            # update progress bar\n",
    "                            self.total_tries += 1\n",
    "\n",
    "                            # insert into database\n",
    "                            pycram.task.task_tree.insert(session, use_progress_bar=False)\n",
    "                            pycram.task.reset_tree()\n",
    "\n",
    "                            progress_bar.update()\n",
    "                            progress_bar.set_postfix(success_rate=(self.total_tries - self.total_failures) /\n",
    "                                                                  self.total_tries)\n",
    "\n",
    "                bw_object.remove()\n",
    "            robot.remove()\n",
    "\n",
    "        self.world.exit()"
   ],
   "metadata": {
    "collapsed": false,
    "ExecuteTime": {
     "end_time": "2023-06-08T13:53:44.362352601Z",
     "start_time": "2023-06-08T13:53:43.342415072Z"
    }
   }
  },
  {
   "cell_type": "markdown",
   "source": [
    "Next we have to establish a connection to a database and execute the experiment a couple of times. Note that the (few) number of samples we generate is only for demonstrations.\n",
    "For robust and reliable machine learning millions of samples are required."
   ],
   "metadata": {
    "collapsed": false
   }
  },
  {
   "cell_type": "code",
   "execution_count": 2,
   "outputs": [
    {
     "name": "stderr",
     "output_type": "stream",
     "text": [
      "100%|██████████| 960/960 [00:48<00:00, 18.01it/s, success_rate=0.0677]"
     ]
    }
   ],
   "source": [
    "engine = sqlalchemy.create_engine(\"sqlite+pysqlite:///:memory:\")\n",
    "session = sqlalchemy.orm.Session(bind=engine)\n",
    "pycram.orm.base.Base.metadata.create_all(bind=engine)\n",
    "session.commit()\n",
    "\n",
    "explorer = GraspingExplorer(samples_per_scenario=30)\n",
    "explorer.perform(session)"
   ],
   "metadata": {
    "collapsed": false,
    "ExecuteTime": {
     "end_time": "2023-06-08T13:54:34.671887764Z",
     "start_time": "2023-06-08T13:53:44.364228702Z"
    }
   }
  },
  {
   "cell_type": "markdown",
   "source": [
    "Next we will create a dataframe from the just created database by joining the relevant information together using the pycram.orm package.\n",
    "We will get the following columns:\n",
    "    - status of the grasping task\n",
    "    - type of the grasped object\n",
    "    - arm used to grasp\n",
    "    - grasp pose\n",
    "    - torso height relative to the object\n",
    "    - x and y coordinate of the robot relative to the object.\n",
    "\n",
    "Keep in mind that filtering before joining is always advisable, hence the subquery."
   ],
   "metadata": {
    "collapsed": false
   }
  },
  {
   "cell_type": "code",
   "execution_count": 3,
   "outputs": [
    {
     "name": "stdout",
     "output_type": "stream",
     "text": [
      "        status    type    arm grasp  relative torso height         x         y\n",
      "0       FAILED  cereal   left  left               0.696237 -0.815003  1.236271\n",
      "1       FAILED  cereal   left  left               0.566798 -0.598990  1.157637\n",
      "2       FAILED  cereal   left  left               0.708161  0.245396 -0.985644\n",
      "3       FAILED  cereal   left  left               0.437907 -1.580092 -1.766157\n",
      "4       FAILED  cereal   left  left               0.425738  0.693170  0.791319\n",
      "..         ...     ...    ...   ...                    ...       ...       ...\n",
      "955     FAILED   spoon  right   top               0.431723  1.278617 -0.343853\n",
      "956     FAILED   spoon  right   top               0.527409  1.762970 -1.759426\n",
      "957     FAILED   spoon  right   top               0.584864 -1.316506 -0.108327\n",
      "958     FAILED   spoon  right   top               0.720372  0.740378 -1.658181\n",
      "959  SUCCEEDED   spoon  right   top               0.551467 -0.785473 -0.139471\n",
      "\n",
      "[960 rows x 7 columns]\n"
     ]
    }
   ],
   "source": [
    "robot_pos = sqlalchemy.orm.aliased(Position)\n",
    "object_pos = sqlalchemy.orm.aliased(Position)\n",
    "\n",
    "filtered_code = session.query(Code.id, Code.designator).filter(Code.designator != None).subquery(\"filtered_code\")\n",
    "\n",
    "query = session.query(TaskTreeNode.status, ObjectDesignator.type, ORMPickUpAction.arm, ORMPickUpAction.grasp,\n",
    "                      sqlalchemy.label(\"relative torso height\", object_pos.z - RobotState.torso_height),\n",
    "                      sqlalchemy.label(\"x\", robot_pos.x - object_pos.x),\n",
    "                      sqlalchemy.label(\"y\", robot_pos.y - object_pos.y)). \\\n",
    "    join(filtered_code, filtered_code.c.id == TaskTreeNode.id). \\\n",
    "    join(ORMPickUpAction, ORMPickUpAction.id == filtered_code.c.designator). \\\n",
    "    join(RobotState, RobotState.id == ORMPickUpAction.robot_state). \\\n",
    "    join(robot_pos, RobotState.position == robot_pos.id). \\\n",
    "    join(ObjectDesignator, ObjectDesignator.id == ORMPickUpAction.object). \\\n",
    "    join(object_pos, ObjectDesignator.position == object_pos.id)\n",
    "\n",
    "df = pd.read_sql(query.statement, session.get_bind())\n",
    "print(df)"
   ],
   "metadata": {
    "collapsed": false,
    "ExecuteTime": {
     "end_time": "2023-06-08T13:54:34.686157813Z",
     "start_time": "2023-06-08T13:54:34.678821535Z"
    }
   }
  },
  {
   "cell_type": "markdown",
   "source": [
    "Next we will define a joint probability distributions over these points using, for instance, a Joint Probability Tree."
   ],
   "metadata": {
    "collapsed": false
   }
  },
  {
   "cell_type": "code",
   "execution_count": 4,
   "outputs": [
    {
     "data": {
      "text/plain": "<JPT #innernodes = 140, #leaves = 141 (281 total)>"
     },
     "execution_count": 4,
     "metadata": {},
     "output_type": "execute_result"
    }
   ],
   "source": [
    "import jpt\n",
    "\n",
    "model = jpt.trees.JPT(variables=jpt.infer_from_dataframe(df, scale_numeric_types=False, precision=0.05),\n",
    "                      min_samples_leaf=5, min_impurity_improvement=0.01)\n",
    "model.fit(df)"
   ],
   "metadata": {
    "collapsed": false,
    "ExecuteTime": {
     "end_time": "2023-06-08T13:54:34.748597318Z",
     "start_time": "2023-06-08T13:54:34.686508773Z"
    }
   }
  },
  {
   "cell_type": "markdown",
   "source": [
    "Finally, we will insert our model in the existing JPT-Costmap wrapper, create a toy simulation and visualize our result."
   ],
   "metadata": {
    "collapsed": false
   }
  },
  {
   "cell_type": "code",
   "execution_count": null,
   "outputs": [
    {
     "name": "stdout",
     "output_type": "stream",
     "text": [
      "[Object(world=<pycram.bullet_world.BulletWorld object at 0x7f1de6c3da30>, name=floor, type=environment, color=[1, 1, 1, 1], id=1, path=/home/tom_sch/catkin_ws/src/pycram/src/pycram/../../resources/cached/plane.urdf, joints={}, links={}, attachments={}, cids={}, original_pose=[[0, 0, 0], [0, 0, 0, 1]], base_origin_shift=[ 0.     0.    10.001]), Object(world=<pycram.bullet_world.BulletWorld object at 0x7f1de6c3da30>, name=pr2, type=robot, color=[1, 1, 1, 1], id=2, path=/home/tom_sch/catkin_ws/src/pycram/src/pycram/../../resources/cached/pr2.urdf, joints={'base_footprint_joint': 0, 'base_bellow_joint': 1, 'base_laser_joint': 2, 'fl_caster_rotation_joint': 3, 'fl_caster_l_wheel_joint': 4, 'fl_caster_r_wheel_joint': 5, 'fr_caster_rotation_joint': 6, 'fr_caster_l_wheel_joint': 7, 'fr_caster_r_wheel_joint': 8, 'bl_caster_rotation_joint': 9, 'bl_caster_l_wheel_joint': 10, 'bl_caster_r_wheel_joint': 11, 'br_caster_rotation_joint': 12, 'br_caster_l_wheel_joint': 13, 'br_caster_r_wheel_joint': 14, 'torso_lift_joint': 15, 'l_torso_lift_side_plate_joint': 16, 'r_torso_lift_side_plate_joint': 17, 'imu_joint': 18, 'head_pan_joint': 19, 'head_tilt_joint': 20, 'head_plate_frame_joint': 21, 'sensor_mount_frame_joint': 22, 'high_def_frame_joint': 23, 'high_def_optical_frame_joint': 24, 'double_stereo_frame_joint': 25, 'wide_stereo_frame_joint': 26, 'wide_stereo_optical_frame_joint': 27, 'wide_stereo_l_stereo_camera_frame_joint': 28, 'wide_stereo_l_stereo_camera_optical_frame_joint': 29, 'wide_stereo_r_stereo_camera_frame_joint': 30, 'wide_stereo_r_stereo_camera_optical_frame_joint': 31, 'narrow_stereo_frame_joint': 32, 'narrow_stereo_optical_frame_joint': 33, 'narrow_stereo_l_stereo_camera_frame_joint': 34, 'narrow_stereo_l_stereo_camera_optical_frame_joint': 35, 'narrow_stereo_r_stereo_camera_frame_joint': 36, 'narrow_stereo_r_stereo_camera_optical_frame_joint': 37, 'projector_wg6802418_frame_joint': 38, 'projector_wg6802418_child_frame_joint': 39, 'laser_tilt_mount_joint': 40, 'laser_tilt_joint': 41, 'r_shoulder_pan_joint': 42, 'r_shoulder_lift_joint': 43, 'r_upper_arm_roll_joint': 44, 'r_upper_arm_joint': 45, 'r_elbow_flex_joint': 46, 'r_forearm_roll_joint': 47, 'r_forearm_joint': 48, 'r_wrist_flex_joint': 49, 'r_wrist_roll_joint': 50, 'r_gripper_palm_joint': 51, 'r_gripper_led_joint': 52, 'r_gripper_motor_accelerometer_joint': 53, 'r_gripper_tool_joint': 54, 'r_gripper_motor_slider_joint': 55, 'r_gripper_motor_screw_joint': 56, 'r_gripper_l_finger_joint': 57, 'r_gripper_l_finger_tip_joint': 58, 'r_gripper_r_finger_joint': 59, 'r_gripper_r_finger_tip_joint': 60, 'r_gripper_joint': 61, 'r_forearm_cam_frame_joint': 62, 'r_forearm_cam_optical_frame_joint': 63, 'l_shoulder_pan_joint': 64, 'l_shoulder_lift_joint': 65, 'l_upper_arm_roll_joint': 66, 'l_upper_arm_joint': 67, 'l_elbow_flex_joint': 68, 'l_forearm_roll_joint': 69, 'l_forearm_joint': 70, 'l_wrist_flex_joint': 71, 'l_wrist_roll_joint': 72, 'l_gripper_palm_joint': 73, 'l_gripper_led_joint': 74, 'l_gripper_motor_accelerometer_joint': 75, 'l_gripper_tool_joint': 76, 'l_gripper_motor_slider_joint': 77, 'l_gripper_motor_screw_joint': 78, 'l_gripper_l_finger_joint': 79, 'l_gripper_l_finger_tip_joint': 80, 'l_gripper_r_finger_joint': 81, 'l_gripper_r_finger_tip_joint': 82, 'l_gripper_joint': 83, 'l_forearm_cam_frame_joint': 84, 'l_forearm_cam_optical_frame_joint': 85, 'torso_lift_motor_screw_joint': 86}, links={'base_link': 0, 'base_bellow_link': 1, 'base_laser_link': 2, 'fl_caster_rotation_link': 3, 'fl_caster_l_wheel_link': 4, 'fl_caster_r_wheel_link': 5, 'fr_caster_rotation_link': 6, 'fr_caster_l_wheel_link': 7, 'fr_caster_r_wheel_link': 8, 'bl_caster_rotation_link': 9, 'bl_caster_l_wheel_link': 10, 'bl_caster_r_wheel_link': 11, 'br_caster_rotation_link': 12, 'br_caster_l_wheel_link': 13, 'br_caster_r_wheel_link': 14, 'torso_lift_link': 15, 'l_torso_lift_side_plate_link': 16, 'r_torso_lift_side_plate_link': 17, 'imu_link': 18, 'head_pan_link': 19, 'head_tilt_link': 20, 'head_plate_frame': 21, 'sensor_mount_link': 22, 'high_def_frame': 23, 'high_def_optical_frame': 24, 'double_stereo_link': 25, 'wide_stereo_link': 26, 'wide_stereo_optical_frame': 27, 'wide_stereo_l_stereo_camera_frame': 28, 'wide_stereo_l_stereo_camera_optical_frame': 29, 'wide_stereo_r_stereo_camera_frame': 30, 'wide_stereo_r_stereo_camera_optical_frame': 31, 'narrow_stereo_link': 32, 'narrow_stereo_optical_frame': 33, 'narrow_stereo_l_stereo_camera_frame': 34, 'narrow_stereo_l_stereo_camera_optical_frame': 35, 'narrow_stereo_r_stereo_camera_frame': 36, 'narrow_stereo_r_stereo_camera_optical_frame': 37, 'projector_wg6802418_frame': 38, 'projector_wg6802418_child_frame': 39, 'laser_tilt_mount_link': 40, 'laser_tilt_link': 41, 'r_shoulder_pan_link': 42, 'r_shoulder_lift_link': 43, 'r_upper_arm_roll_link': 44, 'r_upper_arm_link': 45, 'r_elbow_flex_link': 46, 'r_forearm_roll_link': 47, 'r_forearm_link': 48, 'r_wrist_flex_link': 49, 'r_wrist_roll_link': 50, 'r_gripper_palm_link': 51, 'r_gripper_led_frame': 52, 'r_gripper_motor_accelerometer_link': 53, 'r_gripper_tool_frame': 54, 'r_gripper_motor_slider_link': 55, 'r_gripper_motor_screw_link': 56, 'r_gripper_l_finger_link': 57, 'r_gripper_l_finger_tip_link': 58, 'r_gripper_r_finger_link': 59, 'r_gripper_r_finger_tip_link': 60, 'r_gripper_l_finger_tip_frame': 61, 'r_forearm_cam_frame': 62, 'r_forearm_cam_optical_frame': 63, 'l_shoulder_pan_link': 64, 'l_shoulder_lift_link': 65, 'l_upper_arm_roll_link': 66, 'l_upper_arm_link': 67, 'l_elbow_flex_link': 68, 'l_forearm_roll_link': 69, 'l_forearm_link': 70, 'l_wrist_flex_link': 71, 'l_wrist_roll_link': 72, 'l_gripper_palm_link': 73, 'l_gripper_led_frame': 74, 'l_gripper_motor_accelerometer_link': 75, 'l_gripper_tool_frame': 76, 'l_gripper_motor_slider_link': 77, 'l_gripper_motor_screw_link': 78, 'l_gripper_l_finger_link': 79, 'l_gripper_l_finger_tip_link': 80, 'l_gripper_r_finger_link': 81, 'l_gripper_r_finger_tip_link': 82, 'l_gripper_l_finger_tip_frame': 83, 'l_forearm_cam_frame': 84, 'l_forearm_cam_optical_frame': 85, 'torso_lift_motor_screw_link': 86}, attachments={}, cids={}, original_pose=[[0, 0, 0], [0, 0, 0, 1]], base_origin_shift=[ 0.      0.     -0.0695]), Object(world=<pycram.bullet_world.BulletWorld object at 0x7f1de6c3da30>, name=milk, type=milk, color=[1, 1, 1, 1], id=3, path=/home/tom_sch/catkin_ws/src/pycram/src/pycram/../../resources/cached/milk.urdf, joints={}, links={}, attachments={}, cids={}, original_pose=[[0, 0, 0.75], [0, 0, 0, 1]], base_origin_shift=[ 4.15300950e-04 -6.29518181e-05  8.96554102e-02])]\n",
      "JPTCostmapLocation.Location(pose=([0.6717722562632008, 0.15865658340275082, 0], [-0.0, 0.0, 0.9932838074911903, -0.11570340433973396]), reachable_arm='right', torso_height=0.08560118222333768, grasp='right')\n",
      "JPTCostmapLocation.Location(pose=([0.6774491424979121, 0.02759013649180421, 0], [-0.0, 0.0, 0.9997929050815721, -0.02035060069262048]), reachable_arm='right', torso_height=0.08681371004710747, grasp='right')\n",
      "JPTCostmapLocation.Location(pose=([0.6872040326947457, 0.1328684725571341, 0], [-0.0, 0.0, 0.9954438248804584, -0.09534983747948053]), reachable_arm='right', torso_height=0.08343686179347609, grasp='right')\n",
      "JPTCostmapLocation.Location(pose=([0.6885868350556315, 0.043439695360448075, 0], [-0.0, 0.0, 0.9995038877656671, -0.031495687662230515]), reachable_arm='right', torso_height=0.08819491093088261, grasp='right')\n",
      "JPTCostmapLocation.Location(pose=([0.672349228459662, 0.069306761140624, 0], [-0.0, 0.0, 0.9986813986260605, -0.0513367708206857]), reachable_arm='right', torso_height=0.08729420176212455, grasp='right')\n",
      "JPTCostmapLocation.Location(pose=([0.6727026086161337, -0.021727485895459912, 0], [0.0, 0.0, 0.9998696919019244, 0.01614308570102434]), reachable_arm='right', torso_height=0.08688330079039808, grasp='right')\n",
      "JPTCostmapLocation.Location(pose=([0.6852212426429676, 0.13238979409671184, 0], [-0.0, 0.0, 0.9954502153311414, -0.095283098171629]), reachable_arm='right', torso_height=0.08511743888680579, grasp='right')\n",
      "JPTCostmapLocation.Location(pose=([0.6614779048808609, -0.02053753739140721, 0], [0.0, 0.0, 0.9998795828446181, 0.015518370097165368]), reachable_arm='right', torso_height=0.08852377538094247, grasp='right')\n",
      "JPTCostmapLocation.Location(pose=([0.6705173660633762, 0.12621435254179694, 0], [-0.0, 0.0, 0.9956759597880798, -0.09289447292539135]), reachable_arm='right', torso_height=0.08236146906070696, grasp='right')\n",
      "JPTCostmapLocation.Location(pose=([0.6916700501759414, 0.015071927513568575, 0], [-0.0, 0.0, 0.9999406654134451, -0.010893376543416367]), reachable_arm='right', torso_height=0.08464288011767296, grasp='right')\n",
      "JPTCostmapLocation.Location(pose=([0.6714942531098896, 0.15805534764158785, 0], [-0.0, 0.0, 0.9933274486307602, -0.11532813965682705]), reachable_arm='right', torso_height=0.08169848571977656, grasp='right')\n",
      "JPTCostmapLocation.Location(pose=([0.6658266575947996, 0.04312363181182241, 0], [-0.0, 0.0, 0.9994771607810823, -0.032332724552480666]), reachable_arm='right', torso_height=0.0854379625554953, grasp='right')\n",
      "JPTCostmapLocation.Location(pose=([0.6683063768232904, 0.12140289287895945, 0], [-0.0, 0.0, 0.9959662935500186, -0.08972815674156073]), reachable_arm='right', torso_height=0.0850926271623289, grasp='right')\n",
      "JPTCostmapLocation.Location(pose=([0.6703180761155388, 0.06521017573117131, 0], [-0.0, 0.0, 0.9988246562553559, -0.048469640563658156]), reachable_arm='right', torso_height=0.08838447139397743, grasp='right')\n",
      "JPTCostmapLocation.Location(pose=([0.6867980262045618, 0.07197721814229895, 0], [-0.0, 0.0, 0.9986373684358352, -0.052186266043376096]), reachable_arm='right', torso_height=0.08480593463658748, grasp='right')\n",
      "JPTCostmapLocation.Location(pose=([0.6664262585385408, 0.15672359379418588, 0], [-0.0, 0.0, 0.9933388284898688, -0.11523008207224007]), reachable_arm='right', torso_height=0.08309275187625875, grasp='right')\n",
      "JPTCostmapLocation.Location(pose=([0.6690126588747703, 0.06937114780113537, 0], [-0.0, 0.0, 0.9986658523427348, -0.051638312952294284]), reachable_arm='right', torso_height=0.0838459533273005, grasp='right')\n",
      "JPTCostmapLocation.Location(pose=([0.6739724957347459, 0.1501553985385838, 0], [-0.0, 0.0, 0.993999303715037, -0.10938639867013479]), reachable_arm='right', torso_height=0.08263258510158844, grasp='right')\n",
      "JPTCostmapLocation.Location(pose=([0.6566654655030301, 0.1207112014160398, 0], [-0.0, 0.0, 0.9958716691413066, -0.09077234491687336]), reachable_arm='right', torso_height=0.08150612984040706, grasp='right')\n",
      "JPTCostmapLocation.Location(pose=([0.6872628855900286, -0.0024364141230584363, 0], [0.0, 0.0, 0.9999984290487987, 0.0017725405311955745]), reachable_arm='right', torso_height=0.08232184557898525, grasp='right')\n",
      "JPTCostmapLocation.Location(pose=([0.6556787458267899, 0.05548545900498411, 0], [-0.0, 0.0, 0.9991092522086258, -0.042198366687829884]), reachable_arm='right', torso_height=0.08404394361349043, grasp='right')\n",
      "JPTCostmapLocation.Location(pose=([0.6826075199835068, 0.11306923761376086, 0], [-0.0, 0.0, 0.9966336298318638, -0.08198419291646102]), reachable_arm='right', torso_height=0.08835987338544393, grasp='right')\n",
      "JPTCostmapLocation.Location(pose=([0.6548649150205602, 0.00780775545524133, 0], [-0.0, 0.0, 0.9999822329006477, -0.005961030366873903]), reachable_arm='right', torso_height=0.08236633428941065, grasp='right')\n",
      "JPTCostmapLocation.Location(pose=([0.656621869230933, 0.0025641436640866863, 0], [-0.0, 0.0, 0.999998093839428, -0.0019525156876603336]), reachable_arm='right', torso_height=0.08259254520456982, grasp='right')\n",
      "JPTCostmapLocation.Location(pose=([0.6796289656596861, 0.15424631913291773, 0], [-0.0, 0.0, 0.9937805148356239, -0.11135658190265303]), reachable_arm='right', torso_height=0.08282533738971931, grasp='right')\n",
      "JPTCostmapLocation.Location(pose=([0.6790771337580672, 0.00782418731158293, 0], [-0.0, 0.0, 0.9999834075452211, -0.005760610579470359]), reachable_arm='right', torso_height=0.08706951239092353, grasp='right')\n",
      "JPTCostmapLocation.Location(pose=([0.6543029746407755, 0.07086211759743953, 0], [-0.0, 0.0, 0.9985455582173264, -0.053914452278104444]), reachable_arm='right', torso_height=0.0886787591292707, grasp='right')\n",
      "JPTCostmapLocation.Location(pose=([0.6910840527424005, 0.12661439504136426, 0], [-0.0, 0.0, 0.9958985502035931, -0.09047694569547236]), reachable_arm='right', torso_height=0.08195536190426611, grasp='right')\n",
      "JPTCostmapLocation.Location(pose=([0.6861452847505756, 0.16001449314201868, 0], [-0.0, 0.0, 0.9934455789221768, -0.11430608785178964]), reachable_arm='right', torso_height=0.08391835032611361, grasp='right')\n",
      "JPTCostmapLocation.Location(pose=([0.6580893084392675, -0.0025802574078271773, 0], [0.0, 0.0, 0.9999980784051776, 0.001960404537880502]), reachable_arm='right', torso_height=0.08845556538145893, grasp='right')\n",
      "JPTCostmapLocation.Location(pose=([0.6542013107734104, 0.08994321866202343, 0], [-0.0, 0.0, 0.9976674729811293, -0.06826136063284666]), reachable_arm='right', torso_height=0.08609162909385304, grasp='right')\n",
      "JPTCostmapLocation.Location(pose=([0.6585645832268291, 0.13182818916265845, 0], [-0.0, 0.0, 0.99512503129342, -0.09862135718631014]), reachable_arm='right', torso_height=0.08606668174612586, grasp='right')\n",
      "JPTCostmapLocation.Location(pose=([0.6869784249539458, 0.08810453978386447, 0], [-0.0, 0.0, 0.9979669660550387, -0.06373330889653711]), reachable_arm='right', torso_height=0.08205942325426296, grasp='right')\n",
      "JPTCostmapLocation.Location(pose=([0.6890471764929609, 0.1606771439669676, 0], [-0.0, 0.0, 0.9934466875473641, -0.114296452268519]), reachable_arm='right', torso_height=0.08223635951988428, grasp='right')\n",
      "JPTCostmapLocation.Location(pose=([0.6758833221360944, 0.07634159420168891, 0], [-0.0, 0.0, 0.9984191123205162, -0.0562074385923473]), reachable_arm='right', torso_height=0.08864955936807273, grasp='right')\n",
      "JPTCostmapLocation.Location(pose=([0.6629084804587568, 0.12376456950994572, 0], [-0.0, 0.0, 0.9957445597138906, -0.0921562358182565]), reachable_arm='right', torso_height=0.08348874434337206, grasp='right')\n",
      "JPTCostmapLocation.Location(pose=([0.6768121294151888, 0.0801920325299675, 0], [-0.0, 0.0, 0.9982619180679208, -0.05893337709105048]), reachable_arm='right', torso_height=0.08650443160662846, grasp='right')\n",
      "JPTCostmapLocation.Location(pose=([0.6907709999357798, 0.005291302982396561, 0], [-0.0, 0.0, 0.9999926658538297, -0.003829913647963759]), reachable_arm='right', torso_height=0.0844395513821562, grasp='right')\n",
      "JPTCostmapLocation.Location(pose=([0.6797142858938517, 0.1620285521417139, 0], [-0.0, 0.0, 0.993162707359744, -0.11673832579690106]), reachable_arm='right', torso_height=0.08590479658938921, grasp='right')\n",
      "JPTCostmapLocation.Location(pose=([0.687786328956741, 0.016825245559231657, 0], [-0.0, 0.0, 0.9999252266005215, -0.012228704260701434]), reachable_arm='right', torso_height=0.08849295108431654, grasp='right')\n",
      "JPTCostmapLocation.Location(pose=([0.6765357469256514, 0.05382463698611069, 0], [-0.0, 0.0, 0.9992122179411047, -0.03968555804342675]), reachable_arm='right', torso_height=0.0820848409875149, grasp='right')\n",
      "JPTCostmapLocation.Location(pose=([0.6539280124318729, 0.06324133869704293, 0], [-0.0, 0.0, 0.9988383611336106, -0.04818639152211918]), reachable_arm='right', torso_height=0.08655562704803299, grasp='right')\n",
      "JPTCostmapLocation.Location(pose=([0.6793465000916803, -0.007256528940559462, 0], [0.0, 0.0, 0.9999857389623469, 0.005340587226994584]), reachable_arm='right', torso_height=0.0877445768959021, grasp='right')\n",
      "JPTCostmapLocation.Location(pose=([0.6791788977738993, 0.08375555245933743, 0], [-0.0, 0.0, 0.9981186986983435, -0.061311200516101]), reachable_arm='right', torso_height=0.08166765940351528, grasp='right')\n",
      "JPTCostmapLocation.Location(pose=([0.6613031329333956, -0.019012401579737274, 0], [0.0, 0.0, 0.999896739051744, 0.014370498727893866]), reachable_arm='right', torso_height=0.08545810983046764, grasp='right')\n",
      "JPTCostmapLocation.Location(pose=([0.6659357143992612, 0.13843843311929963, 0], [-0.0, 0.0, 0.9947532004514593, -0.10230381318200589]), reachable_arm='right', torso_height=0.0842771446395677, grasp='right')\n",
      "JPTCostmapLocation.Location(pose=([0.6690220600484292, 0.0128204821477605, 0], [-0.0, 0.0, 0.9999541089254639, -0.009580190138069461]), reachable_arm='right', torso_height=0.08641318491431005, grasp='right')\n",
      "JPTCostmapLocation.Location(pose=([0.6694109410485446, -0.0006167371344995044, 0], [0.0, 0.0, 0.999999893897811, 0.00046065645209051096]), reachable_arm='right', torso_height=0.0860098689912, grasp='right')\n",
      "JPTCostmapLocation.Location(pose=([0.6629969928612174, 0.00706706939999701, 0], [-0.0, 0.0, 0.9999857985828183, -0.005329412039164684]), reachable_arm='right', torso_height=0.08689971094819327, grasp='right')\n",
      "JPTCostmapLocation.Location(pose=([0.6861342815226747, 0.11807145635499278, 0], [-0.0, 0.0, 0.9963721169507733, -0.08510349324812987]), reachable_arm='right', torso_height=0.08811375980676062, grasp='right')\n",
      "JPTCostmapLocation.Location(pose=([0.681959015347008, 0.13878647000784633, 0], [-0.0, 0.0, 0.9949656724295737, -0.10021631946328013]), reachable_arm='right', torso_height=0.0885661190426692, grasp='right')\n",
      "JPTCostmapLocation.Location(pose=([0.6729622418076402, 0.08228571369823483, 0], [-0.0, 0.0, 0.9981501240162538, -0.06079744999864033]), reachable_arm='right', torso_height=0.08748420498380605, grasp='right')\n",
      "JPTCostmapLocation.Location(pose=([0.6580428295753306, 0.09750687750783021, 0], [-0.0, 0.0, 0.9972961722536526, -0.07348703836876824]), reachable_arm='right', torso_height=0.08714688419647054, grasp='right')\n",
      "JPTCostmapLocation.Location(pose=([0.6556744279193136, -0.0038199491397503844, 0], [0.0, 0.0, 0.9999957573368885, 0.00291295523872399]), reachable_arm='right', torso_height=0.08496739901121286, grasp='right')\n",
      "JPTCostmapLocation.Location(pose=([0.6784862115363951, 0.09441554337102925, 0], [-0.0, 0.0, 0.997611188470604, -0.06907906078015903]), reachable_arm='right', torso_height=0.08861664744733555, grasp='right')\n",
      "JPTCostmapLocation.Location(pose=([0.6588446666261107, 0.006917511567475797, 0], [-0.0, 0.0, 0.9999862212183306, -0.005249511737675812]), reachable_arm='right', torso_height=0.08749268573455682, grasp='right')\n",
      "JPTCostmapLocation.Location(pose=([0.6817624964345266, 0.086004930669923, 0], [-0.0, 0.0, 0.9980322410459948, -0.06270283751720905]), reachable_arm='right', torso_height=0.08701605659093836, grasp='right')\n",
      "JPTCostmapLocation.Location(pose=([0.6645707182031394, 0.12345898643460684, 0], [-0.0, 0.0, 0.9957857333562047, -0.09171026793247095]), reachable_arm='right', torso_height=0.0849699769128015, grasp='right')\n",
      "JPTCostmapLocation.Location(pose=([0.6922818737018251, 0.06937759485481855, 0], [-0.0, 0.0, 0.9987531991917364, -0.04992040769336435]), reachable_arm='right', torso_height=0.08426917191096317, grasp='right')\n",
      "JPTCostmapLocation.Location(pose=([0.6827410415968389, 0.11790635583212047, 0], [-0.0, 0.0, 0.9963467234597158, -0.08540027313240142]), reachable_arm='right', torso_height=0.08629773483760117, grasp='right')\n",
      "JPTCostmapLocation.Location(pose=([0.6709881163103405, 0.10290143446235236, 0], [-0.0, 0.0, 0.9971068380663717, -0.07601285076408092]), reachable_arm='right', torso_height=0.08518595837136111, grasp='right')\n",
      "JPTCostmapLocation.Location(pose=([0.6909783083830571, 0.037930935893282225, 0], [-0.0, 0.0, 0.9996241022231096, -0.027416313658880493]), reachable_arm='right', torso_height=0.0853105228976514, grasp='right')\n",
      "JPTCostmapLocation.Location(pose=([0.6635756784199346, 0.013948407229373752, 0], [-0.0, 0.0, 0.999944786353386, -0.010508294089962535]), reachable_arm='right', torso_height=0.08578765261812493, grasp='right')\n",
      "JPTCostmapLocation.Location(pose=([0.6774065428867846, 0.09323741269623927, 0], [-0.0, 0.0, 0.9976623368891051, -0.06833638527877905]), reachable_arm='right', torso_height=0.0876462727909062, grasp='right')\n",
      "JPTCostmapLocation.Location(pose=([0.6688207091253267, 0.08747997796893925, 0], [-0.0, 0.0, 0.9978863262734753, -0.06498368900291246]), reachable_arm='right', torso_height=0.08628833562219151, grasp='right')\n",
      "JPTCostmapLocation.Location(pose=([0.6928536739274904, 0.10621476683285941, 0], [-0.0, 0.0, 0.9971089775593032, -0.0759847805197929]), reachable_arm='right', torso_height=0.08785687620619065, grasp='right')\n",
      "JPTCostmapLocation.Location(pose=([0.6605765469458854, 0.05433338881162854, 0], [-0.0, 0.0, 0.9991582496150868, -0.04102185059350665]), reachable_arm='right', torso_height=0.08706502347525291, grasp='right')\n",
      "JPTCostmapLocation.Location(pose=([0.66407827037765, 0.08928443072075098, 0], [-0.0, 0.0, 0.9977681335229018, -0.06677388506163683]), reachable_arm='right', torso_height=0.08156229052230513, grasp='right')\n",
      "JPTCostmapLocation.Location(pose=([0.6868785505479388, 0.010222149075431237, 0], [-0.0, 0.0, 0.9999723198523024, -0.007440398457381233]), reachable_arm='right', torso_height=0.08415279743819404, grasp='right')\n",
      "JPTCostmapLocation.Location(pose=([0.6741970802988523, 0.058727324836339204, 0], [-0.0, 0.0, 0.9990564634019006, -0.04343020763117481]), reachable_arm='right', torso_height=0.08579872727704352, grasp='right')\n",
      "JPTCostmapLocation.Location(pose=([0.6551323181185923, 0.002593189396680233, 0], [-0.0, 0.0, 0.9999980415352406, -0.0019791224527796534]), reachable_arm='right', torso_height=0.08398069920905549, grasp='right')\n",
      "JPTCostmapLocation.Location(pose=([0.6610129628964092, 0.08466601940790879, 0], [-0.0, 0.0, 0.9979721073428236, -0.06365275300977714]), reachable_arm='right', torso_height=0.08192339230132129, grasp='right')\n",
      "JPTCostmapLocation.Location(pose=([0.6681067222751003, 0.02203538400772309, 0], [-0.0, 0.0, 0.9998641264447838, -0.016484193908388886]), reachable_arm='right', torso_height=0.0874487627260252, grasp='right')\n"
     ]
    }
   ],
   "source": [
    "ProcessModule.execution_delay = True\n",
    "\n",
    "world = BulletWorld(\"GUI\")\n",
    "robot = BulletWorldObject(\"pr2\", \"robot\", \"pr2.urdf\")\n",
    "\n",
    "cereal = BulletWorldObject(\"milk\", \"milk\", \"milk.stl\", position=[0, 0, 0.75])\n",
    "\n",
    "cml = JPTCostmapLocation(cereal, reachable_for=robot, model=model)\n",
    "\n",
    "with simulated_robot:\n",
    "    for sample in iter(cml):\n",
    "\n",
    "        ParkArmsAction.Action(pycram.enums.Arms.BOTH).perform()\n",
    "        NavigateAction.Action(sample.pose).perform()\n",
    "        MoveTorsoAction.Action(sample.torso_height).perform()\n",
    "        try:\n",
    "            PickUpAction.Action(\n",
    "                ObjectDesignatorDescription(types=[\"milk\"]).resolve(),\n",
    "                arm=sample.reachable_arm, grasp=sample.grasp).perform()\n",
    "            time.sleep(5)\n",
    "        except pycram.plan_failures.PlanFailure as p:\n",
    "            continue\n",
    "        break\n",
    "world.exit()"
   ],
   "metadata": {
    "collapsed": false,
    "ExecuteTime": {
     "start_time": "2023-06-08T13:35:55.760044315Z"
    }
   }
  },
  {
   "cell_type": "markdown",
   "source": [
    "Congratulations, you made the PR2 learn how to grasp objects.\n",
    "Yeehaaw!🤠"
   ],
   "metadata": {
    "collapsed": false
   }
  }
 ],
 "metadata": {
  "kernelspec": {
   "name": "pycram",
   "language": "python",
   "display_name": "pycram"
  },
  "language_info": {
   "codemirror_mode": {
    "name": "ipython",
    "version": 2
   },
   "file_extension": ".py",
   "mimetype": "text/x-python",
   "name": "python",
   "nbconvert_exporter": "python",
   "pygments_lexer": "ipython2",
   "version": "2.7.6"
  }
 },
 "nbformat": 4,
 "nbformat_minor": 0
}
