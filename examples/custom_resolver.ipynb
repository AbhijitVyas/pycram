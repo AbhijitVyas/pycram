{
 "cells": [
  {
   "cell_type": "markdown",
   "metadata": {},
   "source": [
    "# Creating a custom Location Costmap\n",
    "\n",
    "In this tutorial we will walk through the creation of a costmap through machine learning.\n",
    "First we need to gather a lot of data. For that we will write a randomized experiment for grasping a couple of objects.\n",
    "In the experiment the robot will try to grasp a randomized object using random poses and torso heights."
   ]
  },
  {
   "cell_type": "code",
   "execution_count": null,
   "metadata": {
    "ExecuteTime": {
     "end_time": "2023-09-28T12:09:37.151295524Z",
     "start_time": "2023-09-28T12:09:35.275798628Z"
    },
    "tags": []
   },
   "outputs": [],
   "source": [
    "!pip install --upgrade pyjpt\n",
    "!pip install matplotlib==3.5"
   ]
  },
  {
   "cell_type": "code",
   "execution_count": null,
   "metadata": {
    "ExecuteTime": {
     "end_time": "2023-09-28T12:09:37.641997145Z",
     "start_time": "2023-09-28T12:09:37.160037427Z"
    },
    "tags": []
   },
   "outputs": [],
   "source": [
    "import itertools\n",
    "import time\n",
    "from typing import Optional, List, Tuple\n",
    "\n",
    "import numpy as np\n",
    "\n",
    "import sqlalchemy.orm\n",
    "import tf\n",
    "import tqdm\n",
    "\n",
    "import pycram.orm.base\n",
    "import pycram.task\n",
    "from pycram.bullet_world import BulletWorld, Object as BulletWorldObject\n",
    "from pycram.designators.action_designator import MoveTorsoAction, PickUpAction, NavigateAction, ParkArmsAction\n",
    "from pycram.designators.object_designator import ObjectDesignatorDescription\n",
    "import pycram.enums\n",
    "from pycram.plan_failures import PlanFailure\n",
    "from pycram.process_module import ProcessModule\n",
    "\n",
    "from pycram.process_module import simulated_robot\n",
    "import sqlalchemy.orm\n",
    "from pycram.resolver.location.jpt_location import JPTCostmapLocation\n",
    "from pycram.orm.base import Position, RobotState\n",
    "from pycram.orm.task import TaskTreeNode, Code\n",
    "from pycram.orm.action_designator import PickUpAction as ORMPickUpAction\n",
    "from pycram.orm.object_designator import ObjectDesignator\n",
    "import sqlalchemy.sql\n",
    "import pandas as pd\n",
    "\n",
    "from pycram.pose import Pose\n",
    "\n",
    "np.random.seed(420)\n",
    "\n",
    "ProcessModule.execution_delay = False\n",
    "pycram.orm.base.MetaData().description = \"Tutorial for learning from experience in a Grasping action.\""
   ]
  },
  {
   "cell_type": "code",
   "execution_count": null,
   "metadata": {
    "tags": []
   },
   "outputs": [],
   "source": [
    "robot_name = \"pr2\""
   ]
  },
  {
   "cell_type": "code",
   "execution_count": null,
   "metadata": {},
   "outputs": [],
   "source": [
    "########## TODO: Retructure Grasping Explorer\n",
    "# pull out functions in the format of previous plan construction"
   ]
  },
  {
   "cell_type": "code",
   "execution_count": null,
   "metadata": {
    "tags": []
   },
   "outputs": [],
   "source": [
    "class GraspingExplorer:\n",
    "    \"\"\"Class to try randomized grasping plans.\"\"\"\n",
    "\n",
    "    world: Optional[BulletWorld]\n",
    "    \n",
    "    def __init__(self, \n",
    "                 robots: Optional[List[Tuple[str, str]]] = None,\n",
    "                 objects: Optional[List[Tuple[str, str]]] = None,\n",
    "                 arms: Optional[List[str]] = None, \n",
    "                 grasps: Optional[List[str]] = None,\n",
    "                 samples_per_scenario: int = 1000):\n",
    "        \"\"\"\n",
    "        Initialize the exploration space of the GraspingExplorer.\n",
    "        :param robots: The robots to use\n",
    "        :param objects: The objects to try to grasp\n",
    "        :param arms: The arms of the robot to use\n",
    "        :param grasps: The grasp orientations to use\n",
    "        :param samples_per_scenario: The number of tries per scenario.\n",
    "        \"\"\"\n",
    "        # store exploration space\n",
    "        if not robots:\n",
    "            self.robots: List[Tuple[str, str]] = [(robot_name, robot_name + \".urdf\")]\n",
    "\n",
    "        if not objects:\n",
    "            self.objects: List[Tuple[str, str]] = [(\"cereal\", \"breakfast_cereal.stl\"),\n",
    "                                                   (\"bowl\", \"bowl.stl\"),\n",
    "                                                   (\"milk\", \"milk.stl\"),\n",
    "                                                   (\"spoon\", \"spoon.stl\")]\n",
    "\n",
    "        if not arms:\n",
    "            self.arms: List[str] = [\"left\", \"right\"]\n",
    "\n",
    "        if not grasps:\n",
    "            self.grasps: List[str] = [\"left\", \"right\", \"front\", \"top\"]\n",
    "\n",
    "        # store trials per scenario\n",
    "        self.samples_per_scenario: int = samples_per_scenario\n",
    "\n",
    "        # chain hyperparameters\n",
    "        self.hyper_parameters = [self.robots, self.objects, self.arms, self.grasps]\n",
    "\n",
    "        self.total_tries = 0\n",
    "        self.total_failures = 0\n",
    "\n",
    "    def perform(self, session: sqlalchemy.orm.Session):\n",
    "        \"\"\"\n",
    "        Perform all experiments.\n",
    "        :param session: The database-session to insert the samples in.\n",
    "        \"\"\"\n",
    "\n",
    "        # create progress bar\n",
    "        progress_bar = tqdm.tqdm(\n",
    "            total=np.prod([len(p) for p in self.hyper_parameters]) * self.samples_per_scenario)\n",
    "\n",
    "        self.world = BulletWorld(\"DIRECT\")\n",
    "\n",
    "        # for every robot\n",
    "        for robot, robot_urdf in self.robots:\n",
    "\n",
    "            # spawn it\n",
    "            robot = BulletWorldObject(robot, \"robot\", robot_urdf)\n",
    "\n",
    "            # for every obj\n",
    "            for obj, obj_stl in self.objects:\n",
    "\n",
    "                # spawn it\n",
    "                bw_object = BulletWorldObject(obj, obj, obj_stl, Pose([0, 0, 0.75], [0, 0, 0, 1]))\n",
    "\n",
    "                # create object designator\n",
    "                object_designator = ObjectDesignatorDescription(names=[obj])\n",
    "\n",
    "                # for every arm and grasp pose\n",
    "                for arm, grasp in itertools.product(self.arms, self.grasps):\n",
    "                    # sample positions in 2D\n",
    "                    positions = np.random.uniform([-2, -2], [2, 2], (self.samples_per_scenario, 2))\n",
    "\n",
    "                    # for every position\n",
    "                    for position in positions:\n",
    "\n",
    "                        # set z axis to 0\n",
    "                        position = [*position, 0]\n",
    "\n",
    "                        # calculate orientation for robot to face the object\n",
    "                        angle = np.arctan2(position[1], position[0]) + np.pi\n",
    "                        orientation = list(tf.transformations.quaternion_from_euler(0, 0, angle, axes=\"sxyz\"))\n",
    "\n",
    "                        # try to execute a grasping plan\n",
    "                        with simulated_robot:\n",
    "\n",
    "                            ParkArmsAction.Action(pycram.enums.Arms.BOTH).perform()\n",
    "                            # navigate to sampled position\n",
    "                            NavigateAction([Pose(position, orientation)]).resolve().perform()\n",
    "\n",
    "                            # move torso\n",
    "                            height = np.random.uniform(0., 0.33, 1)[0]\n",
    "                            MoveTorsoAction.Action(height).perform()\n",
    "\n",
    "                            # try to pick it up\n",
    "                            try:\n",
    "                                PickUpAction(object_designator, [arm], [grasp]).resolve().perform()\n",
    "\n",
    "                            # if it fails\n",
    "                            except PlanFailure:\n",
    "\n",
    "                                # update failure stats\n",
    "                                self.total_failures += 1\n",
    "\n",
    "                            # reset BulletWorld\n",
    "                            self.world.reset_bullet_world()\n",
    "\n",
    "                            # update progress bar\n",
    "                            self.total_tries += 1\n",
    "\n",
    "                            # insert into database\n",
    "                            pycram.task.task_tree.insert(session, use_progress_bar=False)\n",
    "                            pycram.task.reset_tree()\n",
    "\n",
    "                            progress_bar.update()\n",
    "                            progress_bar.set_postfix(success_rate=(self.total_tries - self.total_failures) /\n",
    "                                                                  self.total_tries)\n",
    "\n",
    "                bw_object.remove()\n",
    "            robot.remove()\n",
    "\n",
    "        self.world.exit()"
   ]
  },
  {
   "cell_type": "markdown",
   "metadata": {},
   "source": [
    "Next we have to establish a connection to a database and execute the experiment a couple of times. Note that the (few) number of samples we generate is only for demonstrations.\n",
    "For robust and reliable machine learning millions of samples are required."
   ]
  },
  {
   "cell_type": "code",
   "execution_count": null,
   "metadata": {
    "ExecuteTime": {
     "end_time": "2023-09-28T12:09:37.655633966Z",
     "start_time": "2023-09-28T12:09:37.642944255Z"
    }
   },
   "outputs": [],
   "source": [
    "# engine = sqlalchemy.create_engine(\"sqlite+pysqlite:///:memory:\")\n",
    "# session = sqlalchemy.orm.Session(bind=engine)\n",
    "# pycram.orm.base.Base.metadata.create_all(bind=engine)\n",
    "# session.commit()\n",
    "# \n",
    "# explorer = GraspingExplorer(samples_per_scenario=30)\n",
    "# explorer.perform(session)\n"
   ]
  },
  {
   "cell_type": "markdown",
   "metadata": {},
   "source": [
    "Write the database to a file if wanted."
   ]
  },
  {
   "cell_type": "code",
   "execution_count": null,
   "metadata": {
    "ExecuteTime": {
     "end_time": "2023-09-28T12:09:37.670483503Z",
     "start_time": "2023-09-28T12:09:37.655749191Z"
    }
   },
   "outputs": [],
   "source": [
    "# import os\n",
    "# con = engine.raw_connection()\n",
    "# \n",
    "# with open(os.path.join(os.path. expanduser('~'), \"Documents\", \"costmap.dump\"), 'w') as f:\n",
    "#     for line in con.iterdump():\n",
    "#         f.write('%s\\n' % line)"
   ]
  },
  {
   "cell_type": "markdown",
   "metadata": {},
   "source": [
    "Read the database from a file instead of executing all the experiments."
   ]
  },
  {
   "cell_type": "code",
   "execution_count": null,
   "metadata": {
    "ExecuteTime": {
     "end_time": "2023-09-28T12:09:37.769519341Z",
     "start_time": "2023-09-28T12:09:37.670730684Z"
    },
    "tags": []
   },
   "outputs": [],
   "source": [
    "import os\n",
    "\n",
    "engine = sqlalchemy.create_engine(\"sqlite+pysqlite:///:memory:\")\n",
    "session = sqlalchemy.orm.Session(bind=engine)\n",
    "# pycram.orm.base.Base.metadata.create_all(bind=engine)\n",
    "session.commit()\n",
    "\n",
    "with engine.connect() as con:\n",
    "    with open(os.path.join(os.getcwd(), \"costmap.dump\")) as file:\n",
    "        raw_connection = engine.raw_connection()\n",
    "        # raw_cursor = raw_connection()\n",
    "        raw_connection.executescript(file.read())"
   ]
  },
  {
   "cell_type": "markdown",
   "metadata": {},
   "source": [
    "Next we will create a dataframe from the just created database by joining the relevant information together using the pycram.orm package.\n",
    "We will get the following columns:\n",
    "    - status of the grasping task\n",
    "    - type of the grasped object\n",
    "    - arm used to grasp\n",
    "    - grasp pose\n",
    "    - torso height relative to the object\n",
    "    - x and y coordinate of the robot relative to the object.\n",
    "\n",
    "Keep in mind that filtering before joining is always advisable, hence the subquery."
   ]
  },
  {
   "cell_type": "code",
   "execution_count": null,
   "metadata": {
    "ExecuteTime": {
     "end_time": "2023-09-28T12:09:37.814592355Z",
     "start_time": "2023-09-28T12:09:37.771034447Z"
    },
    "tags": []
   },
   "outputs": [],
   "source": [
    "robot_pos = sqlalchemy.orm.aliased(Position)\n",
    "object_pos = sqlalchemy.orm.aliased(Position)\n",
    "\n",
    "filtered_code = session.query(Code.id, Code.designator).filter(Code.designator != None).subquery(\"filtered_code\")\n",
    "\n",
    "query = session.query(TaskTreeNode.status, ObjectDesignator.type, ORMPickUpAction.arm, ORMPickUpAction.grasp,\n",
    "                      sqlalchemy.label(\"relative torso height\", object_pos.z - RobotState.torso_height),\n",
    "                      sqlalchemy.label(\"x\", robot_pos.x - object_pos.x),\n",
    "                      sqlalchemy.label(\"y\", robot_pos.y - object_pos.y)). \\\n",
    "    join(filtered_code, filtered_code.c.id == TaskTreeNode.id). \\\n",
    "    join(ORMPickUpAction, ORMPickUpAction.id == filtered_code.c.designator). \\\n",
    "    join(RobotState, RobotState.id == ORMPickUpAction.robot_state). \\\n",
    "    join(robot_pos, RobotState.position == robot_pos.id). \\\n",
    "    join(ObjectDesignator, ObjectDesignator.id == ORMPickUpAction.object). \\\n",
    "    join(object_pos, ObjectDesignator.position == object_pos.id)\n",
    "\n",
    "df = pd.read_sql(query.statement, session.get_bind())\n",
    "df[\"status\"] = df[\"status\"].apply(lambda x: str(x.name))\n",
    "print(df)"
   ]
  },
  {
   "cell_type": "markdown",
   "metadata": {},
   "source": [
    "Next we will define a joint probability distributions over these points using, for instance, a Joint Probability Tree."
   ]
  },
  {
   "cell_type": "code",
   "execution_count": null,
   "metadata": {
    "ExecuteTime": {
     "end_time": "2023-09-28T12:09:37.858551314Z",
     "start_time": "2023-09-28T12:09:37.814385589Z"
    },
    "tags": []
   },
   "outputs": [],
   "source": [
    "import jpt\n",
    "\n",
    "model = jpt.trees.JPT(variables=jpt.infer_from_dataframe(df, scale_numeric_types=False, precision=0.05),\n",
    "                      min_samples_leaf=10, min_impurity_improvement=0.01)\n",
    "model.fit(df)"
   ]
  },
  {
   "cell_type": "markdown",
   "metadata": {},
   "source": [
    "Finally, we will insert our model in the existing JPT-Costmap wrapper, create a toy simulation and visualize our result."
   ]
  },
  {
   "cell_type": "code",
   "execution_count": null,
   "metadata": {
    "ExecuteTime": {
     "end_time": "2023-09-28T12:09:44.510253911Z",
     "start_time": "2023-09-28T12:09:37.859635172Z"
    },
    "tags": []
   },
   "outputs": [],
   "source": [
    "ProcessModule.execution_delay = True\n",
    "\n",
    "from pycram.bullet_world import Object\n",
    "from pycram.ros.tf_broadcaster import TFBroadcaster\n",
    "from pycram.ros.viz_marker_publisher import VizMarkerPublisher\n",
    "\n",
    "world = BulletWorld()\n",
    "broadcaster = TFBroadcaster()\n",
    "v = VizMarkerPublisher()\n",
    "robot = BulletWorldObject(robot_name, \"robot\", robot_name + \".urdf\")\n",
    "\n",
    "cereal = BulletWorldObject(\"milk\", \"milk\", \"milk.stl\", pose=Pose([1, 0, 0.75], [0,0,0,1]))\n",
    "np.random.seed(420)\n",
    "cml = JPTCostmapLocation(cereal, reachable_for=robot, model=model)\n",
    "cml.visualize()\n",
    "with simulated_robot:\n",
    "    for sample in iter(cml):\n",
    "        ParkArmsAction.Action(pycram.enums.Arms.BOTH).perform()\n",
    "        NavigateAction.Action(sample.pose).perform()\n",
    "        MoveTorsoAction.Action(sample.torso_height).perform()\n",
    "        try:\n",
    "            PickUpAction.Action(\n",
    "                ObjectDesignatorDescription(types=[\"milk\"]).resolve(),\n",
    "                arm=sample.reachable_arm, grasp=sample.grasp).perform()\n",
    "            # time.sleep(5)\n",
    "        except pycram.plan_failures.PlanFailure as p:\n",
    "            continue\n",
    "        break\n",
    "world.exit()"
   ]
  },
  {
   "cell_type": "markdown",
   "metadata": {},
   "source": [
    "Congratulations, you made the PR2 learn how to grasp objects.\n",
    "Yeehaaw!🤠"
   ]
  }
 ],
 "metadata": {
  "kernelspec": {
   "display_name": "Python 3 (ipykernel)",
   "language": "python",
   "name": "python3"
  },
  "language_info": {
   "codemirror_mode": {
    "name": "ipython",
    "version": 3
   },
   "file_extension": ".py",
   "mimetype": "text/x-python",
   "name": "python",
   "nbconvert_exporter": "python",
   "pygments_lexer": "ipython3",
   "version": "3.10.6"
  }
 },
 "nbformat": 4,
 "nbformat_minor": 4
}
