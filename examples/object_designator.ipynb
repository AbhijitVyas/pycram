{
 "cells": [
  {
   "cell_type": "markdown",
   "id": "f8c9aac8",
   "metadata": {},
   "source": [
    "# Object Designator\n",
    "Object designator are used to describe objects located in the BulletWorld or the real environment and then resolve them during runtime to concrete objects.\n",
    "\n",
    "For all following examples we need a BulletWorld, so let's create one."
   ]
  },
  {
   "cell_type": "code",
   "execution_count": null,
   "id": "912cfbaf",
   "metadata": {
    "tags": []
   },
   "outputs": [],
   "source": [
    "from pycram.bullet_world import BulletWorld\n",
    "\n",
    "world = BulletWorld()"
   ]
  },
  {
   "cell_type": "markdown",
   "id": "e7914767-ce34-4558-aba4-81c89610b474",
   "metadata": {},
   "source": [
    "The following publishes the resources to RvizWeb.\n",
    "(Skip if running locally.)"
   ]
  },
  {
   "cell_type": "code",
   "execution_count": null,
   "id": "9b210b3d",
   "metadata": {
    "tags": []
   },
   "outputs": [],
   "source": [
    "from pycram.ros.tf_broadcaster import TFBroadcaster\n",
    "from pycram.ros.viz_marker_publisher import VizMarkerPublisher\n",
    "\n",
    "tf_broadcaster = TFBroadcaster()\n",
    "viz_publisher = VizMarkerPublisher()"
   ]
  },
  {
   "cell_type": "markdown",
   "id": "616c3a81",
   "metadata": {},
   "source": [
    "Object designators are different from the Object class in bullet_world.py in the way that they can describe multiple instances of similar objects and do not create objects or provide methods to manipulate them. Nethertheless, object designators contain a reference to the BulletWorld object.\n",
    "\n",
    "An object can be easily described with two parameters.\n",
    "\n",
    "   * A list of names \n",
    "   * A list of types "
   ]
  },
  {
   "cell_type": "code",
   "execution_count": null,
   "id": "22444a4e",
   "metadata": {
    "tags": []
   },
   "outputs": [],
   "source": [
    "from pycram.bullet_world import Object\n",
    "from pycram.pose import Pose\n",
    "\n",
    "Object(\"kitchen\", \"environment\", \"kitchen_no_walls.urdf\")\n",
    "\n",
    "Object(\"milk\", \"milk\", \"milk.stl\", pose=Pose([1.3, 1, 0.9]))\n",
    "Object(\"another_milk\", \"milk\", \"milk.stl\", pose=Pose([1.3, 0.8, 0.9]))\n",
    "\n",
    "Object(\"froot_loops\", \"breakfast_cereal\", \"breakfast_cereal.stl\", pose=Pose([1.3, 0.9, 0.95]))\n",
    "Object(\"spoon\", \"cutlery\", \"spoon.stl\", pose=Pose([1.3, 1.1, 0.87]))\n",
    "Object(\"bowley_the_bowl\", \"bowl\", \"bowl.stl\", pose=Pose([-0.8, 1.0, 0.9]))"
   ]
  },
  {
   "cell_type": "markdown",
   "id": "11cf3017-e4fd-459b-9c04-112d0b4ec808",
   "metadata": {},
   "source": [
    "Since designators only describe an object, we don't really know which specific object the designator is referring to."
   ]
  },
  {
   "cell_type": "code",
   "execution_count": null,
   "id": "09504e05-2a14-4bd9-af67-877b3d6467ab",
   "metadata": {
    "tags": []
   },
   "outputs": [],
   "source": [
    "from pycram.designators.object_designator import BelieveObject\n",
    "\n",
    "# This will yield an ERROR\n",
    "milk_designator = BelieveObject(types=[\"milk\"])\n",
    "milk_designator.pose"
   ]
  },
  {
   "cell_type": "markdown",
   "id": "561e188c-658d-4937-9299-f6b3635f7cb0",
   "metadata": {},
   "source": [
    "But as soon as the description is resolved into a specific object, we get its specific position. Here we resolve by querying the all-knowing perception system of the simulation."
   ]
  },
  {
   "cell_type": "code",
   "execution_count": null,
   "id": "bc43bfe8-73cf-41cb-987e-733acb608725",
   "metadata": {
    "tags": []
   },
   "outputs": [],
   "source": [
    "milk_designator = BelieveObject(types=[\"milk\"])\n",
    "milk_resolved_object = milk_designator.resolve()\n",
    "print(milk_resolved_object.name, milk_resolved_object.pose)"
   ]
  },
  {
   "cell_type": "markdown",
   "id": "119c3bb7",
   "metadata": {},
   "source": [
    "## Believe Object\n",
    "\n",
    "Object designators are used to describe objects.\n",
    "\n",
    "For the start we want an object designator only describing milk. To get all the believed objects of type 'milk', we can create an iterator and ask for the next solution in a lazy way."
   ]
  },
  {
   "cell_type": "code",
   "execution_count": null,
   "id": "202eddde",
   "metadata": {
    "tags": []
   },
   "outputs": [],
   "source": [
    "milk_designator = iter(BelieveObject(types=[\"milk\"]))\n",
    "\n",
    "print(next(milk_designator).name)\n",
    "print(next(milk_designator).name)"
   ]
  },
  {
   "cell_type": "markdown",
   "id": "10508369",
   "metadata": {},
   "source": [
    "You can also use the type to describe objects, so now we want to have an object designator that describes every food in the world. "
   ]
  },
  {
   "cell_type": "code",
   "execution_count": null,
   "id": "71205874",
   "metadata": {
    "tags": []
   },
   "outputs": [],
   "source": [
    "breakfast_object_designator = \\\n",
    "  iter(BelieveObject(types=[\"breakfast_cereal\", \"milk\"]))\n",
    "\n",
    "print(next(breakfast_object_designator).name)\n",
    "print(next(breakfast_object_designator).name)\n",
    "print(next(breakfast_object_designator).name)"
   ]
  },
  {
   "cell_type": "markdown",
   "id": "8df30e33",
   "metadata": {},
   "source": [
    "In certain usecases we want to perform tasks on all solutions of an object designator. We can iterate through every object that fits their description. Here we describe any of the four components for our bowl of cereals. "
   ]
  },
  {
   "cell_type": "code",
   "execution_count": null,
   "id": "b55baa89",
   "metadata": {
    "tags": []
   },
   "outputs": [],
   "source": [
    "from pycram.designators.object_designator import BelieveObject\n",
    "\n",
    "object_description = \\\n",
    "  BelieveObject(types=[\"milk\", \"breakfast_cereal\", \"cutlery\", \"bowl\"])\n",
    "\n",
    "for obj in object_description:\n",
    "    print(obj.name, \"-\", obj.type, \":\\n\", obj.pose, \"\\n\")"
   ]
  },
  {
   "cell_type": "markdown",
   "id": "0304f753",
   "metadata": {},
   "source": [
    "## Object Part \n",
    "Part of object designators can be used to describe describe something as part of another obeject. For example, you could describe a specific drawer as part of the kitchen. This is necessary since the drawer is no single BulletWorld Object but rather a link of the kitchen which is a BulletWorld Object."
   ]
  },
  {
   "cell_type": "code",
   "execution_count": null,
   "id": "3591cb87",
   "metadata": {
    "tags": []
   },
   "outputs": [],
   "source": [
    "from pycram.designators.object_designator import ObjectPart\n",
    "\n",
    "kitchen_desig = BelieveObject(names=[\"kitchen\"]).resolve()\n",
    "\n",
    "object_description = \\\n",
    "  ObjectPart(names=[\"sink_area_left_upper_drawer_main\"], \n",
    "             part_of=kitchen_desig)\n",
    "\n",
    "print(object_description.resolve())"
   ]
  }
 ],
 "metadata": {
  "kernelspec": {
   "display_name": "Python 3 (ipykernel)",
   "language": "python",
   "name": "python3"
  },
  "language_info": {
   "codemirror_mode": {
    "name": "ipython",
    "version": 3
   },
   "file_extension": ".py",
   "mimetype": "text/x-python",
   "name": "python",
   "nbconvert_exporter": "python",
   "pygments_lexer": "ipython3",
   "version": "3.10.6"
  }
 },
 "nbformat": 4,
 "nbformat_minor": 5
}
