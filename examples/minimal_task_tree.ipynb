{
 "cells": [
  {
   "cell_type": "markdown",
   "metadata": {},
   "source": [
    "# TaskTree Tutorial\n",
    "\n",
    "In this tutorial we will walk through the capabilities of task trees in pycram.\n",
    "\n",
    "First we have to import the necessary functionality from pycram."
   ]
  },
  {
   "cell_type": "code",
   "execution_count": 1,
   "metadata": {
    "ExecuteTime": {
     "end_time": "2023-04-28T09:45:06.870087Z",
     "start_time": "2023-04-28T09:45:06.870015Z"
    }
   },
   "outputs": [
    {
     "name": "stderr",
     "output_type": "stream",
     "text": [
      "Unknown attribute \"type\" in /robot[@name='pr2']/link[@name='base_laser_link']\n",
      "Unknown attribute \"type\" in /robot[@name='pr2']/link[@name='wide_stereo_optical_frame']\n",
      "Unknown attribute \"type\" in /robot[@name='pr2']/link[@name='narrow_stereo_optical_frame']\n",
      "Unknown attribute \"type\" in /robot[@name='pr2']/link[@name='laser_tilt_link']\n",
      "Unknown attribute \"type\" in /robot[@name='pr2']/link[@name='base_laser_link']\n",
      "Unknown attribute \"type\" in /robot[@name='pr2']/link[@name='wide_stereo_optical_frame']\n",
      "Unknown attribute \"type\" in /robot[@name='pr2']/link[@name='narrow_stereo_optical_frame']\n",
      "Unknown attribute \"type\" in /robot[@name='pr2']/link[@name='laser_tilt_link']\n"
     ]
    }
   ],
   "source": [
    "from pycram.bullet_world import BulletWorld\n",
    "from pycram.robot_descriptions import robot_description\n",
    "import pycram.task\n",
    "from pycram.enums import Arms\n",
    "from pycram.designators.action_designator import *\n",
    "from pycram.designators.location_designator import *\n",
    "from pycram.process_module import simulated_robot\n",
    "from pycram.designators.object_designator import *\n",
    "import anytree\n",
    "import pycram.plan_failures"
   ]
  },
  {
   "cell_type": "markdown",
   "metadata": {},
   "source": [
    "Next we will create a bullet world with a PR2 in a kitchen containing milk and cereal."
   ]
  },
  {
   "cell_type": "code",
   "execution_count": 2,
   "metadata": {
    "ExecuteTime": {
     "end_time": "2023-04-27T17:32:49.441717Z",
     "start_time": "2023-04-27T17:32:49.441589Z"
    }
   },
   "outputs": [],
   "source": [
    "world = BulletWorld()\n",
    "pr2 = Object(\"pr2\", \"robot\", \"pr2.urdf\")\n",
    "kitchen = Object(\"kitchen\", \"environment\", \"kitchen.urdf\")\n",
    "milk = Object(\"milk\", \"milk\", \"milk.stl\", position=[1.3, 1, 0.9])\n",
    "cereal = Object(\"cereal\", \"cereal\", \"breakfast_cereal.stl\", position=[1.3, 0.7, 0.95])\n",
    "milk_desig = ObjectDesignatorDescription(names=[\"milk\"])\n",
    "cereal_desig = ObjectDesignatorDescription(names=[\"cereal\"])\n",
    "robot_desig = ObjectDesignatorDescription(names=[\"pr2\"]).resolve()\n",
    "kitchen_desig = ObjectDesignatorDescription(names=[\"kitchen\"])"
   ]
  },
  {
   "cell_type": "markdown",
   "metadata": {},
   "source": [
    "Finally, we create a plan where the robot parks his arms, walks to the kitchen counter and picks the cereal and places it on the table. Then we execute the plan."
   ]
  },
  {
   "cell_type": "code",
   "execution_count": 3,
   "metadata": {
    "ExecuteTime": {
     "end_time": "2023-04-27T17:32:58.124468Z",
     "start_time": "2023-04-27T17:32:58.124325Z"
    }
   },
   "outputs": [],
   "source": [
    "@pycram.task.with_tree\n",
    "def plan():\n",
    "    with simulated_robot:\n",
    "        ParkArmsAction.Action(Arms.BOTH).perform()\n",
    "        MoveTorsoAction([0.3]).resolve().perform()\n",
    "        pickup_pose = CostmapLocation(target=cereal_desig.resolve(), reachable_for=robot_desig).resolve()\n",
    "        pickup_arm = pickup_pose.reachable_arms[0]\n",
    "        NavigateAction(target_locations=[pickup_pose.pose]).resolve().perform()\n",
    "        PickUpAction(object_designator_description=cereal_desig, arms=[pickup_arm], grasps=[\"front\"]).resolve().perform()\n",
    "        ParkArmsAction([Arms.BOTH]).resolve().perform()\n",
    "\n",
    "        place_island = SemanticCostmapLocation(\"kitchen_island_surface\", kitchen_desig.resolve(),\n",
    "                                           cereal_desig.resolve()).resolve()\n",
    "\n",
    "        place_stand = CostmapLocation(place_island.pose, reachable_for=robot_desig, reachable_arm=pickup_arm).resolve()\n",
    "\n",
    "        NavigateAction(target_locations=[place_stand.pose]).resolve().perform()\n",
    "\n",
    "        PlaceAction(cereal_desig, target_locations=[place_island.pose], arms=[pickup_arm]).resolve().perform()\n",
    "\n",
    "        ParkArmsAction([Arms.BOTH]).resolve().perform()\n",
    "\n",
    "        ParkArmsAction.Action(Arms.BOTH).perform()\n",
    "\n",
    "plan()\n"
   ]
  },
  {
   "cell_type": "markdown",
   "metadata": {},
   "source": [
    "Now we get the task tree from its module and render it. Rendering can be done with any render method described in the anytree package. We will use ascii rendering here for ease of displaying."
   ]
  },
  {
   "cell_type": "code",
   "execution_count": 4,
   "metadata": {
    "ExecuteTime": {
     "end_time": "2023-04-27T17:33:02.572319Z",
     "start_time": "2023-04-27T17:33:02.572253Z"
    }
   },
   "outputs": [
    {
     "name": "stdout",
     "output_type": "stream",
     "text": [
      "no_operation()\n",
      "└── plan()\n",
      "    ├── perform(self = ParkArmsAction.Action(arm=<Arms.BOTH: 3>))\n",
      "    ├── perform(self = MoveTorsoAction.Action(position=0.3))\n",
      "    ├── perform(self = NavigateAction.Action(target_location=[[0.7199999690055847, 0.6800000071525574, 0.0], [0.0, 0.0, 0.017233690238890705, 0.9998514889326064]]))\n",
      "    ├── perform(self = PickUpAction.Action(object_designator=ObjectDesignatorDescription.Object(name='cereal', type='cereal', pose=((1.3, 0.7, 0.95), (0.0, 0.0, 0.0, 1.0)), bullet_world_object=<pycram.bullet_world.Object object at 0x7fd89ef19130>), arm='left', grasp='front'))\n",
      "    ├── perform(self = ParkArmsAction.Action(arm=<Arms.BOTH: 3>))\n",
      "    ├── perform(self = NavigateAction.Action(target_location=[[-1.8875000476837158, 2.3592000007629395, 0.0], [-0.0, 0.0, 0.18653630523785847, -0.982448068260205]]))\n",
      "    ├── perform(self = PlaceAction.Action(object_designator=ObjectDesignatorDescription.Object(name='cereal', type='cereal', pose=((-1.408593773841858, 2.6620311737060547, 1.2181442975997925), (0.0005170628427157921, -0.050771690892316826, -0.3948988317449486, 0.9173204896525676)), bullet_world_object=<pycram.bullet_world.Object object at 0x7fd89ef19130>), arm='left', target_location=[[-1.2274999618530273, 2.0992000102996826, 0.962496409046294], [-0.0, 0.0, 0.553146935528803, -0.8330837099086107]]))\n",
      "    ├── perform(self = ParkArmsAction.Action(arm=<Arms.BOTH: 3>))\n",
      "    └── perform(self = ParkArmsAction.Action(arm=<Arms.BOTH: 3>))\n"
     ]
    }
   ],
   "source": [
    "tt = pycram.task.task_tree\n",
    "print(anytree.RenderTree(tt))"
   ]
  },
  {
   "cell_type": "markdown",
   "metadata": {},
   "source": [
    "As we see every task in the plan got recorded correctly. It is noticeable that the tree begins with a NoOperation node. This is done because several, not connected, plans that get executed after each other should still appear in the task tree. Hence, a NoOperation node is the root of any tree. If we re-execute the plan we would see them appear in the same tree even though they are not connected."
   ]
  },
  {
   "cell_type": "code",
   "execution_count": 7,
   "metadata": {
    "ExecuteTime": {
     "end_time": "2023-04-28T09:45:59.592864Z",
     "start_time": "2023-04-28T09:45:58.928492Z"
    }
   },
   "outputs": [
    {
     "name": "stdout",
     "output_type": "stream",
     "text": [
      "no_operation()\n",
      "├── plan()\n",
      "│   ├── perform(self = ParkArmsAction.Action(arm=<Arms.BOTH: 3>))\n",
      "│   ├── perform(self = MoveTorsoAction.Action(position=0.3))\n",
      "│   ├── perform(self = NavigateAction.Action(target_location=[[0.7199999690055847, 0.6800000071525574, 0.0], [0.0, 0.0, 0.017233690238890705, 0.9998514889326064]]))\n",
      "│   ├── perform(self = PickUpAction.Action(object_designator=ObjectDesignatorDescription.Object(name='cereal', type='cereal', pose=((1.3, 0.7, 0.95), (0.0, 0.0, 0.0, 1.0)), bullet_world_object=<pycram.bullet_world.Object object at 0x7fd89ef19130>), arm='left', grasp='front'))\n",
      "│   ├── perform(self = ParkArmsAction.Action(arm=<Arms.BOTH: 3>))\n",
      "│   ├── perform(self = NavigateAction.Action(target_location=[[-1.8875000476837158, 2.3592000007629395, 0.0], [-0.0, 0.0, 0.18653630523785847, -0.982448068260205]]))\n",
      "│   ├── perform(self = PlaceAction.Action(object_designator=ObjectDesignatorDescription.Object(name='cereal', type='cereal', pose=((-1.408593773841858, 2.6620311737060547, 1.2181442975997925), (0.0005170628427157921, -0.050771690892316826, -0.3948988317449486, 0.9173204896525676)), bullet_world_object=<pycram.bullet_world.Object object at 0x7fd89ef19130>), arm='left', target_location=[[-1.2274999618530273, 2.0992000102996826, 0.962496409046294], [-0.0, 0.0, 0.553146935528803, -0.8330837099086107]]))\n",
      "│   ├── perform(self = ParkArmsAction.Action(arm=<Arms.BOTH: 3>))\n",
      "│   └── perform(self = ParkArmsAction.Action(arm=<Arms.BOTH: 3>))\n",
      "├── plan()\n",
      "│   ├── perform(self = ParkArmsAction.Action(arm=<Arms.BOTH: 3>))\n",
      "│   └── perform(self = MoveTorsoAction.Action(position=0.3))\n",
      "├── plan()\n",
      "│   ├── perform(self = ParkArmsAction.Action(arm=<Arms.BOTH: 3>))\n",
      "│   └── perform(self = MoveTorsoAction.Action(position=0.3))\n",
      "└── plan()\n",
      "    ├── perform(self = ParkArmsAction.Action(arm=<Arms.BOTH: 3>))\n",
      "    ├── perform(self = MoveTorsoAction.Action(position=0.3))\n",
      "    ├── perform(self = NavigateAction.Action(target_location=[[0.7199999690055847, 0.6800000071525574, 0.0], [0.0, 0.0, 0.017233690238890705, 0.9998514889326064]]))\n",
      "    ├── perform(self = PickUpAction.Action(object_designator=ObjectDesignatorDescription.Object(name='cereal', type='cereal', pose=((1.3, 0.7, 0.95), (0.0, 0.0, 0.0, 1.0)), bullet_world_object=<pycram.bullet_world.Object object at 0x7fd89ef19130>), arm='left', grasp='front'))\n",
      "    ├── perform(self = ParkArmsAction.Action(arm=<Arms.BOTH: 3>))\n",
      "    ├── perform(self = NavigateAction.Action(target_location=[[-1.9075000286102295, 0.7792000770568848, 0.0], [0.0, 0.0, 0.1643989830107149, 0.9863939245479174]]))\n",
      "    ├── perform(self = PlaceAction.Action(object_designator=ObjectDesignatorDescription.Object(name='cereal', type='cereal', pose=((-1.739311695098877, 1.3202829360961914, 1.2181442975997925), (0.01802743572456121, -0.04746623640384984, -0.05363384183295179, 0.9972689601973425)), bullet_world_object=<pycram.bullet_world.Object object at 0x7fd89ef19130>), arm='left', target_location=[[-1.2074999809265137, 1.019200086593628, 0.962496409046294], [0.0, 0.0, 0.6339889056055381, 0.7733421413379024]]))\n",
      "    ├── perform(self = ParkArmsAction.Action(arm=<Arms.BOTH: 3>))\n",
      "    └── perform(self = ParkArmsAction.Action(arm=<Arms.BOTH: 3>))\n"
     ]
    }
   ],
   "source": [
    "world.reset_bullet_world()\n",
    "plan()\n",
    "print(anytree.RenderTree(tt))"
   ]
  },
  {
   "cell_type": "markdown",
   "metadata": {},
   "source": [
    "Projecting a plan in a new environment with its own task tree that only exists while the projected plan is running can be done with the ``with`` keyword. When this is done, both the bullet world and task tree are saved and new, freshly reset objects are available. At the end of a with block the old state is restored. The root for such things is then called ``simulation()``."
   ]
  },
  {
   "cell_type": "code",
   "execution_count": 8,
   "metadata": {
    "ExecuteTime": {
     "end_time": "2023-04-28T09:46:37.041421Z",
     "start_time": "2023-04-28T09:46:36.999813Z"
    }
   },
   "outputs": [
    {
     "name": "stdout",
     "output_type": "stream",
     "text": [
      "simulation()\n",
      "no_operation()\n",
      "├── plan()\n",
      "│   ├── perform(self = ParkArmsAction.Action(arm=<Arms.BOTH: 3>))\n",
      "│   ├── perform(self = MoveTorsoAction.Action(position=0.3))\n",
      "│   ├── perform(self = NavigateAction.Action(target_location=[[0.7199999690055847, 0.6800000071525574, 0.0], [0.0, 0.0, 0.017233690238890705, 0.9998514889326064]]))\n",
      "│   ├── perform(self = PickUpAction.Action(object_designator=ObjectDesignatorDescription.Object(name='cereal', type='cereal', pose=((1.3, 0.7, 0.95), (0.0, 0.0, 0.0, 1.0)), bullet_world_object=<pycram.bullet_world.Object object at 0x7fd89ef19130>), arm='left', grasp='front'))\n",
      "│   ├── perform(self = ParkArmsAction.Action(arm=<Arms.BOTH: 3>))\n",
      "│   ├── perform(self = NavigateAction.Action(target_location=[[-1.8875000476837158, 2.3592000007629395, 0.0], [-0.0, 0.0, 0.18653630523785847, -0.982448068260205]]))\n",
      "│   ├── perform(self = PlaceAction.Action(object_designator=ObjectDesignatorDescription.Object(name='cereal', type='cereal', pose=((-1.408593773841858, 2.6620311737060547, 1.2181442975997925), (0.0005170628427157921, -0.050771690892316826, -0.3948988317449486, 0.9173204896525676)), bullet_world_object=<pycram.bullet_world.Object object at 0x7fd89ef19130>), arm='left', target_location=[[-1.2274999618530273, 2.0992000102996826, 0.962496409046294], [-0.0, 0.0, 0.553146935528803, -0.8330837099086107]]))\n",
      "│   ├── perform(self = ParkArmsAction.Action(arm=<Arms.BOTH: 3>))\n",
      "│   └── perform(self = ParkArmsAction.Action(arm=<Arms.BOTH: 3>))\n",
      "├── plan()\n",
      "│   ├── perform(self = ParkArmsAction.Action(arm=<Arms.BOTH: 3>))\n",
      "│   └── perform(self = MoveTorsoAction.Action(position=0.3))\n",
      "├── plan()\n",
      "│   ├── perform(self = ParkArmsAction.Action(arm=<Arms.BOTH: 3>))\n",
      "│   └── perform(self = MoveTorsoAction.Action(position=0.3))\n",
      "└── plan()\n",
      "    ├── perform(self = ParkArmsAction.Action(arm=<Arms.BOTH: 3>))\n",
      "    ├── perform(self = MoveTorsoAction.Action(position=0.3))\n",
      "    ├── perform(self = NavigateAction.Action(target_location=[[0.7199999690055847, 0.6800000071525574, 0.0], [0.0, 0.0, 0.017233690238890705, 0.9998514889326064]]))\n",
      "    ├── perform(self = PickUpAction.Action(object_designator=ObjectDesignatorDescription.Object(name='cereal', type='cereal', pose=((1.3, 0.7, 0.95), (0.0, 0.0, 0.0, 1.0)), bullet_world_object=<pycram.bullet_world.Object object at 0x7fd89ef19130>), arm='left', grasp='front'))\n",
      "    ├── perform(self = ParkArmsAction.Action(arm=<Arms.BOTH: 3>))\n",
      "    ├── perform(self = NavigateAction.Action(target_location=[[-1.9075000286102295, 0.7792000770568848, 0.0], [0.0, 0.0, 0.1643989830107149, 0.9863939245479174]]))\n",
      "    ├── perform(self = PlaceAction.Action(object_designator=ObjectDesignatorDescription.Object(name='cereal', type='cereal', pose=((-1.739311695098877, 1.3202829360961914, 1.2181442975997925), (0.01802743572456121, -0.04746623640384984, -0.05363384183295179, 0.9972689601973425)), bullet_world_object=<pycram.bullet_world.Object object at 0x7fd89ef19130>), arm='left', target_location=[[-1.2074999809265137, 1.019200086593628, 0.962496409046294], [0.0, 0.0, 0.6339889056055381, 0.7733421413379024]]))\n",
      "    ├── perform(self = ParkArmsAction.Action(arm=<Arms.BOTH: 3>))\n",
      "    └── perform(self = ParkArmsAction.Action(arm=<Arms.BOTH: 3>))\n"
     ]
    }
   ],
   "source": [
    "with pycram.task.SimulatedTaskTree() as stt:\n",
    "    print(anytree.RenderTree(pycram.task.task_tree))\n",
    "print(anytree.RenderTree(pycram.task.task_tree))"
   ]
  },
  {
   "cell_type": "markdown",
   "metadata": {},
   "source": [
    "Task tree can be manipulated with ordinary anytree manipulation. If we for example want to discard the second plan, we would write"
   ]
  },
  {
   "cell_type": "code",
   "execution_count": 9,
   "metadata": {
    "ExecuteTime": {
     "end_time": "2023-04-28T09:46:45.637721Z",
     "start_time": "2023-04-28T09:46:45.635535Z"
    }
   },
   "outputs": [
    {
     "name": "stdout",
     "output_type": "stream",
     "text": [
      "no_operation()\n",
      "+-- plan()\n",
      "    |-- perform(self = ParkArmsAction.Action(arm=<Arms.BOTH: 3>))\n",
      "    |-- perform(self = MoveTorsoAction.Action(position=0.3))\n",
      "    |-- perform(self = NavigateAction.Action(target_location=[[0.7199999690055847, 0.6800000071525574, 0.0], [0.0, 0.0, 0.017233690238890705, 0.9998514889326064]]))\n",
      "    |-- perform(self = PickUpAction.Action(object_designator=ObjectDesignatorDescription.Object(name='cereal', type='cereal', pose=((1.3, 0.7, 0.95), (0.0, 0.0, 0.0, 1.0)), bullet_world_object=<pycram.bullet_world.Object object at 0x7fd89ef19130>), arm='left', grasp='front'))\n",
      "    |-- perform(self = ParkArmsAction.Action(arm=<Arms.BOTH: 3>))\n",
      "    |-- perform(self = NavigateAction.Action(target_location=[[-1.8875000476837158, 2.3592000007629395, 0.0], [-0.0, 0.0, 0.18653630523785847, -0.982448068260205]]))\n",
      "    |-- perform(self = PlaceAction.Action(object_designator=ObjectDesignatorDescription.Object(name='cereal', type='cereal', pose=((-1.408593773841858, 2.6620311737060547, 1.2181442975997925), (0.0005170628427157921, -0.050771690892316826, -0.3948988317449486, 0.9173204896525676)), bullet_world_object=<pycram.bullet_world.Object object at 0x7fd89ef19130>), arm='left', target_location=[[-1.2274999618530273, 2.0992000102996826, 0.962496409046294], [-0.0, 0.0, 0.553146935528803, -0.8330837099086107]]))\n",
      "    |-- perform(self = ParkArmsAction.Action(arm=<Arms.BOTH: 3>))\n",
      "    +-- perform(self = ParkArmsAction.Action(arm=<Arms.BOTH: 3>))\n"
     ]
    }
   ],
   "source": [
    "tt.root.children = (tt.root.children[0],)\n",
    "print(anytree.RenderTree(tt, style=anytree.render.AsciiStyle()))"
   ]
  },
  {
   "cell_type": "markdown",
   "metadata": {},
   "source": [
    "We can now re-execute this (modified) plan by executing the leaf in pre-ordering iteration using the anytree functionality. This will not append the re-execution to the task tree."
   ]
  },
  {
   "cell_type": "code",
   "execution_count": 10,
   "metadata": {
    "ExecuteTime": {
     "end_time": "2023-04-28T09:46:48.259716Z",
     "start_time": "2023-04-28T09:46:48.233474Z"
    }
   },
   "outputs": [
    {
     "name": "stdout",
     "output_type": "stream",
     "text": [
      "no_operation()\n",
      "+-- plan()\n",
      "    |-- perform(self = ParkArmsAction.Action(arm=<Arms.BOTH: 3>))\n",
      "    |-- perform(self = MoveTorsoAction.Action(position=0.3))\n",
      "    |-- perform(self = NavigateAction.Action(target_location=[[0.7199999690055847, 0.6800000071525574, 0.0], [0.0, 0.0, 0.017233690238890705, 0.9998514889326064]]))\n",
      "    |-- perform(self = PickUpAction.Action(object_designator=ObjectDesignatorDescription.Object(name='cereal', type='cereal', pose=((1.3, 0.7, 0.95), (0.0, 0.0, 0.0, 1.0)), bullet_world_object=<pycram.bullet_world.Object object at 0x7fd89ef19130>), arm='left', grasp='front'))\n",
      "    |-- perform(self = ParkArmsAction.Action(arm=<Arms.BOTH: 3>))\n",
      "    |-- perform(self = NavigateAction.Action(target_location=[[-1.8875000476837158, 2.3592000007629395, 0.0], [-0.0, 0.0, 0.18653630523785847, -0.982448068260205]]))\n",
      "    |-- perform(self = PlaceAction.Action(object_designator=ObjectDesignatorDescription.Object(name='cereal', type='cereal', pose=((-1.408593773841858, 2.6620311737060547, 1.2181442975997925), (0.0005170628427157921, -0.050771690892316826, -0.3948988317449486, 0.9173204896525676)), bullet_world_object=<pycram.bullet_world.Object object at 0x7fd89ef19130>), arm='left', target_location=[[-1.2274999618530273, 2.0992000102996826, 0.962496409046294], [-0.0, 0.0, 0.553146935528803, -0.8330837099086107]]))\n",
      "    |-- perform(self = ParkArmsAction.Action(arm=<Arms.BOTH: 3>))\n",
      "    +-- perform(self = ParkArmsAction.Action(arm=<Arms.BOTH: 3>))\n"
     ]
    }
   ],
   "source": [
    "world.reset_bullet_world()\n",
    "with simulated_robot:\n",
    "    [node.code.execute() for node in tt.root.leaves]\n",
    "print(anytree.RenderTree(pycram.task.task_tree, style=anytree.render.AsciiStyle()))"
   ]
  },
  {
   "cell_type": "markdown",
   "metadata": {},
   "source": [
    "Nodes in the task tree contain additional information about the status and time of a task."
   ]
  },
  {
   "cell_type": "code",
   "execution_count": 11,
   "metadata": {
    "ExecuteTime": {
     "end_time": "2023-04-28T09:46:52.656020Z",
     "start_time": "2023-04-28T09:46:52.653083Z"
    }
   },
   "outputs": [
    {
     "name": "stdout",
     "output_type": "stream",
     "text": [
      "Code: plan() \n",
      " start_time: 2023-04-28 09:45:15.542254 \n",
      " Status: TaskStatus.SUCCEEDED \n",
      " end_time: 2023-04-28 09:45:16.349187 \n",
      " \n"
     ]
    }
   ],
   "source": [
    "print(pycram.task.task_tree.children[0])"
   ]
  },
  {
   "cell_type": "markdown",
   "metadata": {},
   "source": [
    "The task tree can also be reset to an empty one by invoking"
   ]
  },
  {
   "cell_type": "code",
   "execution_count": 12,
   "metadata": {
    "ExecuteTime": {
     "end_time": "2023-04-28T09:46:55.385481Z",
     "start_time": "2023-04-28T09:46:55.381316Z"
    }
   },
   "outputs": [
    {
     "name": "stdout",
     "output_type": "stream",
     "text": [
      "no_operation()\n"
     ]
    }
   ],
   "source": [
    "pycram.task.reset_tree()\n",
    "print(anytree.RenderTree(pycram.task.task_tree, style=anytree.render.AsciiStyle()))"
   ]
  },
  {
   "cell_type": "markdown",
   "metadata": {},
   "source": [
    "If a plan fails using the PlanFailure exception, the plan will not stop. Instead, the error will be logged and saved in the task tree as a failed subtask. First let's create a simple failing plan and execute it."
   ]
  },
  {
   "cell_type": "code",
   "execution_count": 13,
   "metadata": {
    "ExecuteTime": {
     "end_time": "2023-04-28T09:46:57.445908Z",
     "start_time": "2023-04-28T09:46:57.443154Z"
    }
   },
   "outputs": [
    {
     "name": "stdout",
     "output_type": "stream",
     "text": [
      "Oopsie!\n"
     ]
    }
   ],
   "source": [
    "@pycram.task.with_tree\n",
    "def failing_plan():\n",
    "    raise pycram.plan_failures.PlanFailure(\"Oopsie!\")\n",
    "\n",
    "try:\n",
    "    failing_plan()\n",
    "except PlanFailure as e:\n",
    "    print(e)"
   ]
  },
  {
   "cell_type": "markdown",
   "metadata": {},
   "source": [
    "We can now investigate the nodes of the tree, and we will see that the tree indeed contains a failed task."
   ]
  },
  {
   "cell_type": "code",
   "execution_count": 14,
   "metadata": {
    "ExecuteTime": {
     "end_time": "2023-04-28T09:47:00.292660Z",
     "start_time": "2023-04-28T09:47:00.287579Z"
    }
   },
   "outputs": [
    {
     "name": "stdout",
     "output_type": "stream",
     "text": [
      "no_operation()\n",
      "+-- failing_plan()\n",
      "Code: failing_plan() \n",
      " start_time: 2023-04-28 09:46:57.441941 \n",
      " Status: TaskStatus.FAILED \n",
      " end_time: 2023-04-28 09:46:57.442232 \n",
      " \n"
     ]
    }
   ],
   "source": [
    "print(anytree.RenderTree(pycram.task.task_tree, style=anytree.render.AsciiStyle()))\n",
    "print(pycram.task.task_tree.children[0])"
   ]
  },
  {
   "cell_type": "code",
   "execution_count": 15,
   "metadata": {
    "ExecuteTime": {
     "end_time": "2023-04-28T09:47:03.581366Z",
     "start_time": "2023-04-28T09:47:03.447150Z"
    }
   },
   "outputs": [],
   "source": [
    "world.exit()"
   ]
  }
 ],
 "metadata": {
  "kernelspec": {
   "display_name": "Python 3",
   "language": "python",
   "name": "python3"
  },
  "language_info": {
   "codemirror_mode": {
    "name": "ipython",
    "version": 3
   },
   "file_extension": ".py",
   "mimetype": "text/x-python",
   "name": "python",
   "nbconvert_exporter": "python",
   "pygments_lexer": "ipython3",
   "version": "3.8.10"
  }
 },
 "nbformat": 4,
 "nbformat_minor": 1
}
