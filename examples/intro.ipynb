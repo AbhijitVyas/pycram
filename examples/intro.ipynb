{
 "cells": [
  {
   "cell_type": "markdown",
   "metadata": {},
   "source": [
    "# PyCRAM Presentation"
   ]
  },
  {
   "cell_type": "code",
   "execution_count": 1,
   "metadata": {
    "ExecuteTime": {
     "end_time": "2023-04-05T16:37:51.973404Z",
     "start_time": "2023-04-05T16:37:51.483749Z"
    }
   },
   "outputs": [],
   "source": [
    "import pycram"
   ]
  },
  {
   "cell_type": "markdown",
   "metadata": {},
   "source": [
    "# Bullet World\n",
    "\n",
    "The BulletWorld is the internal simulation of PyCRAM. You can simulate different actions and reason about the outcome of different actions. \n",
    "\n",
    "It is possible to spawn objects and robots into the BulletWorld, these objects can come from URDF, OBJ or STL files. \n",
    "\n",
    "A BulletWorld can be created by simply creating an object of the BulletWorld class. "
   ]
  },
  {
   "cell_type": "code",
   "execution_count": 2,
   "metadata": {
    "ExecuteTime": {
     "end_time": "2023-04-05T16:37:59.788099Z",
     "start_time": "2023-04-05T16:37:57.586879Z"
    }
   },
   "outputs": [
    {
     "name": "stderr",
     "output_type": "stream",
     "text": [
      "Unknown tag \"material\" in /robot[@name='plane']/link[@name='planeLink']/collision[1]\n",
      "Unknown tag \"contact\" in /robot[@name='plane']/link[@name='planeLink']\n",
      "Unknown tag \"material\" in /robot[@name='plane']/link[@name='planeLink']/collision[1]\n",
      "Unknown tag \"contact\" in /robot[@name='plane']/link[@name='planeLink']\n"
     ]
    }
   ],
   "source": [
    "from pycram.bullet_world import BulletWorld, Object\n",
    "\n",
    "world = BulletWorld()"
   ]
  },
  {
   "cell_type": "markdown",
   "metadata": {},
   "source": [
    "The world can also be closed with the 'exit' method"
   ]
  },
  {
   "cell_type": "code",
   "execution_count": 34,
   "metadata": {
    "ExecuteTime": {
     "end_time": "2023-04-05T16:38:04.800655Z",
     "start_time": "2023-04-05T16:38:03.943911Z"
    }
   },
   "outputs": [],
   "source": [
    "world.exit()"
   ]
  },
  {
   "cell_type": "markdown",
   "metadata": {},
   "source": [
    "The BulletWorld allows to render images from arbitrary positoins. In the following example we render images with the camera at the position [0.3, 0, 1] and pointing towards [1, 0, 1], so we are looking upwards along the x-axis. \n",
    "\n",
    "The renderer returns 3 different kinds of images which are also shown at the left side of the BulletWorld window. These images are:\n",
    "* A RGB image which shows everything like it is rendered in the BulletWorld window, just from another perspective. \n",
    "* A depth image which consists of distance values from the camera towards the objects in the field of view. \n",
    "* A segmentation mask image which segments the image into the different objects displayed. The segmentation is done by assigning every pixel the unique id of the object that is displayed there. "
   ]
  },
  {
   "cell_type": "code",
   "execution_count": 3,
   "metadata": {},
   "outputs": [
    {
     "data": {
      "text/plain": [
       "[array([[[255, 255, 255, 255],\n",
       "         [255, 255, 255, 255],\n",
       "         [255, 255, 255, 255],\n",
       "         ...,\n",
       "         [255, 255, 255, 255],\n",
       "         [255, 255, 255, 255],\n",
       "         [255, 255, 255, 255]],\n",
       " \n",
       "        [[255, 255, 255, 255],\n",
       "         [255, 255, 255, 255],\n",
       "         [255, 255, 255, 255],\n",
       "         ...,\n",
       "         [255, 255, 255, 255],\n",
       "         [255, 255, 255, 255],\n",
       "         [255, 255, 255, 255]],\n",
       " \n",
       "        [[255, 255, 255, 255],\n",
       "         [255, 255, 255, 255],\n",
       "         [255, 255, 255, 255],\n",
       "         ...,\n",
       "         [255, 255, 255, 255],\n",
       "         [255, 255, 255, 255],\n",
       "         [255, 255, 255, 255]],\n",
       " \n",
       "        ...,\n",
       " \n",
       "        [[239, 239, 239, 255],\n",
       "         [239, 239, 239, 255],\n",
       "         [239, 239, 239, 255],\n",
       "         ...,\n",
       "         [239, 239, 239, 255],\n",
       "         [239, 239, 239, 255],\n",
       "         [239, 239, 239, 255]],\n",
       " \n",
       "        [[239, 239, 239, 255],\n",
       "         [239, 239, 239, 255],\n",
       "         [239, 239, 239, 255],\n",
       "         ...,\n",
       "         [239, 239, 239, 255],\n",
       "         [239, 239, 239, 255],\n",
       "         [239, 239, 239, 255]],\n",
       " \n",
       "        [[239, 239, 239, 255],\n",
       "         [239, 239, 239, 255],\n",
       "         [239, 239, 239, 255],\n",
       "         ...,\n",
       "         [239, 239, 239, 255],\n",
       "         [239, 239, 239, 255],\n",
       "         [239, 239, 239, 255]]], dtype=uint8),\n",
       " array([[0.99999994, 0.99999994, 0.99999994, ..., 0.99999994, 0.99999994,\n",
       "         0.99999994],\n",
       "        [0.99999994, 0.99999994, 0.99999994, ..., 0.99999994, 0.99999994,\n",
       "         0.99999994],\n",
       "        [0.99999994, 0.99999994, 0.99999994, ..., 0.99999994, 0.99999994,\n",
       "         0.99999994],\n",
       "        ...,\n",
       "        [0.80473447, 0.80473447, 0.80473447, ..., 0.80473447, 0.80473447,\n",
       "         0.80473447],\n",
       "        [0.8031688 , 0.8031688 , 0.8031688 , ..., 0.8031688 , 0.8031688 ,\n",
       "         0.8031688 ],\n",
       "        [0.80160314, 0.80160314, 0.80160314, ..., 0.80160314, 0.80160314,\n",
       "         0.80160314]], dtype=float32),\n",
       " array([[-1, -1, -1, ..., -1, -1, -1],\n",
       "        [-1, -1, -1, ..., -1, -1, -1],\n",
       "        [-1, -1, -1, ..., -1, -1, -1],\n",
       "        ...,\n",
       "        [ 1,  1,  1, ...,  1,  1,  1],\n",
       "        [ 1,  1,  1, ...,  1,  1,  1],\n",
       "        [ 1,  1,  1, ...,  1,  1,  1]], dtype=int32)]"
      ]
     },
     "execution_count": 3,
     "metadata": {},
     "output_type": "execute_result"
    }
   ],
   "source": [
    "from pycram.bullet_world_reasoning import _get_images_for_target\n",
    "\n",
    "_get_images_for_target([[1, 0, 1], [0, 0, 0, 1]], [[0.3, 0, 1], [0, 0, 0, 1]])"
   ]
  },
  {
   "cell_type": "markdown",
   "metadata": {},
   "source": [
    "## Objects\n",
    "Everything that is located inside the BulletWorld is an Object. \n",
    "Objects can be created from URDF, OBJ or STL files. Since everything is of type Object a robot might share the same methods as a milk (with some limitations).\n",
    "\n",
    "Signature:\n",
    "Object:\n",
    "* Name \n",
    "* Type\n",
    "* Filename or Filepath\n",
    "\n",
    " Optional:\n",
    " * Position\n",
    " * Orientation\n",
    " * World \n",
    " * Color \n",
    " * Ignore Cached Files\n",
    "\n",
    "If there is only a filename and no path PyCRAM will check in the resource directory if there is a matching file. \n"
   ]
  },
  {
   "cell_type": "code",
   "execution_count": 4,
   "metadata": {},
   "outputs": [],
   "source": [
    "milk = Object(\"Milk\", \"milk\", \"milk.stl\")"
   ]
  },
  {
   "cell_type": "markdown",
   "metadata": {},
   "source": [
    "Objects provide methods to change the position and rotation, change the color, attach other objects, set the state of joints if the objects has any or get the position and orientation of a link. \n",
    "\n",
    "These methods are the same for every Object, however since some Objects may not have joints or more than one link methods related to these will not work. "
   ]
  },
  {
   "cell_type": "code",
   "execution_count": 5,
   "metadata": {},
   "outputs": [],
   "source": [
    "milk.set_position([1, 0, 0])"
   ]
  },
  {
   "cell_type": "markdown",
   "metadata": {},
   "source": [
    "To remove an Object from the BulletWorld just call the 'remove' method on the Object."
   ]
  },
  {
   "cell_type": "code",
   "execution_count": 6,
   "metadata": {},
   "outputs": [],
   "source": [
    "milk.remove()"
   ]
  },
  {
   "cell_type": "markdown",
   "metadata": {},
   "source": [
    "Since everything inside the BulletWorld is an Object, even a complex environment Object like the kitchen can be spawned in the same way as the milk."
   ]
  },
  {
   "cell_type": "code",
   "execution_count": 7,
   "metadata": {},
   "outputs": [
    {
     "name": "stderr",
     "output_type": "stream",
     "text": [
      "Scalar element defined multiple times: limit\n",
      "Scalar element defined multiple times: limit\n"
     ]
    }
   ],
   "source": [
    "kitchen = Object(\"kitchen\", \"environment\", \"kitchen.urdf\")"
   ]
  },
  {
   "cell_type": "markdown",
   "metadata": {},
   "source": [
    "## Costmaps\n",
    "\n",
    "Costmaps are a way to get positions with respect to certain criterias. \n",
    "The currently available costmaps are:\n",
    "* Occupancy Costmap\n",
    "* Visibility Costmap\n",
    "* Semantic Costmap \n",
    "* Gaussian Costmap\n",
    "\n",
    "It is also possible to merge multiple costmaps to combine different criteria."
   ]
  },
  {
   "cell_type": "markdown",
   "metadata": {},
   "source": [
    "### Visibility Costmaps\n",
    "Visibility costmaps determine every position, around a target position, from which the target is visible. Visibility Costmaps are able to work with cameras that are moveable in height, for example if the robot has a movable torso. "
   ]
  },
  {
   "cell_type": "code",
   "execution_count": 8,
   "metadata": {},
   "outputs": [],
   "source": [
    "import pycram.costmaps as cm\n",
    "v = cm.VisibilityCostmap(1.27, 1.60, size=300, resolution=0.02, origin=[[0, 0, 0.1], [0, 0, 0, 1]])"
   ]
  },
  {
   "cell_type": "code",
   "execution_count": 9,
   "metadata": {},
   "outputs": [],
   "source": [
    "v.visualize()"
   ]
  },
  {
   "cell_type": "code",
   "execution_count": 10,
   "metadata": {},
   "outputs": [],
   "source": [
    "v.close_visualization()"
   ]
  },
  {
   "cell_type": "markdown",
   "metadata": {},
   "source": [
    "### Occupancy Costmap\n",
    "Is valid for every position where the robot can be placed without colliding with an object."
   ]
  },
  {
   "cell_type": "code",
   "execution_count": 11,
   "metadata": {},
   "outputs": [],
   "source": [
    "o = cm.OccupancyCostmap(0.2, from_ros=False, size=300, resolution=0.02, origin=[[0, 0, 0.1], [0, 0, 0, 1]])"
   ]
  },
  {
   "cell_type": "code",
   "execution_count": 12,
   "metadata": {},
   "outputs": [],
   "source": [
    "s = cm.SemanticCostmap(kitchen, \"kitchen_island_surface\", size=100, resolution=0.02)\n",
    "\n",
    "g = cm.GaussianCostmap(200, 15, resolution=0.02)"
   ]
  },
  {
   "cell_type": "markdown",
   "metadata": {},
   "source": [
    "You can visualize the costmap in the BulletWorld to get an impression what information is actually contained in the costmap. With this you could also check if the costmap was created correctly. \n",
    "Visualization can be done via the 'visualize' method of each costmap."
   ]
  },
  {
   "cell_type": "code",
   "execution_count": 13,
   "metadata": {},
   "outputs": [],
   "source": [
    "o.visualize()"
   ]
  },
  {
   "cell_type": "code",
   "execution_count": 14,
   "metadata": {},
   "outputs": [],
   "source": [
    "o.close_visualization()"
   ]
  },
  {
   "cell_type": "markdown",
   "metadata": {},
   "source": [
    "It is also possible to combine two costmap, this will result in a new costmap with the same size which contains the information of both previous costmaps. Combination is done by checking for each position in the two costmaps if they are zero, in this case to same position in the new costmap will also be zero in any other case the new position will be the normalized product of the two combined costmaps."
   ]
  },
  {
   "cell_type": "code",
   "execution_count": 15,
   "metadata": {},
   "outputs": [],
   "source": [
    "ov = o + v"
   ]
  },
  {
   "cell_type": "code",
   "execution_count": 16,
   "metadata": {},
   "outputs": [],
   "source": [
    "ov.visualize()"
   ]
  },
  {
   "cell_type": "code",
   "execution_count": 17,
   "metadata": {},
   "outputs": [],
   "source": [
    "ov.close_visualization()"
   ]
  },
  {
   "cell_type": "markdown",
   "metadata": {},
   "source": [
    "## Bullet World Reasoning \n",
    "Allows for geometric reasoning in the BulletWorld. At the moment the following types of reasoning are supported:\n",
    "* Stable\n",
    "* Contact\n",
    "* Visible \n",
    "* Occluding \n",
    "* Reachable \n",
    "* Blocking\n",
    "* Supporting\n",
    "\n",
    "To show the geometric reasoning we first a robot as well as the milk Object again."
   ]
  },
  {
   "cell_type": "code",
   "execution_count": 18,
   "metadata": {},
   "outputs": [
    {
     "name": "stderr",
     "output_type": "stream",
     "text": [
      "Unknown attribute \"type\" in /robot[@name='pr2']/link[@name='base_laser_link']\n",
      "Unknown attribute \"type\" in /robot[@name='pr2']/link[@name='wide_stereo_optical_frame']\n",
      "Unknown attribute \"type\" in /robot[@name='pr2']/link[@name='narrow_stereo_optical_frame']\n",
      "Unknown attribute \"type\" in /robot[@name='pr2']/link[@name='laser_tilt_link']\n",
      "Unknown attribute \"type\" in /robot[@name='pr2']/link[@name='base_laser_link']\n",
      "Unknown attribute \"type\" in /robot[@name='pr2']/link[@name='wide_stereo_optical_frame']\n",
      "Unknown attribute \"type\" in /robot[@name='pr2']/link[@name='narrow_stereo_optical_frame']\n",
      "Unknown attribute \"type\" in /robot[@name='pr2']/link[@name='laser_tilt_link']\n"
     ]
    }
   ],
   "source": [
    "import pycram.bullet_world_reasoning as btr\n",
    "milk = Object(\"Milk\", \"milk\", \"milk.stl\", position=[1, 0, 1])\n",
    "pr2 = Object(\"pr2\", \"robot\", \"pr2.urdf\")"
   ]
  },
  {
   "cell_type": "markdown",
   "metadata": {},
   "source": [
    "We start with testing for visibility "
   ]
  },
  {
   "cell_type": "code",
   "execution_count": 19,
   "metadata": {
    "scrolled": true
   },
   "outputs": [
    {
     "name": "stdout",
     "output_type": "stream",
     "text": [
      "Milk visible: True\n"
     ]
    }
   ],
   "source": [
    "milk.set_position([1,0,1])\n",
    "visible = btr.visible(milk, pr2.get_link_position_and_orientation(\"wide_stereo_optical_frame\"))\n",
    "print(f\"Milk visible: {visible}\")"
   ]
  },
  {
   "cell_type": "code",
   "execution_count": 20,
   "metadata": {},
   "outputs": [
    {
     "name": "stdout",
     "output_type": "stream",
     "text": [
      "Milk is in contact with the floor: True\n"
     ]
    }
   ],
   "source": [
    "milk.set_position([1, 0, 0.05])\n",
    "\n",
    "plane = BulletWorld.current_bullet_world.objects[0]\n",
    "contact = btr.contact(milk, plane)\n",
    "print(f\"Milk is in contact with the floor: {contact}\")"
   ]
  },
  {
   "cell_type": "code",
   "execution_count": 21,
   "metadata": {},
   "outputs": [
    {
     "name": "stdout",
     "output_type": "stream",
     "text": [
      "Milk is reachable for the PR2: True\n"
     ]
    }
   ],
   "source": [
    "milk.set_position([0.6, -0.5, 0.7])\n",
    "\n",
    "reachable = btr.reachable(milk, pr2, \"r_gripper_tool_frame\")\n",
    "print(f\"Milk is reachable for the PR2: {reachable}\")"
   ]
  },
  {
   "cell_type": "markdown",
   "metadata": {},
   "source": [
    "# Designator\n",
    "Designator are symbolic descriptions of Actions, Motions, Objects or Locations. In PyCRAM the different types of designators are representet by a class which takes a description, the description then tells the designator what to do. \n",
    "\n",
    "For example, let's look at a Motion Designator to move the robot to a specific location. \n",
    "\n"
   ]
  },
  {
   "cell_type": "markdown",
   "metadata": {},
   "source": [
    "## Motion Designator\n",
    "\n",
    "When using a Motion Designator you need to specify which Process Module needs to be used, either the Process Module for the real or the simulated robot. This can be done either with a decorator which can be added to a function and then executes every designator in this function on the specified robot. The other possibility is a \"with\" scope which wraps a code piece. \n",
    "\n",
    "These two ways can also be combined, you could write a function which should be executed on the real robot and in the function is a \"with\" scope which executes something on the simulated robot for reasoning purposes. "
   ]
  },
  {
   "cell_type": "code",
   "execution_count": 22,
   "metadata": {},
   "outputs": [],
   "source": [
    "from pycram.designators.motion_designator import *\n",
    "from pycram.process_module import simulated_robot, with_simulated_robot\n",
    "\n",
    "description = MoveMotion(target=[[1, 0, 0], [0, 0, 0, 1]])\n",
    "\n",
    "with simulated_robot:\n",
    "    description.resolve().perform()\n",
    "    \n"
   ]
  },
  {
   "cell_type": "code",
   "execution_count": 23,
   "metadata": {
    "scrolled": true
   },
   "outputs": [],
   "source": [
    "from pycram.process_module import with_simulated_robot\n",
    "\n",
    "@with_simulated_robot\n",
    "def move():\n",
    "    MoveMotion(target=[[0, 0, 0], [0, 0, 0, 1]]).resolve().perform()\n",
    "\n",
    "move()"
   ]
  },
  {
   "cell_type": "markdown",
   "metadata": {},
   "source": [
    "Other implemented Motion Designator descriptions are:\n",
    "* Pick up\n",
    "* Place\n",
    "* Accessing\n",
    "* Move TCP\n",
    "* Looking\n",
    "* Move Gripper\n",
    "* Detecting\n",
    "* Move Arm Joint \n",
    "* World State Detecting "
   ]
  },
  {
   "cell_type": "markdown",
   "metadata": {},
   "source": [
    "## Object Designator\n",
    "\n",
    "Object Designator represent objects, these objects could either be from the BulletWorld or the real world. Object Designator are used, for example, by the PickUpAction to know which object should be picked up."
   ]
  },
  {
   "cell_type": "code",
   "execution_count": 24,
   "metadata": {},
   "outputs": [
    {
     "data": {
      "text/plain": [
       "BelieveObject.Object(name='Milk', type='milk', bullet_world_object=Object(world=<pycram.bullet_world.BulletWorld object at 0x7efcee820ee0>, name=Milk, type=milk, color=[1, 1, 1, 1], id=4, path=/home/jonas/workspace/ros/src/pycram-1/src/pycram/../../resources/cached/milk.urdf, joints: ..., links: ..., attachments={}, cids={}, original_pose=[[1, 0, 1], [0, 0, 0, 1]], base_origin_shift=[ 4.15300950e-04 -6.29518181e-05  8.96554102e-02], urdf_object: ...), _pose=<bound method Object.get_position_and_orientation of Object(world=<pycram.bullet_world.BulletWorld object at 0x7efcee820ee0>, name=Milk, type=milk, color=[1, 1, 1, 1], id=4, path=/home/jonas/workspace/ros/src/pycram-1/src/pycram/../../resources/cached/milk.urdf, joints: ..., links: ..., attachments={}, cids={}, original_pose=[[1, 0, 1], [0, 0, 0, 1]], base_origin_shift=[ 4.15300950e-04 -6.29518181e-05  8.96554102e-02], urdf_object: ...)>)"
      ]
     },
     "execution_count": 24,
     "metadata": {},
     "output_type": "execute_result"
    }
   ],
   "source": [
    "from pycram.designators.object_designator import *\n",
    "\n",
    "milk_desig = BelieveObject(names=[\"Milk\"])\n",
    "milk_desig.resolve()"
   ]
  },
  {
   "cell_type": "markdown",
   "metadata": {},
   "source": [
    "## Location Designator\n",
    "Location Designator can create a position in cartisian space from a symbolic desctiption"
   ]
  },
  {
   "cell_type": "code",
   "execution_count": 25,
   "metadata": {},
   "outputs": [
    {
     "name": "stdout",
     "output_type": "stream",
     "text": [
      "Resolved: CostmapLocation.Location(pose=[[0.020000040531158447, -1.2599999904632568, 0.0], [0.0, 0.0, 0.44346741854979965, 0.896290493470045]], reachable_arms=None)\n",
      "\n",
      "CostmapLocation.Location(pose=[[0.020000040531158447, -1.2599999904632568, 0.0], [0.0, 0.0, 0.44346741854979965, 0.896290493470045]], reachable_arms=None)\n",
      "CostmapLocation.Location(pose=[[-0.1799999475479126, -0.36000001430511475, -0.0], [-0.0, 0.0, 0.08868142965975187, -0.9960600403758312]], reachable_arms=None)\n",
      "CostmapLocation.Location(pose=[[0.020000040531158447, -0.3400000035762787, 0.0], [-0.0, 0.0, 0.13417783914287992, -0.9909572682426561]], reachable_arms=None)\n",
      "CostmapLocation.Location(pose=[[0.7000000476837158, 0.5, 0.0], [-0.0, 0.0, 0.7414525493914956, -0.6710053032583659]], reachable_arms=None)\n",
      "CostmapLocation.Location(pose=[[-0.1799999475479126, -0.3799999952316284, -0.0], [-0.0, 0.0, 0.07625058948692741, -0.9970886859266311]], reachable_arms=None)\n",
      "CostmapLocation.Location(pose=[[-0.1799999475479126, -0.4000000059604645, -0.0], [-0.0, 0.0, 0.06371159798936556, -0.9979683523447231]], reachable_arms=None)\n",
      "CostmapLocation.Location(pose=[[0.020000040531158447, -0.4000000059604645, 0.0], [-0.0, 0.0, 0.08526395647637101, -0.9963583982312768]], reachable_arms=None)\n",
      "CostmapLocation.Location(pose=[[-0.1799999475479126, -0.4399999976158142, -0.0], [-0.0, 0.0, 0.03837652359108911, -0.9992633498918404]], reachable_arms=None)\n",
      "CostmapLocation.Location(pose=[[-0.1799999475479126, -0.46000000834465027, -0.0], [-0.0, 0.0, 0.025615777882893723, -0.9996718621244944]], reachable_arms=None)\n",
      "CostmapLocation.Location(pose=[[0.7000000476837158, 0.4399999976158142, 0.0], [-0.0, 0.0, 0.7435677859943454, -0.668660562341961]], reachable_arms=None)\n",
      "CostmapLocation.Location(pose=[[0.7000000476837158, 0.42000001668930054, 0.0], [-0.0, 0.0, 0.744331656506702, -0.6678101415237634]], reachable_arms=None)\n",
      "CostmapLocation.Location(pose=[[0.7000000476837158, 0.3999999761581421, 0.0], [-0.0, 0.0, 0.7451280363066115, -0.6669214417829532]], reachable_arms=None)\n",
      "CostmapLocation.Location(pose=[[0.020000040531158447, -0.42000001668930054, 0.0], [-0.0, 0.0, 0.06847944286669973, -0.9976525276390906]], reachable_arms=None)\n",
      "CostmapLocation.Location(pose=[[0.020000040531158447, -0.4399999976158142, 0.0], [-0.0, 0.0, 0.05151799359421097, -0.9986720664642758]], reachable_arms=None)\n",
      "CostmapLocation.Location(pose=[[0.020000040531158447, -0.46000000834465027, 0.0], [-0.0, 0.0, 0.03442143897224284, -0.9994074066861223]], reachable_arms=None)\n",
      "CostmapLocation.Location(pose=[[-0.1799999475479126, -0.42000001668930054, -0.0], [-0.0, 0.0, 0.051081111601949496, -0.9986945078638959]], reachable_arms=None)\n",
      "CostmapLocation.Location(pose=[[0.020000040531158447, -0.5, 0.0], [-0.0, 0.0, 1.2246467991473532e-16, -1.0]], reachable_arms=None)\n",
      "CostmapLocation.Location(pose=[[0.7000000476837158, 0.25999999046325684, 0.0], [-0.0, 0.0, 0.7518159932215588, -0.659372969067038]], reachable_arms=None)\n",
      "CostmapLocation.Location(pose=[[-0.1799999475479126, -0.47999998927116394, -0.0], [-0.0, 0.0, 0.012817361019919133, -0.9999178542542808]], reachable_arms=None)\n",
      "CostmapLocation.Location(pose=[[-0.1799999475479126, -0.5, -0.0], [-0.0, 0.0, 1.2246467991473532e-16, -1.0]], reachable_arms=None)\n",
      "CostmapLocation.Location(pose=[[-0.1799999475479126, -0.5400000214576721, -0.0], [0.0, 0.0, 0.02561579693058636, 0.9996718616364126]], reachable_arms=None)\n",
      "CostmapLocation.Location(pose=[[-0.1799999475479126, -0.5600000023841858, -0.0], [0.0, 0.0, 0.038376523591088986, 0.9992633498918404]], reachable_arms=None)\n",
      "CostmapLocation.Location(pose=[[-0.1799999475479126, -0.5799999833106995, -0.0], [0.0, 0.0, 0.05108111160194938, 0.9986945078638959]], reachable_arms=None)\n",
      "CostmapLocation.Location(pose=[[-0.1799999475479126, -0.6200000047683716, -0.0], [0.0, 0.0, 0.07625058948692728, 0.9970886859266311]], reachable_arms=None)\n",
      "CostmapLocation.Location(pose=[[0.42000001668930054, 0.48000001907348633, 0.0], [-0.0, 0.0, 0.6400580049011104, -0.7683265909507558]], reachable_arms=None)\n",
      "CostmapLocation.Location(pose=[[0.42000001668930054, 0.4599999785423279, 0.0], [-0.0, 0.0, 0.6386358420403434, -0.7695091040796214]], reachable_arms=None)\n",
      "CostmapLocation.Location(pose=[[0.42000001668930054, 0.4399999976158142, 0.0], [-0.0, 0.0, 0.6371529430101336, -0.7707373918615377]], reachable_arms=None)\n",
      "CostmapLocation.Location(pose=[[0.42000001668930054, 0.42000001668930054, 0.0], [-0.0, 0.0, 0.6356053862719173, -0.7720141144707957]], reachable_arms=None)\n",
      "CostmapLocation.Location(pose=[[0.42000001668930054, 0.3999999761581421, 0.0], [-0.0, 0.0, 0.6339889105301948, -0.7733421373006496]], reachable_arms=None)\n",
      "CostmapLocation.Location(pose=[[0.42000001668930054, 0.3799999952316284, 0.0], [-0.0, 0.0, 0.6322988931839414, -0.7747245379348473]], reachable_arms=None)\n",
      "CostmapLocation.Location(pose=[[0.42000001668930054, 0.24000000953674316, 0.0], [-0.0, 0.0, 0.617919268358853, -0.7862415518088953]], reachable_arms=None)\n",
      "CostmapLocation.Location(pose=[[0.42000001668930054, 0.2200000286102295, 0.0], [-0.0, 0.0, 0.6154122216851725, -0.788205428426194]], reachable_arms=None)\n",
      "CostmapLocation.Location(pose=[[0.42000001668930054, 0.19999998807907104, 0.0], [-0.0, 0.0, 0.6127638117047361, -0.7902661014272867]], reachable_arms=None)\n",
      "CostmapLocation.Location(pose=[[0.020000040531158447, -0.47999998927116394, 0.0], [-0.0, 0.0, 0.017233707756657123, -0.9998514886306656]], reachable_arms=None)\n",
      "CostmapLocation.Location(pose=[[0.020000040531158447, -0.5199999809265137, 0.0], [0.0, 0.0, 0.017233682099321426, 0.999851489072902]], reachable_arms=None)\n",
      "CostmapLocation.Location(pose=[[0.020000040531158447, -1.059999942779541, 0.0], [0.0, 0.0, 0.37456543365108913, 0.9272004831285258]], reachable_arms=None)\n",
      "CostmapLocation.Location(pose=[[0.7000000476837158, 0.24000000953674316, 0.0], [-0.0, 0.0, 0.7529667844660535, -0.6580585243660716]], reachable_arms=None)\n",
      "CostmapLocation.Location(pose=[[0.7000000476837158, 0.2200000286102295, 0.0], [-0.0, 0.0, 0.7541778405216945, -0.6566702253536654]], reachable_arms=None)\n",
      "CostmapLocation.Location(pose=[[0.7000000476837158, 0.18000000715255737, 0.0], [-0.0, 0.0, 0.7568005209119464, -0.6536459068543202]], reachable_arms=None)\n",
      "CostmapLocation.Location(pose=[[0.7000000476837158, 0.1600000262260437, 0.0], [-0.0, 0.0, 0.7582233982931916, -0.6519948452869272]], reachable_arms=None)\n",
      "CostmapLocation.Location(pose=[[0.7000000476837158, 0.12000000476837158, 0.0], [-0.0, 0.0, 0.7613253285008382, -0.6483700673096274]], reachable_arms=None)\n",
      "CostmapLocation.Location(pose=[[0.7000000476837158, 0.10000002384185791, 0.0], [-0.0, 0.0, 0.7630200053806379, -0.6463748690883111]], reachable_arms=None)\n",
      "CostmapLocation.Location(pose=[[0.7000000476837158, 0.07999998331069946, 0.0], [-0.0, 0.0, 0.7648225284125065, -0.6442410263501546]], reachable_arms=None)\n",
      "CostmapLocation.Location(pose=[[0.7000000476837158, 0.04000002145767212, 0.0], [-0.0, 0.0, 0.7687942953530159, -0.6394961543533001]], reachable_arms=None)\n",
      "CostmapLocation.Location(pose=[[0.7000000476837158, -0.03999999165534973, 0.0], [-0.0, 0.0, 0.7785980148236481, -0.6275230125761717]], reachable_arms=None)\n",
      "CostmapLocation.Location(pose=[[0.020000040531158447, -0.5400000214576721, 0.0], [0.0, 0.0, 0.034421464527131705, 0.9994074058059643]], reachable_arms=None)\n",
      "CostmapLocation.Location(pose=[[0.020000040531158447, -0.5600000023841858, 0.0], [0.0, 0.0, 0.05151799359421063, 0.9986720664642758]], reachable_arms=None)\n",
      "CostmapLocation.Location(pose=[[0.020000040531158447, -0.5799999833106995, 0.0], [0.0, 0.0, 0.06847944286669938, 0.9976525276390906]], reachable_arms=None)\n",
      "CostmapLocation.Location(pose=[[0.020000040531158447, -0.6000000238418579, 0.0], [0.0, 0.0, 0.0852639813354955, 0.9963583961039423]], reachable_arms=None)\n",
      "CostmapLocation.Location(pose=[[0.020000040531158447, -0.6399999856948853, 0.0], [0.0, 0.0, 0.1181477670084111, 0.992996024740747]], reachable_arms=None)\n",
      "CostmapLocation.Location(pose=[[0.020000040531158447, -0.6599999666213989, 0.0], [0.0, 0.0, 0.13417781548398272, 0.9909572714461236]], reachable_arms=None)\n",
      "CostmapLocation.Location(pose=[[0.020000040531158447, -0.699999988079071, 0.0], [0.0, 0.0, 0.16526799358340657, 0.9862486959671557]], reachable_arms=None)\n",
      "CostmapLocation.Location(pose=[[0.020000040531158447, -0.7200000286102295, 0.0], [0.0, 0.0, 0.18028102672557794, 0.9836151439474544]], reachable_arms=None)\n",
      "CostmapLocation.Location(pose=[[0.020000040531158447, -0.7400000095367432, 0.0], [0.0, 0.0, 0.1949143175677317, 0.9808202734482528]], reachable_arms=None)\n",
      "CostmapLocation.Location(pose=[[0.020000040531158447, -0.7599999904632568, 0.0], [0.0, 0.0, 0.20915386746902054, 0.9778827433403002]], reachable_arms=None)\n",
      "CostmapLocation.Location(pose=[[0.020000040531158447, -0.7799999713897705, 0.0], [0.0, 0.0, 0.22298919047562982, 0.9748209173643245]], reachable_arms=None)\n",
      "CostmapLocation.Location(pose=[[0.020000040531158447, -0.800000011920929, 0.0], [0.0, 0.0, 0.23641317369671047, 0.9716526186362331]], reachable_arms=None)\n",
      "CostmapLocation.Location(pose=[[0.020000040531158447, -0.8400000333786011, 0.0], [0.0, 0.0, 0.2620134223481567, 0.9650642292145153]], reachable_arms=None)\n",
      "CostmapLocation.Location(pose=[[0.020000040531158447, -0.8600000143051147, 0.0], [0.0, 0.0, 0.2741895874244513, 0.9616756574583809]], reachable_arms=None)\n",
      "CostmapLocation.Location(pose=[[0.020000040531158447, -0.8799999952316284, 0.0], [0.0, 0.0, 0.2859535668803981, 0.9582434751086896]], reachable_arms=None)\n",
      "CostmapLocation.Location(pose=[[0.020000040531158447, -0.8999999761581421, 0.0], [0.0, 0.0, 0.297310626123158, 0.9547808081409344]], reachable_arms=None)\n",
      "CostmapLocation.Location(pose=[[0.020000040531158447, -0.9199999570846558, 0.0], [0.0, 0.0, 0.3082676349037039, 0.9512996716444702]], reachable_arms=None)\n",
      "CostmapLocation.Location(pose=[[0.020000040531158447, -0.9399999976158142, 0.0], [0.0, 0.0, 0.3188328306945495, 0.947810965367726]], reachable_arms=None)\n",
      "CostmapLocation.Location(pose=[[0.020000040531158447, -0.9600000381469727, 0.0], [0.0, 0.0, 0.32901547618645166, 0.9443245291899404]], reachable_arms=None)\n",
      "CostmapLocation.Location(pose=[[0.020000040531158447, -0.9800000190734863, 0.0], [0.0, 0.0, 0.33882570239221604, 0.9408491608108185]], reachable_arms=None)\n",
      "CostmapLocation.Location(pose=[[0.020000040531158447, -1.0, 0.0], [0.0, 0.0, 0.34827436093155584, 0.9373926442626465]], reachable_arms=None)\n",
      "CostmapLocation.Location(pose=[[0.020000040531158447, -1.0199999809265137, 0.0], [0.0, 0.0, 0.357372753836608, 0.9339618379865632]], reachable_arms=None)\n",
      "CostmapLocation.Location(pose=[[0.020000040531158447, -1.0399999618530273, 0.0], [0.0, 0.0, 0.3661325069629514, 0.9305627261743425]], reachable_arms=None)\n",
      "CostmapLocation.Location(pose=[[0.06000000238418579, -1.2999999523162842, 0.0], [0.0, 0.0, 0.4693224498075546, 0.8830268614864643]], reachable_arms=None)\n",
      "CostmapLocation.Location(pose=[[0.7800000309944153, 0.10000002384185791, 0.0], [-0.0, 0.0, 0.8022929391700773, -0.5969305150164789]], reachable_arms=None)\n",
      "CostmapLocation.Location(pose=[[0.5, -1.0199999809265137, 0.0], [0.0, 0.0, 0.6368487260213487, 0.770988780829517]], reachable_arms=None)\n",
      "CostmapLocation.Location(pose=[[0.5, -1.0399999618530273, 0.0], [0.0, 0.0, 0.6394961795745709, 0.7687942743735336]], reachable_arms=None)\n",
      "CostmapLocation.Location(pose=[[0.5, -0.9600000381469727, 0.0], [0.0, 0.0, 0.6275230563455015, 0.7785979795470834]], reachable_arms=None)\n",
      "CostmapLocation.Location(pose=[[0.5, -0.9399999976158142, 0.0], [0.0, 0.0, 0.6238505010293479, 0.7815436983083105]], reachable_arms=None)\n",
      "CostmapLocation.Location(pose=[[0.5, -0.9199999570846558, 0.0], [0.0, 0.0, 0.6198304003099534, 0.7847357993946771]], reachable_arms=None)\n",
      "CostmapLocation.Location(pose=[[0.5, -1.059999942779541, 0.0], [0.0, 0.0, 0.6419537927722033, 0.766743325986854]], reachable_arms=None)\n",
      "CostmapLocation.Location(pose=[[0.06000000238418579, -1.2599999904632568, 0.0], [0.0, 0.0, 0.4586899086967081, 0.8885964031323813]], reachable_arms=None)\n",
      "CostmapLocation.Location(pose=[[0.06000000238418579, -1.100000023841858, 0.0], [0.0, 0.0, 0.4068385949585551, 0.9135000589229038]], reachable_arms=None)\n",
      "CostmapLocation.Location(pose=[[0.06000000238418579, -1.059999942779541, 0.0], [0.0, 0.0, 0.39106546399005315, 0.9203628647844525]], reachable_arms=None)\n",
      "CostmapLocation.Location(pose=[[0.06000000238418579, -1.0399999618530273, 0.0], [0.0, 0.0, 0.38268341706855824, 0.9238795388473174]], reachable_arms=None)\n",
      "CostmapLocation.Location(pose=[[0.06000000238418579, -1.0199999809265137, 0.0], [0.0, 0.0, 0.3739517183584263, 0.9274481723184214]], reachable_arms=None)\n",
      "CostmapLocation.Location(pose=[[0.06000000238418579, -1.0, 0.0], [0.0, 0.0, 0.3648556752177818, 0.9310640881600882]], reachable_arms=None)\n",
      "CostmapLocation.Location(pose=[[0.64000004529953, -0.9199999570846558, 0.0], [0.0, 0.0, 0.7398679641103268, 0.6727521056698671]], reachable_arms=None)\n",
      "CostmapLocation.Location(pose=[[0.5800000429153442, -0.06000000238418579, 0.0], [-0.0, 0.0, 0.6908662808638104, -0.7229825599317087]], reachable_arms=None)\n",
      "CostmapLocation.Location(pose=[[0.64000004529953, -0.9600000381469727, 0.0], [0.0, 0.0, 0.7370989440385425, 0.6757848375757373]], reachable_arms=None)\n",
      "CostmapLocation.Location(pose=[[0.3400000333786011, -0.03999999165534973, 0.0], [-0.0, 0.0, 0.5039557510200093, -0.8637294721229897]], reachable_arms=None)\n",
      "CostmapLocation.Location(pose=[[0.3400000333786011, -0.06000000238418579, 0.0], [-0.0, 0.0, 0.49561614896903944, -0.8685416702041986]], reachable_arms=None)\n",
      "CostmapLocation.Location(pose=[[0.5800000429153442, 0.0, 0.0], [-0.0, 0.0, 0.6928318869957687, -0.7210991446131957]], reachable_arms=None)\n",
      "CostmapLocation.Location(pose=[[0.5800000429153442, 0.019999980926513672, 0.0], [-0.0, 0.0, 0.693385520052835, -0.7205668050785157]], reachable_arms=None)\n",
      "CostmapLocation.Location(pose=[[0.06000000238418579, -0.9800000190734863, 0.0], [0.0, 0.0, 0.35538056775909416, 0.9347216976508163]], reachable_arms=None)\n",
      "CostmapLocation.Location(pose=[[0.14000001549720764, -0.4000000059604645, 0.0], [-0.0, 0.0, 0.1068261085466421, -0.9942777190165638]], reachable_arms=None)\n",
      "CostmapLocation.Location(pose=[[0.14000001549720764, -0.42000001668930054, 0.0], [-0.0, 0.0, 0.085989069423992, -0.9962960804598179]], reachable_arms=None)\n",
      "CostmapLocation.Location(pose=[[0.3400000333786011, -1.0, 0.0], [0.0, 0.0, 0.5189640209010816, 0.854796083876255]], reachable_arms=None)\n",
      "CostmapLocation.Location(pose=[[0.5800000429153442, -0.9199999570846558, 0.0], [0.0, 0.0, 0.6900851206801243, 0.723728212947304]], reachable_arms=None)\n",
      "CostmapLocation.Location(pose=[[0.5800000429153442, -0.9399999976158142, 0.0], [0.0, 0.0, 0.6908662808638104, 0.7229825599317086]], reachable_arms=None)\n",
      "CostmapLocation.Location(pose=[[0.5800000429153442, -0.9600000381469727, 0.0], [0.0, 0.0, 0.6915789442823468, 0.7223008817835643]], reachable_arms=None)\n",
      "CostmapLocation.Location(pose=[[0.14000001549720764, -0.4399999976158142, 0.0], [-0.0, 0.0, 0.06480582547802773, -0.9978978930652732]], reachable_arms=None)\n",
      "CostmapLocation.Location(pose=[[0.14000001549720764, -0.46000000834465027, 0.0], [-0.0, 0.0, 0.04335556767291736, -0.999059705298817]], reachable_arms=None)\n",
      "CostmapLocation.Location(pose=[[0.5800000429153442, -1.0399999618530273, 0.0], [0.0, 0.0, 0.6938978369287242, 0.7200734628533659]], reachable_arms=None)\n",
      "CostmapLocation.Location(pose=[[0.14000001549720764, -0.47999998927116394, 0.0], [-0.0, 0.0, 0.021723751053226346, -0.9997640114747967]], reachable_arms=None)\n",
      "CostmapLocation.Location(pose=[[0.14000001549720764, -0.5199999809265137, 0.0], [0.0, 0.0, 0.02172371872814674, 0.9997640121771839]], reachable_arms=None)\n",
      "CostmapLocation.Location(pose=[[0.3400000333786011, -1.1200000047683716, 0.0], [0.0, 0.0, 0.5537478525923493, 0.8326844034502879]], reachable_arms=None)\n",
      "CostmapLocation.Location(pose=[[0.7400000095367432, 0.0, 0.0], [-0.0, 0.0, 0.7967527667199403, -0.6043054101397077]], reachable_arms=None)\n",
      "CostmapLocation.Location(pose=[[0.14000001549720764, -0.5400000214576721, 0.0], [0.0, 0.0, 0.043355599793410145, 0.9990597039049036]], reachable_arms=None)\n",
      "CostmapLocation.Location(pose=[[0.14000001549720764, -0.5600000023841858, 0.0], [0.0, 0.0, 0.0648058254780276, 0.9978978930652732]], reachable_arms=None)\n",
      "CostmapLocation.Location(pose=[[0.7400000095367432, -0.9199999570846558, 0.0], [0.0, 0.0, 0.8112422001118971, 0.5847102639407049]], reachable_arms=None)\n",
      "CostmapLocation.Location(pose=[[0.7400000095367432, -0.9399999976158142, 0.0], [0.0, 0.0, 0.8072185817745324, 0.5902526249309804]], reachable_arms=None)\n",
      "CostmapLocation.Location(pose=[[0.7400000095367432, -0.9600000381469727, 0.0], [0.0, 0.0, 0.8034804328160465, 0.595331163371899]], reachable_arms=None)\n",
      "CostmapLocation.Location(pose=[[0.14000001549720764, -0.5799999833106995, 0.0], [0.0, 0.0, 0.08598906942399187, 0.9962960804598179]], reachable_arms=None)\n",
      "CostmapLocation.Location(pose=[[0.46000003814697266, 0.0, 0.0], [-0.0, 0.0, 0.6043054453698006, -0.7967527399993093]], reachable_arms=None)\n",
      "CostmapLocation.Location(pose=[[0.46000003814697266, -0.02000001072883606, 0.0], [-0.0, 0.0, 0.6000000268936166, -0.7999999798297869]], reachable_arms=None)\n",
      "CostmapLocation.Location(pose=[[0.64000004529953, -0.06000000238418579, 0.0], [-0.0, 0.0, 0.7384225918196596, -0.6743382503538831]], reachable_arms=None)\n",
      "CostmapLocation.Location(pose=[[0.7400000095367432, -1.0199999809265137, 0.0], [0.0, 0.0, 0.7937170461983101, 0.6082871448372303]], reachable_arms=None)\n",
      "CostmapLocation.Location(pose=[[0.7400000095367432, -1.0399999618530273, 0.0], [0.0, 0.0, 0.7908736281525909, 0.6119794966277526]], reachable_arms=None)\n",
      "CostmapLocation.Location(pose=[[0.64000004529953, 0.0, 0.0], [-0.0, 0.0, 0.7347602711153838, -0.678326871051448]], reachable_arms=None)\n",
      "CostmapLocation.Location(pose=[[0.64000004529953, 0.019999980926513672, 0.0], [-0.0, 0.0, 0.7337222185637958, -0.6794495610314436]], reachable_arms=None)\n",
      "CostmapLocation.Location(pose=[[0.14000001549720764, -0.6200000047683716, 0.0], [0.0, 0.0, 0.12724529879356297, 0.9918712789142232]], reachable_arms=None)\n",
      "CostmapLocation.Location(pose=[[0.06000000238418579, -0.9600000381469727, 0.0], [0.0, 0.0, 0.34551179247076513, 0.938414408064816]], reachable_arms=None)\n",
      "CostmapLocation.Location(pose=[[0.06000000238418579, -0.9399999976158142, 0.0], [0.0, 0.0, 0.33523500277590185, 0.9421345407710308]], reachable_arms=None)\n",
      "CostmapLocation.Location(pose=[[0.14000001549720764, -0.7400000095367432, 0.0], [0.0, 0.0, 0.23813354211814983, 0.9712324212660239]], reachable_arms=None)\n",
      "CostmapLocation.Location(pose=[[0.14000001549720764, -0.7599999904632568, 0.0], [0.0, 0.0, 0.2543984676148703, 0.9670994879924225]], reachable_arms=None)\n",
      "CostmapLocation.Location(pose=[[0.14000001549720764, -0.800000011920929, 0.0], [0.0, 0.0, 0.28494685602251013, 0.9585433163101639]], reachable_arms=None)\n",
      "CostmapLocation.Location(pose=[[0.06000000238418579, -0.9199999570846558, 0.0], [0.0, 0.0, 0.32453640283977675, 0.9458732067416954]], reachable_arms=None)\n",
      "CostmapLocation.Location(pose=[[0.06000000238418579, -0.8999999761581421, 0.0], [0.0, 0.0, 0.3134029283071354, 0.9496202422697784]], reachable_arms=None)\n",
      "CostmapLocation.Location(pose=[[0.06000000238418579, -0.8799999952316284, 0.0], [0.0, 0.0, 0.3018224465611755, 0.9533641543250021]], reachable_arms=None)\n",
      "CostmapLocation.Location(pose=[[0.06000000238418579, -0.8400000333786011, 0.0], [0.0, 0.0, 0.2772789070192402, 0.9607894710716888]], reachable_arms=None)\n",
      "CostmapLocation.Location(pose=[[0.06000000238418579, -0.8199999928474426, 0.0], [0.0, 0.0, 0.2642995103622146, 0.9644406507516643]], reachable_arms=None)\n",
      "CostmapLocation.Location(pose=[[0.06000000238418579, -0.800000011920929, 0.0], [0.0, 0.0, 0.25084131735138704, 0.9680282193765948]], reachable_arms=None)\n",
      "CostmapLocation.Location(pose=[[0.5, -0.02000001072883606, 0.0], [-0.0, 0.0, 0.6308905378585485, -0.775871851042781]], reachable_arms=None)\n",
      "CostmapLocation.Location(pose=[[0.5, 0.019999980926513672, 0.0], [-0.0, 0.0, 0.6368487260213487, -0.7709887808295172]], reachable_arms=None)\n",
      "CostmapLocation.Location(pose=[[0.40000003576278687, 0.48000001907348633, 0.0], [-0.0, 0.0, 0.6324713535276292, -0.7745837507764598]], reachable_arms=None)\n",
      "CostmapLocation.Location(pose=[[0.40000003576278687, 0.4599999785423279, 0.0], [-0.0, 0.0, 0.6308905517091342, -0.7758718397803495]], reachable_arms=None)\n",
      "CostmapLocation.Location(pose=[[0.40000003576278687, 0.4399999976158142, 0.0], [-0.0, 0.0, 0.629242556821724, -0.7772089839190354]], reachable_arms=None)\n",
      "CostmapLocation.Location(pose=[[0.1600000262260437, -0.8199999928474426, 0.0], [0.0, 0.0, 0.3092441803166155, 0.9509826691061749]], reachable_arms=None)\n",
      "CostmapLocation.Location(pose=[[0.1600000262260437, -0.800000011920929, 0.0], [0.0, 0.0, 0.2947648921088409, 0.955569808219192]], reachable_arms=None)\n",
      "CostmapLocation.Location(pose=[[0.1600000262260437, -0.7799999713897705, 0.0], [0.0, 0.0, 0.2795876445006667, 0.9601201742712049]], reachable_arms=None)\n",
      "CostmapLocation.Location(pose=[[0.40000003576278687, 0.42000001668930054, 0.0], [-0.0, 0.0, 0.6275230655600978, -0.7785979721204372]], reachable_arms=None)\n",
      "CostmapLocation.Location(pose=[[0.40000003576278687, 0.3999999761581421, 0.0], [-0.0, 0.0, 0.625727406172149, -0.7800418021908022]], reachable_arms=None)\n",
      "CostmapLocation.Location(pose=[[0.1600000262260437, -0.6800000071525574, 0.0], [0.0, 0.0, 0.192941774864589, 0.9812102076069644]], reachable_arms=None)\n",
      "CostmapLocation.Location(pose=[[0.1600000262260437, -0.6599999666213989, 0.0], [0.0, 0.0, 0.17350296849983673, 0.9848333462681615]], reachable_arms=None)\n",
      "CostmapLocation.Location(pose=[[0.1600000262260437, -0.6399999856948853, 0.0], [0.0, 0.0, 0.1534180827949973, 0.9881613693478952]], reachable_arms=None)\n",
      "CostmapLocation.Location(pose=[[0.06000000238418579, -0.7799999713897705, 0.0], [0.0, 0.0, 0.23690235347167604, 0.9715334656714513]], reachable_arms=None)\n",
      "CostmapLocation.Location(pose=[[0.1600000262260437, -0.6000000238418579, 0.0], [0.0, 0.0, 0.11150596056316535, 0.9937637650663692]], reachable_arms=None)\n",
      "CostmapLocation.Location(pose=[[0.1600000262260437, -0.5799999833106995, 0.0], [0.0, 0.0, 0.08980558225587992, 0.9959593151307349]], reachable_arms=None)\n",
      "CostmapLocation.Location(pose=[[0.1600000262260437, -0.5600000023841858, 0.0], [0.0, 0.0, 0.06771201426851889, 0.9977049078378335]], reachable_arms=None)\n",
      "CostmapLocation.Location(pose=[[0.1600000262260437, -0.5199999809265137, 0.0], [0.0, 0.0, 0.022709666974219986, 0.9997421022573372]], reachable_arms=None)\n",
      "CostmapLocation.Location(pose=[[0.1600000262260437, -0.5, 0.0], [-0.0, 0.0, 1.2246467991473532e-16, -1.0]], reachable_arms=None)\n",
      "CostmapLocation.Location(pose=[[0.1600000262260437, -0.46000000834465027, 0.0], [-0.0, 0.0, 0.04531441446110468, -0.9989727743247296]], reachable_arms=None)\n",
      "CostmapLocation.Location(pose=[[0.1600000262260437, -0.4399999976158142, 0.0], [-0.0, 0.0, 0.067712014268519, -0.9977049078378335]], reachable_arms=None)\n",
      "CostmapLocation.Location(pose=[[0.1600000262260437, -0.42000001668930054, 0.0], [-0.0, 0.0, 0.08980558225588005, -0.9959593151307349]], reachable_arms=None)\n",
      "CostmapLocation.Location(pose=[[0.1600000262260437, -0.4000000059604645, 0.0], [-0.0, 0.0, 0.11150592856108661, -0.9937637686571844]], reachable_arms=None)\n",
      "CostmapLocation.Location(pose=[[0.1600000262260437, -0.36000001430511475, 0.0], [-0.0, 0.0, 0.1534180827949972, -0.9881613693478952]], reachable_arms=None)\n",
      "CostmapLocation.Location(pose=[[0.1600000262260437, -0.3400000035762787, 0.0], [-0.0, 0.0, 0.17350299795727808, -0.9848333410784977]], reachable_arms=None)\n",
      "CostmapLocation.Location(pose=[[0.06000000238418579, -0.7599999904632568, 0.0], [0.0, 0.0, 0.2224840722051272, 0.9749363249028234]], reachable_arms=None)\n",
      "CostmapLocation.Location(pose=[[0.06000000238418579, -0.7200000286102295, 0.0], [0.0, 0.0, 0.1922337872966121, 0.9813491585677347]], reachable_arms=None)\n",
      "CostmapLocation.Location(pose=[[0.06000000238418579, -0.6800000071525574, 0.0], [0.0, 0.0, 0.16018224954418916, 0.9870874565766516]], reachable_arms=None)\n",
      "CostmapLocation.Location(pose=[[0.40000003576278687, 0.24000000953674316, 0.0], [-0.0, 0.0, 0.6079025503602734, -0.7940116430289138]], reachable_arms=None)\n",
      "CostmapLocation.Location(pose=[[0.40000003576278687, 0.2200000286102295, 0.0], [-0.0, 0.0, 0.6051265117797591, -0.796129326643141]], reachable_arms=None)\n",
      "CostmapLocation.Location(pose=[[0.40000003576278687, 0.19999998807907104, 0.0], [-0.0, 0.0, 0.6021955302033302, -0.7983486352484923]], reachable_arms=None)\n",
      "CostmapLocation.Location(pose=[[0.40000003576278687, 0.18000000715255737, 0.0], [-0.0, 0.0, 0.5990967055401978, -0.8006766747013938]], reachable_arms=None)\n",
      "CostmapLocation.Location(pose=[[0.40000003576278687, 0.12000000476837158, 0.0], [-0.0, 0.0, 0.5886413474851182, -0.8083943122207777]], reachable_arms=None)\n",
      "CostmapLocation.Location(pose=[[0.40000003576278687, 0.10000002384185791, 0.0], [-0.0, 0.0, 0.5847103112583555, -0.8112421660072638]], reachable_arms=None)\n",
      "CostmapLocation.Location(pose=[[0.40000003576278687, 0.07999998331069946, 0.0], [-0.0, 0.0, 0.5805210419933946, -0.8142452454898974]], reachable_arms=None)\n",
      "CostmapLocation.Location(pose=[[0.40000003576278687, 0.06000000238418579, 0.0], [-0.0, 0.0, 0.5760484604658216, -0.8174155437688696]], reachable_arms=None)\n",
      "CostmapLocation.Location(pose=[[0.40000003576278687, 0.04000002145767212, 0.0], [-0.0, 0.0, 0.5712642606210329, -0.8207661935881038]], reachable_arms=None)\n",
      "CostmapLocation.Location(pose=[[0.40000003576278687, 0.019999980926513672, 0.0], [-0.0, 0.0, 0.5661364522529744, -0.8243115414880564]], reachable_arms=None)\n",
      "CostmapLocation.Location(pose=[[0.40000003576278687, -0.02000001072883606, 0.0], [-0.0, 0.0, 0.554700219334889, -0.8320502789314033]], reachable_arms=None)\n",
      "CostmapLocation.Location(pose=[[0.40000003576278687, -0.03999999165534973, 0.0], [-0.0, 0.0, 0.5483037272495084, -0.8362792731404365]], reachable_arms=None)\n",
      "CostmapLocation.Location(pose=[[0.40000003576278687, -0.06000000238418579, 0.0], [-0.0, 0.0, 0.5413857751936699, -0.8407743112262346]], reachable_arms=None)\n",
      "CostmapLocation.Location(pose=[[0.06000000238418579, -0.6599999666213989, 0.0], [0.0, 0.0, 0.14353026072982417, 0.9896459287314977]], reachable_arms=None)\n",
      "CostmapLocation.Location(pose=[[0.06000000238418579, -0.6399999856948853, 0.0], [0.0, 0.0, 0.126497225016732, 0.9919669611751524]], reachable_arms=None)\n",
      "CostmapLocation.Location(pose=[[0.06000000238418579, -0.6200000047683716, 0.0], [0.0, 0.0, 0.10911677653846909, 0.9940289377467105]], reachable_arms=None)\n",
      "CostmapLocation.Location(pose=[[0.320000022649765, -0.06000000238418579, 0.0], [-0.0, 0.0, 0.48120917315000583, -0.8766058017582862]], reachable_arms=None)\n",
      "CostmapLocation.Location(pose=[[0.06000000238418579, -0.5600000023841858, 0.0], [0.0, 0.0, 0.05530038816103338, 0.9984697627215553]], reachable_arms=None)\n",
      "CostmapLocation.Location(pose=[[0.06000000238418579, -0.5400000214576721, 0.0], [0.0, 0.0, 0.036961117993765315, 0.9993167044319088]], reachable_arms=None)\n",
      "CostmapLocation.Location(pose=[[0.06000000238418579, -0.5199999809265137, 0.0], [0.0, 0.0, 0.018508983410353144, 0.9998286940937009]], reachable_arms=None)\n",
      "CostmapLocation.Location(pose=[[0.06000000238418579, -0.5, 0.0], [-0.0, 0.0, 1.2246467991473532e-16, -1.0]], reachable_arms=None)\n",
      "CostmapLocation.Location(pose=[[0.06000000238418579, -0.47999998927116394, 0.0], [-0.0, 0.0, 0.018509010962574655, -0.9998286935836495]], reachable_arms=None)\n",
      "CostmapLocation.Location(pose=[[0.06000000238418579, -0.46000000834465027, 0.0], [-0.0, 0.0, 0.036961090568360055, -0.9993167054462752]], reachable_arms=None)\n",
      "CostmapLocation.Location(pose=[[0.36000001430511475, -0.9199999570846558, 0.0], [0.0, 0.0, 0.5019268102620543, 0.8649100977212371]], reachable_arms=None)\n",
      "CostmapLocation.Location(pose=[[0.320000022649765, -0.9600000381469727, 0.0], [0.0, 0.0, 0.4899250530717391, 0.8717645567311473]], reachable_arms=None)\n",
      "CostmapLocation.Location(pose=[[0.320000022649765, -0.9800000190734863, 0.0], [0.0, 0.0, 0.4980607492192104, 0.8671421394945577]], reachable_arms=None)\n",
      "CostmapLocation.Location(pose=[[-0.019999980926513672, -0.7200000286102295, -0.0], [0.0, 0.0, 0.16966477458035367, 0.9855018337205659]], reachable_arms=None)\n",
      "CostmapLocation.Location(pose=[[0.06000000238418579, -0.42000001668930054, 0.0], [-0.0, 0.0, 0.07347289741105627, -0.9972972141473295]], reachable_arms=None)\n",
      "CostmapLocation.Location(pose=[[0.36000001430511475, -0.06000000238418579, 0.0], [-0.0, 0.0, 0.5104644401507683, -0.8598988634377666]], reachable_arms=None)\n",
      "CostmapLocation.Location(pose=[[0.36000001430511475, -0.03999999165534973, 0.0], [-0.0, 0.0, 0.5183792152336497, -0.8551508575764545]], reachable_arms=None)\n",
      "CostmapLocation.Location(pose=[[0.06000000238418579, -0.4000000059604645, 0.0], [-0.0, 0.0, 0.09142754840922339, -0.9958117308968996]], reachable_arms=None)\n",
      "CostmapLocation.Location(pose=[[0.06000000238418579, -0.36000001430511475, 0.0], [-0.0, 0.0, 0.12649722501673188, -0.9919669611751524]], reachable_arms=None)\n",
      "CostmapLocation.Location(pose=[[0.06000000238418579, -0.3400000035762787, 0.0], [-0.0, 0.0, 0.14353028583484304, -0.989645925090468]], reachable_arms=None)\n",
      "CostmapLocation.Location(pose=[[0.06000000238418579, -0.3199999928474426, 0.0], [-0.0, 0.0, 0.16018224954418928, -0.9870874565766516]], reachable_arms=None)\n",
      "CostmapLocation.Location(pose=[[0.06000000238418579, 0.3399999737739563, 0.0], [-0.0, 0.0, 0.479188062471093, -0.8777122539791727]], reachable_arms=None)\n",
      "CostmapLocation.Location(pose=[[0.7599999904632568, -1.4600000381469727, 0.0], [0.0, 0.0, 0.7630199772663818, 0.6463749022760786]], reachable_arms=None)\n",
      "CostmapLocation.Location(pose=[[0.7599999904632568, -1.440000057220459, 0.0], [0.0, 0.0, 0.7641332764647595, 0.6450583972007741]], reachable_arms=None)\n",
      "CostmapLocation.Location(pose=[[0.7599999904632568, -1.4200000762939453, 0.0], [0.0, 0.0, 0.7652911704202763, 0.6436842583726617]], reachable_arms=None)\n",
      "CostmapLocation.Location(pose=[[0.7599999904632568, -1.2999999523162842, 0.0], [0.0, 0.0, 0.7733421413379022, 0.6339889056055382]], reachable_arms=None)\n",
      "CostmapLocation.Location(pose=[[0.7599999904632568, -1.2799999713897705, 0.0], [0.0, 0.0, 0.7749013289770261, 0.6320822180299321]], reachable_arms=None)\n",
      "CostmapLocation.Location(pose=[[0.7599999904632568, -1.2599999904632568, 0.0], [0.0, 0.0, 0.7765341176558733, 0.6300752051274628]], reachable_arms=None)\n",
      "CostmapLocation.Location(pose=[[0.7599999904632568, -1.2400000095367432, 0.0], [0.0, 0.0, 0.7782457124494124, 0.6279598801309735]], reachable_arms=None)\n",
      "CostmapLocation.Location(pose=[[0.7599999904632568, -1.2200000286102295, 0.0], [0.0, 0.0, 0.7800418057010389, 0.6257274017962317]], reachable_arms=None)\n",
      "CostmapLocation.Location(pose=[[0.7599999904632568, -1.1600000858306885, 0.0], [0.0, 0.0, 0.7860025392515806, 0.6182232673477014]], reachable_arms=None)\n",
      "CostmapLocation.Location(pose=[[0.7599999904632568, -1.1399999856948853, 0.0], [0.0, 0.0, 0.7882054353189454, 0.6154122128570995]], reachable_arms=None)\n",
      "CostmapLocation.Location(pose=[[0.7599999904632568, -1.1200000047683716, 0.0], [0.0, 0.0, 0.7905308353429491, 0.6124222386327747]], reachable_arms=None)\n",
      "CostmapLocation.Location(pose=[[0.7599999904632568, -1.100000023841858, 0.0], [0.0, 0.0, 0.7929888481760636, 0.6092361501654345]], reachable_arms=None)\n",
      "CostmapLocation.Location(pose=[[0.7599999904632568, -1.059999942779541, 0.0], [0.0, 0.0, 0.7983486515022213, 0.6021955086552744]], reachable_arms=None)\n",
      "CostmapLocation.Location(pose=[[0.7599999904632568, -1.0399999618530273, 0.0], [0.0, 0.0, 0.801276585385483, 0.5982941030237393]], reachable_arms=None)\n",
      "CostmapLocation.Location(pose=[[0.7200000286102295, -0.02000001072883606, 0.0], [-0.0, 0.0, 0.7882054568962549, -0.6154121852213897]], reachable_arms=None)\n",
      "CostmapLocation.Location(pose=[[0.7599999904632568, -1.0199999809265137, 0.0], [0.0, 0.0, 0.8043897819710063, 0.5941019093224974]], reachable_arms=None)\n",
      "CostmapLocation.Location(pose=[[0.7200000286102295, -0.06000000238418579, 0.0], [-0.0, 0.0, 0.7947066960546578, -0.6069936303173945]], reachable_arms=None)\n",
      "CostmapLocation.Location(pose=[[0.7599999904632568, -1.0, 0.0], [0.0, 0.0, 0.8077053022684533, 0.5895864183369784]], reachable_arms=None)\n",
      "CostmapLocation.Location(pose=[[0.42000001668930054, -1.0399999618530273, 0.0], [0.0, 0.0, 0.5847102873500875, 0.8112421832393691]], reachable_arms=None)\n",
      "CostmapLocation.Location(pose=[[0.5600000023841858, 0.019999980926513672, 0.0], [-0.0, 0.0, 0.6794495944745192, -0.7337221875944678]], reachable_arms=None)\n",
      "CostmapLocation.Location(pose=[[0.42000001668930054, -1.0199999809265137, 0.0], [0.0, 0.0, 0.5800385558246183, 0.8145890213824952]], reachable_arms=None)\n",
      "CostmapLocation.Location(pose=[[0.42000001668930054, -1.0, 0.0], [0.0, 0.0, 0.5750132865984852, 0.8181440705861092]], reachable_arms=None)\n",
      "CostmapLocation.Location(pose=[[0.7599999904632568, -0.9800000190734863, 0.0], [0.0, 0.0, 0.8112421764626988, 0.5847102967522151]], reachable_arms=None)\n",
      "CostmapLocation.Location(pose=[[0.42000001668930054, -0.9600000381469727, 0.0], [0.0, 0.0, 0.5637378410776946, 0.8259537799036093]], reachable_arms=None)\n",
      "CostmapLocation.Location(pose=[[0.46000003814697266, -0.9199999570846558, 0.0], [0.0, 0.0, 0.5847103053868253, 0.8112421702392236]], reachable_arms=None)\n",
      "CostmapLocation.Location(pose=[[0.46000003814697266, -0.9399999976158142, 0.0], [0.0, 0.0, 0.5902526646498357, 0.8072185527313954]], reachable_arms=None)\n",
      "CostmapLocation.Location(pose=[[0.18000003695487976, -0.8799999952316284, 0.0], [0.0, 0.0, 0.3594886966628319, 0.933149439785321]], reachable_arms=None)\n",
      "CostmapLocation.Location(pose=[[0.18000003695487976, -0.8600000143051147, 0.0], [0.0, 0.0, 0.34694627733027394, 0.9378850039565962]], reachable_arms=None)\n",
      "CostmapLocation.Location(pose=[[0.18000003695487976, -0.8199999928474426, 0.0], [0.0, 0.0, 0.31981893247841453, 0.9474786807249899]], reachable_arms=None)\n",
      "CostmapLocation.Location(pose=[[0.46000003814697266, -0.9600000381469727, 0.0], [0.0, 0.0, 0.5953312014859728, 0.8034804045757855]], reachable_arms=None)\n",
      "CostmapLocation.Location(pose=[[0.42000001668930054, -0.9399999976158142, 0.0], [0.0, 0.0, 0.5573899813394788, 0.8302508107206975]], reachable_arms=None)\n",
      "CostmapLocation.Location(pose=[[0.42000001668930054, -0.9199999570846558, 0.0], [0.0, 0.0, 0.5504910073163097, 0.8348410931811363]], reachable_arms=None)\n",
      "CostmapLocation.Location(pose=[[0.18000003695487976, -0.7200000286102295, 0.0], [0.0, 0.0, 0.23892311138076555, 0.9710384888603203]], reachable_arms=None)\n",
      "CostmapLocation.Location(pose=[[0.18000003695487976, -0.699999988079071, 0.0], [0.0, 0.0, 0.22038544179784295, 0.9754128649159645]], reachable_arms=None)\n",
      "CostmapLocation.Location(pose=[[0.18000003695487976, -0.6800000071525574, 0.0], [0.0, 0.0, 0.20106589491847635, 0.9795777181523844]], reachable_arms=None)\n",
      "CostmapLocation.Location(pose=[[0.18000003695487976, -0.6599999666213989, 0.0], [0.0, 0.0, 0.1809865337324694, 0.9834855741735644]], reachable_arms=None)\n",
      "CostmapLocation.Location(pose=[[0.18000003695487976, -0.6200000047683716, 0.0], [0.0, 0.0, 0.13870122859558745, 0.9903342714387272]], reachable_arms=None)\n",
      "CostmapLocation.Location(pose=[[0.18000003695487976, -0.6000000238418579, 0.0], [0.0, 0.0, 0.11660575103638088, 0.9931782814909121]], reachable_arms=None)\n",
      "CostmapLocation.Location(pose=[[0.18000003695487976, -0.5600000023841858, 0.0], [0.0, 0.0, 0.0708890290088837, 0.9974842081788451]], reachable_arms=None)\n",
      "CostmapLocation.Location(pose=[[0.18000003695487976, -0.5400000214576721, 0.0], [0.0, 0.0, 0.04745804986310118, 0.9988732319484748]], reachable_arms=None)\n",
      "CostmapLocation.Location(pose=[[0.18000003695487976, -0.5199999809265137, 0.0], [0.0, 0.0, 0.023789286656110208, 0.9997169948742461]], reachable_arms=None)\n",
      "CostmapLocation.Location(pose=[[0.18000003695487976, -0.47999998927116394, 0.0], [-0.0, 0.0, 0.02378932204478184, -0.9997169940321359]], reachable_arms=None)\n",
      "CostmapLocation.Location(pose=[[0.18000003695487976, -0.46000000834465027, 0.0], [-0.0, 0.0, 0.047458014742672285, -0.9988732336171013]], reachable_arms=None)\n",
      "CostmapLocation.Location(pose=[[0.18000003695487976, -0.4399999976158142, 0.0], [-0.0, 0.0, 0.07088902900888405, -0.9974842081788451]], reachable_arms=None)\n",
      "CostmapLocation.Location(pose=[[0.18000003695487976, -0.42000001668930054, 0.0], [-0.0, 0.0, 0.09397188257345811, -0.9955748516739463]], reachable_arms=None)\n",
      "CostmapLocation.Location(pose=[[0.18000003695487976, -0.4000000059604645, 0.0], [-0.0, 0.0, 0.116605717689844, -0.9931782854060173]], reachable_arms=None)\n",
      "CostmapLocation.Location(pose=[[0.18000003695487976, -0.3799999952316284, 0.0], [-0.0, 0.0, 0.13870122859558756, -0.9903342714387272]], reachable_arms=None)\n",
      "CostmapLocation.Location(pose=[[0.18000003695487976, -0.3400000035762787, 0.0], [-0.0, 0.0, 0.1809865642034247, -0.9834855685661278]], reachable_arms=None)\n",
      "CostmapLocation.Location(pose=[[0.18000003695487976, -0.3199999928474426, 0.0], [-0.0, 0.0, 0.20106589491847623, -0.9795777181523844]], reachable_arms=None)\n",
      "CostmapLocation.Location(pose=[[0.46000003814697266, -1.0199999809265137, 0.0], [0.0, 0.0, 0.6082871787693633, 0.7937170201934747]], reachable_arms=None)\n",
      "CostmapLocation.Location(pose=[[0.46000003814697266, -1.0399999618530273, 0.0], [0.0, 0.0, 0.6119795293468554, 0.7908736028344867]], reachable_arms=None)\n",
      "CostmapLocation.Location(pose=[[0.12000003457069397, -0.3400000035762787, 0.0], [-0.0, 0.0, 0.1601822503613424, -0.9870874564440459]], reachable_arms=None)\n",
      "CostmapLocation.Location(pose=[[0.7599999904632568, -0.9399999976158142, 0.0], [0.0, 0.0, 0.8190674718030414, 0.573697199430304]], reachable_arms=None)\n",
      "CostmapLocation.Location(pose=[[0.7599999904632568, -0.9199999570846558, 0.0], [0.0, 0.0, 0.8234061394073969, 0.567452491038859]], reachable_arms=None)\n",
      "CostmapLocation.Location(pose=[[0.40000003576278687, -0.9199999570846558, 0.0], [0.0, 0.0, 0.5338850281030829, 0.8455570807268841]], reachable_arms=None)\n",
      "CostmapLocation.Location(pose=[[0.40000003576278687, -0.9399999976158142, 0.0], [0.0, 0.0, 0.5413857751936698, 0.8407743112262346]], reachable_arms=None)\n",
      "CostmapLocation.Location(pose=[[0.5600000023841858, -0.9199999570846558, 0.0], [0.0, 0.0, 0.6727521472919332, 0.7398679262639333]], reachable_arms=None)\n",
      "CostmapLocation.Location(pose=[[0.5600000023841858, -0.9399999976158142, 0.0], [0.0, 0.0, 0.6743382900381097, 0.7384225555794447]], reachable_arms=None)\n",
      "CostmapLocation.Location(pose=[[0.5600000023841858, -0.9600000381469727, 0.0], [0.0, 0.0, 0.6757848754929552, 0.7370989092753909]], reachable_arms=None)\n",
      "CostmapLocation.Location(pose=[[0.5600000023841858, -0.9800000190734863, 0.0], [0.0, 0.0, 0.6771094920096717, 0.7358822839492769]], reachable_arms=None)\n",
      "CostmapLocation.Location(pose=[[0.40000003576278687, -0.9600000381469727, 0.0], [0.0, 0.0, 0.5483037371553348, 0.8362792666457142]], reachable_arms=None)\n",
      "CostmapLocation.Location(pose=[[0.40000003576278687, -0.9800000190734863, 0.0], [0.0, 0.0, 0.5547002285053872, 0.8320502728177374]], reachable_arms=None)\n",
      "CostmapLocation.Location(pose=[[0.5600000023841858, -1.0399999618530273, 0.0], [0.0, 0.0, 0.6804881753835806, 0.7327590621501212]], reachable_arms=None)\n",
      "CostmapLocation.Location(pose=[[0.5600000023841858, -1.059999942779541, 0.0], [0.0, 0.0, 0.6814517396683945, 0.7318630517405007]], reachable_arms=None)\n",
      "CostmapLocation.Location(pose=[[0.40000003576278687, -1.0199999809265137, 0.0], [0.0, 0.0, 0.566136452252974, 0.8243115414880565]], reachable_arms=None)\n",
      "CostmapLocation.Location(pose=[[0.40000003576278687, -1.059999942779541, 0.0], [0.0, 0.0, 0.576048446687043, 0.8174155534790398]], reachable_arms=None)\n",
      "CostmapLocation.Location(pose=[[0.40000003576278687, -1.0799999237060547, 0.0], [0.0, 0.0, 0.5805210290994522, 0.814245254682711]], reachable_arms=None)\n",
      "CostmapLocation.Location(pose=[[0.40000003576278687, -1.100000023841858, 0.0], [0.0, 0.0, 0.5847103112583554, 0.811242166007264]], reachable_arms=None)\n",
      "CostmapLocation.Location(pose=[[0.40000003576278687, -1.1200000047683716, 0.0], [0.0, 0.0, 0.5886413474851181, 0.8083943122207778]], reachable_arms=None)\n",
      "CostmapLocation.Location(pose=[[0.40000003576278687, -1.1399999856948853, 0.0], [0.0, 0.0, 0.5923364961661528, 0.805690682153893]], reachable_arms=None)\n",
      "CostmapLocation.Location(pose=[[0.40000003576278687, -1.1600000858306885, 0.0], [0.0, 0.0, 0.595815695813545, 0.8031211967207821]], reachable_arms=None)\n",
      "CostmapLocation.Location(pose=[[0.40000003576278687, -1.1800000667572021, 0.0], [0.0, 0.0, 0.5990967150394086, 0.8006766675937232]], reachable_arms=None)\n",
      "CostmapLocation.Location(pose=[[0.30000001192092896, 0.06000000238418579, 0.0], [-0.0, 0.0, 0.5137015688251276, -0.8579689377749072]], reachable_arms=None)\n",
      "CostmapLocation.Location(pose=[[0.40000003576278687, -1.2000000476837158, 0.0], [0.0, 0.0, 0.6021955391816841, 0.7983486284761068]], reachable_arms=None)\n",
      "CostmapLocation.Location(pose=[[0.12000003457069397, -0.7200000286102295, 0.0], [0.0, 0.0, 0.21323134032681768, 0.9770017377172002]], reachable_arms=None)\n",
      "CostmapLocation.Location(pose=[[0.12000003457069397, -0.7400000095367432, 0.0], [0.0, 0.0, 0.22975294230117232, 0.9732489843323517]], reachable_arms=None)\n",
      "CostmapLocation.Location(pose=[[0.7200000286102295, -0.9199999570846558, 0.0], [0.0, 0.0, 0.7983486752055758, 0.6021954772310251]], reachable_arms=None)\n",
      "CostmapLocation.Location(pose=[[0.30000001192092896, -0.06000000238418579, 0.0], [-0.0, 0.0, 0.4672596647239358, -0.8841201308205097]], reachable_arms=None)\n",
      "CostmapLocation.Location(pose=[[0.7200000286102295, -0.9399999976158142, 0.0], [0.0, 0.0, 0.7947066960546577, 0.6069936303173946]], reachable_arms=None)\n",
      "CostmapLocation.Location(pose=[[0.7200000286102295, -0.9800000190734863, 0.0], [0.0, 0.0, 0.7882054524009812, 0.6154121909788306]], reachable_arms=None)\n",
      "CostmapLocation.Location(pose=[[0.7200000286102295, -1.0199999809265137, 0.0], [0.0, 0.0, 0.7825789306611713, 0.6225513772253801]], reachable_arms=None)\n",
      "CostmapLocation.Location(pose=[[0.7200000286102295, -1.0399999618530273, 0.0], [0.0, 0.0, 0.7800418327591097, 0.6257273680652056]], reachable_arms=None)\n",
      "CostmapLocation.Location(pose=[[0.7200000286102295, -1.059999942779541, 0.0], [0.0, 0.0, 0.7776661098964502, 0.6286775179044677]], reachable_arms=None)\n",
      "CostmapLocation.Location(pose=[[0.12000003457069397, -0.7799999713897705, 0.0], [0.0, 0.0, 0.2609799728792133, 0.9653442151667793]], reachable_arms=None)\n",
      "CostmapLocation.Location(pose=[[0.40000003576278687, -1.2200000286102295, 0.0], [0.0, 0.0, 0.6051265117797591, 0.796129326643141]], reachable_arms=None)\n",
      "CostmapLocation.Location(pose=[[0.40000003576278687, -1.2400000095367432, 0.0], [0.0, 0.0, 0.6079025503602733, 0.7940116430289139]], reachable_arms=None)\n",
      "CostmapLocation.Location(pose=[[0.40000003576278687, -1.2599999904632568, 0.0], [0.0, 0.0, 0.6105353144140497, 0.7919890339224006]], reachable_arms=None)\n",
      "CostmapLocation.Location(pose=[[0.30000001192092896, -0.9600000381469727, 0.0], [0.0, 0.0, 0.4763046642985637, 0.8792803118274811]], reachable_arms=None)\n",
      "CostmapLocation.Location(pose=[[0.30000001192092896, -0.9800000190734863, 0.0], [0.0, 0.0, 0.48476854801324587, 0.8746424725893028]], reachable_arms=None)\n",
      "CostmapLocation.Location(pose=[[0.40000003576278687, -1.2799999713897705, 0.0], [0.0, 0.0, 0.6130353508799832, 0.7900554781605251]], reachable_arms=None)\n",
      "CostmapLocation.Location(pose=[[0.40000003576278687, -1.4200000762939453, 0.0], [0.0, 0.0, 0.6275230707956623, 0.7785979679007532]], reachable_arms=None)\n",
      "CostmapLocation.Location(pose=[[0.40000003576278687, -1.440000057220459, 0.0], [0.0, 0.0, 0.6292425618374508, 0.7772089798582116]], reachable_arms=None)\n",
      "CostmapLocation.Location(pose=[[0.40000003576278687, -1.4800000190734863, 0.0], [0.0, 0.0, 0.6324713535276291, 0.7745837507764598]], reachable_arms=None)\n",
      "CostmapLocation.Location(pose=[[0.30000001192092896, -1.100000023841858, 0.0], [0.0, 0.0, 0.5257311256398637, 0.850650799995769]], reachable_arms=None)\n",
      "CostmapLocation.Location(pose=[[0.40000003576278687, -1.5, 0.0], [0.0, 0.0, 0.6339889189021104, 0.7733421304373204]], reachable_arms=None)\n",
      "CostmapLocation.Location(pose=[[0.6600000262260437, -1.059999942779541, 0.0], [0.0, 0.0, 0.7438189230025796, 0.6683811859884168]], reachable_arms=None)\n",
      "CostmapLocation.Location(pose=[[0.6600000262260437, -1.0399999618530273, 0.0], [0.0, 0.0, 0.7451280364682042, 0.6669214416024113]], reachable_arms=None)\n",
      "CostmapLocation.Location(pose=[[0.40000003576278687, -1.5199999809265137, 0.0], [0.0, 0.0, 0.6354469171168807, 0.7721445561076321]], reachable_arms=None)\n",
      "CostmapLocation.Location(pose=[[0.7599999904632568, -0.06000000238418579, 0.0], [-0.0, 0.0, 0.8190674718030414, -0.573697199430304]], reachable_arms=None)\n",
      "CostmapLocation.Location(pose=[[0.6600000262260437, -0.9800000190734863, 0.0], [0.0, 0.0, 0.7496781919990471, 0.6618025449037197]], reachable_arms=None)\n",
      "CostmapLocation.Location(pose=[[0.6600000262260437, -0.9600000381469727, 0.0], [0.0, 0.0, 0.7514450176526019, 0.659795714933858]], reachable_arms=None)\n",
      "CostmapLocation.Location(pose=[[0.6600000262260437, -0.9399999976158142, 0.0], [0.0, 0.0, 0.7533635455183684, 0.6576042641923737]], reachable_arms=None)\n",
      "CostmapLocation.Location(pose=[[0.6600000262260437, -0.9199999570846558, 0.0], [0.0, 0.0, 0.7554539797293172, 0.6552017128420349]], reachable_arms=None)\n",
      "CostmapLocation.Location(pose=[[0.7599999904632568, -0.03999999165534973, 0.0], [-0.0, 0.0, 0.8150216568156016, -0.5794304953327463]], reachable_arms=None)\n",
      "CostmapLocation.Location(pose=[[0.7599999904632568, -0.02000001072883606, 0.0], [-0.0, 0.0, 0.8112421819082376, -0.5847102891969338]], reachable_arms=None)\n",
      "CostmapLocation.Location(pose=[[0.7599999904632568, 0.0, 0.0], [-0.0, 0.0, 0.8077053022684534, -0.5895864183369783]], reachable_arms=None)\n",
      "CostmapLocation.Location(pose=[[0.42000001668930054, -0.03999999165534973, 0.0], [-0.0, 0.0, 0.5637378319982671, -0.8259537861005867]], reachable_arms=None)\n",
      "CostmapLocation.Location(pose=[[0.42000001668930054, -0.02000001072883606, 0.0], [-0.0, 0.0, 0.5695948472699068, -0.821925610967058]], reachable_arms=None)\n",
      "CostmapLocation.Location(pose=[[0.7599999904632568, 0.019999980926513672, 0.0], [-0.0, 0.0, 0.8043897819710065, -0.5941019093224971]], reachable_arms=None)\n",
      "CostmapLocation.Location(pose=[[0.7599999904632568, 0.04000002145767212, 0.0], [-0.0, 0.0, 0.8012765763915088, -0.5982941150690875]], reachable_arms=None)\n",
      "CostmapLocation.Location(pose=[[0.7599999904632568, 0.06000000238418579, 0.0], [-0.0, 0.0, 0.7983486430367377, -0.60219551987822]], reachable_arms=None)\n",
      "CostmapLocation.Location(pose=[[0.7599999904632568, 0.07999998331069946, 0.0], [-0.0, 0.0, 0.7955906580984392, -0.6058345522884052]], reachable_arms=None)\n",
      "CostmapLocation.Location(pose=[[0.6000000238418579, -1.0399999618530273, 0.0], [0.0, 0.0, 0.7071067967964922, 0.7071067655766025]], reachable_arms=None)\n",
      "CostmapLocation.Location(pose=[[0.7599999904632568, 0.12000000476837158, 0.0], [-0.0, 0.0, 0.7905308353429491, -0.6124222386327747]], reachable_arms=None)\n",
      "CostmapLocation.Location(pose=[[0.7599999904632568, 0.13999998569488525, 0.0], [-0.0, 0.0, 0.7882054353189454, -0.6154122128570993]], reachable_arms=None)\n",
      "CostmapLocation.Location(pose=[[0.6000000238418579, -0.9600000381469727, 0.0], [0.0, 0.0, 0.7071067995112624, 0.7071067628618322]], reachable_arms=None)\n",
      "CostmapLocation.Location(pose=[[0.6000000238418579, -0.9199999570846558, 0.0], [0.0, 0.0, 0.7071068012564771, 0.7071067611166174]], reachable_arms=None)\n",
      "CostmapLocation.Location(pose=[[0.7599999904632568, 0.19999998807907104, 0.0], [-0.0, 0.0, 0.7819286388432307, -0.6233679521412474]], reachable_arms=None)\n",
      "CostmapLocation.Location(pose=[[0.7599999904632568, 0.24000000953674316, 0.0], [-0.0, 0.0, 0.7782457124494124, -0.6279598801309735]], reachable_arms=None)\n",
      "CostmapLocation.Location(pose=[[0.7599999904632568, 0.25999999046325684, 0.0], [-0.0, 0.0, 0.7765341176558734, -0.6300752051274626]], reachable_arms=None)\n",
      "CostmapLocation.Location(pose=[[0.7599999904632568, 0.3999999761581421, 0.0], [-0.0, 0.0, 0.7664963565141927, -0.6422486554680108]], reachable_arms=None)\n",
      "CostmapLocation.Location(pose=[[0.5200000405311584, -1.059999942779541, 0.0], [0.0, 0.0, 0.6552017627486992, 0.7554539364454972]], reachable_arms=None)\n",
      "CostmapLocation.Location(pose=[[0.7599999904632568, 0.4399999976158142, 0.0], [-0.0, 0.0, 0.7641332798478192, -0.6450583931932166]], reachable_arms=None)\n",
      "CostmapLocation.Location(pose=[[0.7599999904632568, 0.4599999785423279, 0.0], [-0.0, 0.0, 0.7630199805203468, -0.6463748984349018]], reachable_arms=None)\n",
      "CostmapLocation.Location(pose=[[0.5200000405311584, -0.9800000190734863, 0.0], [0.0, 0.0, 0.6463749299325513, 0.7630199538378334]], reachable_arms=None)\n",
      "CostmapLocation.Location(pose=[[0.5200000405311584, -0.9600000381469727, 0.0], [0.0, 0.0, 0.6436842872481519, 0.7652911461331816]], reachable_arms=None)\n",
      "CostmapLocation.Location(pose=[[0.5200000405311584, -0.9399999976158142, 0.0], [0.0, 0.0, 0.6407474731093287, 0.7677517018567983]], reachable_arms=None)\n",
      "CostmapLocation.Location(pose=[[0.5200000405311584, -0.9199999570846558, 0.0], [0.0, 0.0, 0.6375295934855838, 0.7704258675759182]], reachable_arms=None)\n",
      "CostmapLocation.Location(pose=[[0.7599999904632568, 0.48000001907348633, 0.0], [-0.0, 0.0, 0.7619487799362424, -0.6476372879580603]], reachable_arms=None)\n",
      "CostmapLocation.Location(pose=[[0.08000004291534424, -1.3600000143051147, 0.0], [0.0, 0.0, 0.49121314043053105, 0.8710394082177771]], reachable_arms=None)\n",
      "CostmapLocation.Location(pose=[[0.08000004291534424, -1.3399999141693115, 0.0], [0.0, 0.0, 0.4866443146212454, 0.8736002009196302]], reachable_arms=None)\n",
      "CostmapLocation.Location(pose=[[0.08000004291534424, -1.3199999332427979, 0.0], [0.0, 0.0, 0.4819014292719997, 0.8762254347287597]], reachable_arms=None)\n",
      "CostmapLocation.Location(pose=[[0.800000011920929, 0.10000002384185791, 0.0], [-0.0, 0.0, 0.8112421869181332, -0.5847102822460749]], reachable_arms=None)\n",
      "CostmapLocation.Location(pose=[[0.08000004291534424, -1.2999999523162842, 0.0], [0.0, 0.0, 0.47697571121995425, 0.8789164755004988]], reachable_arms=None)\n",
      "CostmapLocation.Location(pose=[[0.08000004291534424, -1.2799999713897705, 0.0], [0.0, 0.0, 0.47185793486076455, 0.8816745937753534]], reachable_arms=None)\n",
      "CostmapLocation.Location(pose=[[0.08000004291534424, -1.1200000047683716, 0.0], [0.0, 0.0, 0.42272199615039796, 0.9062594076591001]], reachable_arms=None)\n",
      "CostmapLocation.Location(pose=[[0.08000004291534424, -1.100000023841858, 0.0], [0.0, 0.0, 0.41537302952326294, 0.9096511673958686]], reachable_arms=None)\n",
      "CostmapLocation.Location(pose=[[0.08000004291534424, -1.0799999237060547, 0.0], [0.0, 0.0, 0.40771004777285524, 0.913111448260866]], reachable_arms=None)\n",
      "CostmapLocation.Location(pose=[[0.6600000262260437, -0.06000000238418579, 0.0], [-0.0, 0.0, 0.7533635455183684, -0.6576042641923738]], reachable_arms=None)\n",
      "CostmapLocation.Location(pose=[[0.800000011920929, -0.02000001072883606, 0.0], [-0.0, 0.0, 0.8320503024078834, -0.5547001841201694]], reachable_arms=None)\n",
      "CostmapLocation.Location(pose=[[0.800000011920929, -0.03999999165534973, 0.0], [-0.0, 0.0, 0.8362792970410187, -0.5483036907960586]], reachable_arms=None)\n",
      "CostmapLocation.Location(pose=[[0.6600000262260437, 0.0, 0.0], [-0.0, 0.0, 0.7480458782580145, -0.6636470176390425]], reachable_arms=None)\n",
      "CostmapLocation.Location(pose=[[0.6600000262260437, 0.019999980926513672, 0.0], [-0.0, 0.0, 0.7465333755359777, -0.6653479685178718]], reachable_arms=None)\n",
      "CostmapLocation.Location(pose=[[0.08000004291534424, -1.059999942779541, 0.0], [0.0, 0.0, 0.3997179589740706, 0.9166381801308536]], reachable_arms=None)\n",
      "CostmapLocation.Location(pose=[[0.08000004291534424, -1.0399999618530273, 0.0], [0.0, 0.0, 0.3913810912731308, 0.9202286897254689]], reachable_arms=None)\n",
      "CostmapLocation.Location(pose=[[0.08000004291534424, -1.0199999809265137, 0.0], [0.0, 0.0, 0.38268344295499634, 0.9238795281248038]], reachable_arms=None)\n",
      "CostmapLocation.Location(pose=[[0.08000004291534424, -1.0, 0.0], [0.0, 0.0, 0.37360872826870806, 0.927586393907025]], reachable_arms=None)\n",
      "CostmapLocation.Location(pose=[[0.08000004291534424, -0.9800000190734863, 0.0], [0.0, 0.0, 0.3641404926023156, 0.9313440296943675]], reachable_arms=None)\n",
      "CostmapLocation.Location(pose=[[0.08000004291534424, -0.9600000381469727, 0.0], [0.0, 0.0, 0.35426225590246124, 0.9351461137399326]], reachable_arms=None)\n",
      "CostmapLocation.Location(pose=[[0.08000004291534424, -0.9399999976158142, 0.0], [0.0, 0.0, 0.34395765669044975, 0.9389851598422707]], reachable_arms=None)\n",
      "CostmapLocation.Location(pose=[[0.08000004291534424, -0.8999999761581421, 0.0], [0.0, 0.0, 0.3220062248236386, 0.9467375513704039]], reachable_arms=None)\n",
      "CostmapLocation.Location(pose=[[0.6200000047683716, 0.019999980926513672, 0.0], [-0.0, 0.0, 0.7205668368230933, -0.6933854870638422]], reachable_arms=None)\n",
      "CostmapLocation.Location(pose=[[0.6200000047683716, 0.0, 0.0], [-0.0, 0.0, 0.7210991775972193, -0.6928318526660087]], reachable_arms=None)\n",
      "CostmapLocation.Location(pose=[[0.08000004291534424, -0.8799999952316284, 0.0], [0.0, 0.0, 0.31032958077793255, 0.9506290292717726]], reachable_arms=None)\n",
      "CostmapLocation.Location(pose=[[0.10000002384185791, -0.3400000035762787, 0.0], [-0.0, 0.0, 0.1542333541128027, -0.9880344490346047]], reachable_arms=None)\n",
      "CostmapLocation.Location(pose=[[0.10000002384185791, -0.36000001430511475, 0.0], [-0.0, 0.0, 0.13608081508922812, -0.9906977398604739]], reachable_arms=None)\n",
      "CostmapLocation.Location(pose=[[0.10000002384185791, -0.3799999952316284, 0.0], [-0.0, 0.0, 0.1175004311676606, -0.993072831506035]], reachable_arms=None)\n",
      "CostmapLocation.Location(pose=[[0.2800000309944153, -0.9399999976158142, 0.0], [0.0, 0.0, 0.4537776644465652, 0.8911149371710815]], reachable_arms=None)\n",
      "CostmapLocation.Location(pose=[[0.2800000309944153, -0.9600000381469727, 0.0], [0.0, 0.0, 0.46310667291063123, 0.8863025496441075]], reachable_arms=None)\n",
      "CostmapLocation.Location(pose=[[0.10000002384185791, -0.4000000059604645, 0.0], [-0.0, 0.0, 0.09853761682597742, -0.9951333267810183]], reachable_arms=None)\n",
      "CostmapLocation.Location(pose=[[0.6000000238418579, -0.06000000238418579, 0.0], [-0.0, 0.0, 0.7071068003442057, -0.7071067620288889]], reachable_arms=None)\n",
      "CostmapLocation.Location(pose=[[0.6200000047683716, -0.06000000238418579, 0.0], [-0.0, 0.0, 0.72298259728983, -0.6908662417690211]], reachable_arms=None)\n",
      "CostmapLocation.Location(pose=[[0.800000011920929, -0.9199999570846558, 0.0], [0.0, 0.0, 0.8455571054316016, 0.5338849889762133]], reachable_arms=None)\n",
      "CostmapLocation.Location(pose=[[0.6000000238418579, 0.0, 0.0], [-0.0, 0.0, 0.7071067980452868, -0.707106764327808]], reachable_arms=None)\n",
      "CostmapLocation.Location(pose=[[0.6000000238418579, 0.019999980926513672, 0.0], [-0.0, 0.0, 0.7071067973968743, -0.7071067649762203]], reachable_arms=None)\n",
      "CostmapLocation.Location(pose=[[0.7000000476837158, 0.0, 0.0], [-0.0, 0.0, 0.7733421704061189, -0.6339888701480124]], reachable_arms=None)\n",
      "CostmapLocation.Location(pose=[[0.7000000476837158, -0.02000001072883606, 0.0], [-0.0, 0.0, 0.7758718810759301, -0.6308905009236531]], reachable_arms=None)\n",
      "CostmapLocation.Location(pose=[[0.800000011920929, -0.9399999976158142, 0.0], [0.0, 0.0, 0.8407743355385751, 0.5413857374365044]], reachable_arms=None)\n",
      "CostmapLocation.Location(pose=[[0.7000000476837158, -0.06000000238418579, 0.0], [-0.0, 0.0, 0.781543730451984, -0.6238504607605869]], reachable_arms=None)\n",
      "CostmapLocation.Location(pose=[[0.08000004291534424, -0.8400000333786011, 0.0], [0.0, 0.0, 0.2855086962954769, 0.9583761184105419]], reachable_arms=None)\n",
      "CostmapLocation.Location(pose=[[0.800000011920929, -1.0, 0.0], [0.0, 0.0, 0.828067236230666, 0.5606288007954161]], reachable_arms=None)\n",
      "CostmapLocation.Location(pose=[[0.800000011920929, -1.0199999809265137, 0.0], [0.0, 0.0, 0.8243115641002582, 0.5661364193289333]], reachable_arms=None)\n",
      "CostmapLocation.Location(pose=[[0.08000004291534424, -0.800000011920929, 0.0], [0.0, 0.0, 0.2586643002022747, 0.9659672767753924]], reachable_arms=None)\n",
      "CostmapLocation.Location(pose=[[0.08000004291534424, -0.7400000095367432, 0.0], [0.0, 0.0, 0.21452346607589295, 0.9767188349278338]], reachable_arms=None)\n",
      "CostmapLocation.Location(pose=[[0.800000011920929, -1.1399999856948853, 0.0], [0.0, 0.0, 0.8056907022569572, 0.5923364688221477]], reachable_arms=None)\n"
     ]
    },
    {
     "name": "stdout",
     "output_type": "stream",
     "text": [
      "CostmapLocation.Location(pose=[[0.08000004291534424, -0.699999988079071, 0.0], [0.0, 0.0, 0.18255738351852938, 0.9831952002135022]], reachable_arms=None)\n",
      "CostmapLocation.Location(pose=[[0.08000004291534424, -0.6800000071525574, 0.0], [0.0, 0.0, 0.16585225190306288, 0.986150612502311]], reachable_arms=None)\n",
      "CostmapLocation.Location(pose=[[0.08000004291534424, -0.6599999666213989, 0.0], [0.0, 0.0, 0.1486959664138048, 0.9888829605025382]], reachable_arms=None)\n",
      "CostmapLocation.Location(pose=[[0.08000004291534424, -0.6399999856948853, 0.0], [0.0, 0.0, 0.13111872520150106, 0.9913666727813344]], reachable_arms=None)\n",
      "CostmapLocation.Location(pose=[[0.020000040531158447, -0.8199999928474426, 0.0], [0.0, 0.0, 0.24942165672293837, 0.9683949799320444]], reachable_arms=None)\n",
      "CostmapLocation.Location(pose=[[0.08000004291534424, -0.6200000047683716, 0.0], [0.0, 0.0, 0.11315655157579983, 0.9935771710518884]], reachable_arms=None)\n",
      "CostmapLocation.Location(pose=[[0.5400000214576721, 0.019999980926513672, 0.0], [-0.0, 0.0, 0.6653480022965081, -0.7465333454307622]], reachable_arms=None)\n",
      "CostmapLocation.Location(pose=[[0.5400000214576721, 0.0, 0.0], [-0.0, 0.0, 0.6636470528022981, -0.7480458470620793]], reachable_arms=None)\n",
      "CostmapLocation.Location(pose=[[0.08000004291534424, -0.6000000238418579, 0.0], [0.0, 0.0, 0.09485136862344064, 0.9954914454028524]], reachable_arms=None)\n",
      "CostmapLocation.Location(pose=[[0.5400000214576721, -0.06000000238418579, 0.0], [-0.0, 0.0, 0.6576043042689356, -0.7533635105358961]], reachable_arms=None)\n",
      "CostmapLocation.Location(pose=[[0.08000004291534424, -0.5600000023841858, 0.0], [0.0, 0.0, 0.05740673185565825, 0.9983508737601487]], reachable_arms=None)\n",
      "CostmapLocation.Location(pose=[[0.08000004291534424, -0.5400000214576721, 0.0], [0.0, 0.0, 0.0383765431527053, 0.9992633491405799]], reachable_arms=None)\n",
      "CostmapLocation.Location(pose=[[0.08000004291534424, -0.5199999809265137, 0.0], [0.0, 0.0, 0.019220094730056016, 0.9998152769179753]], reachable_arms=None)\n",
      "CostmapLocation.Location(pose=[[0.08000004291534424, -0.5, 0.0], [-0.0, 0.0, 1.2246467991473532e-16, -1.0]], reachable_arms=None)\n",
      "CostmapLocation.Location(pose=[[0.08000004291534424, -0.47999998927116394, 0.0], [-0.0, 0.0, 0.0192201233385241, -0.9998152763680158]], reachable_arms=None)\n",
      "CostmapLocation.Location(pose=[[0.08000004291534424, -0.46000000834465027, 0.0], [-0.0, 0.0, 0.038376514686174194, -0.999263350233832]], reachable_arms=None)\n",
      "CostmapLocation.Location(pose=[[0.08000004291534424, -0.4399999976158142, 0.0], [-0.0, 0.0, 0.057406731855658366, -0.9983508737601487]], reachable_arms=None)\n",
      "CostmapLocation.Location(pose=[[0.08000004291534424, -0.42000001668930054, 0.0], [-0.0, 0.0, 0.07625057202402549, -0.9970886872620754]], reachable_arms=None)\n",
      "CostmapLocation.Location(pose=[[0.08000004291534424, -0.4000000059604645, 0.0], [-0.0, 0.0, 0.09485134111392095, -0.995491448023985]], reachable_arms=None)\n",
      "CostmapLocation.Location(pose=[[0.08000004291534424, -0.3799999952316284, 0.0], [-0.0, 0.0, 0.11315655157579996, -0.9935771710518884]], reachable_arms=None)\n",
      "CostmapLocation.Location(pose=[[0.08000004291534424, -0.36000001430511475, 0.0], [-0.0, 0.0, 0.13111872520150095, -0.9913666727813344]], reachable_arms=None)\n",
      "CostmapLocation.Location(pose=[[0.2200000286102295, -0.9199999570846558, 0.0], [0.0, 0.0, 0.40563941260120606, 0.914033187003923]], reachable_arms=None)\n",
      "CostmapLocation.Location(pose=[[0.08000004291534424, -0.3400000035762787, 0.0], [-0.0, 0.0, 0.1486959923005037, -0.9888829566100169]], reachable_arms=None)\n",
      "CostmapLocation.Location(pose=[[0.7800000309944153, -1.4600000381469727, 0.0], [0.0, 0.0, 0.7695091158105483, 0.638635827905441]], reachable_arms=None)\n",
      "CostmapLocation.Location(pose=[[0.7800000309944153, -1.440000057220459, 0.0], [0.0, 0.0, 0.7707374037190705, 0.6371529286665694]], reachable_arms=None)\n",
      "CostmapLocation.Location(pose=[[0.7800000309944153, -1.4200000762939453, 0.0], [0.0, 0.0, 0.772014126455364, 0.6356053717153131]], reachable_arms=None)\n",
      "CostmapLocation.Location(pose=[[0.7000000476837158, -0.9199999570846558, 0.0], [0.0, 0.0, 0.7847358326925402, 0.6198303581532172]], reachable_arms=None)\n",
      "CostmapLocation.Location(pose=[[0.7000000476837158, -0.9399999976158142, 0.0], [0.0, 0.0, 0.7815437304519838, 0.6238504607605873]], reachable_arms=None)\n",
      "CostmapLocation.Location(pose=[[0.7000000476837158, -0.9600000381469727, 0.0], [0.0, 0.0, 0.7785980106039618, 0.6275230178117397]], reachable_arms=None)\n",
      "CostmapLocation.Location(pose=[[0.7000000476837158, -0.9800000190734863, 0.0], [0.0, 0.0, 0.7758718771653622, 0.6308905057328864]], reachable_arms=None)\n",
      "CostmapLocation.Location(pose=[[0.08000004291534424, 0.30000001192092896, 0.0], [-0.0, 0.0, 0.4769757261812363, -0.8789164673812195]], reachable_arms=None)\n",
      "CostmapLocation.Location(pose=[[0.7000000476837158, -1.0199999809265137, 0.0], [0.0, 0.0, 0.7709888089875109, 0.6368486919324082]], reachable_arms=None)\n",
      "CostmapLocation.Location(pose=[[0.7000000476837158, -1.0399999618530273, 0.0], [0.0, 0.0, 0.7687943016721404, 0.6394961467565273]], reachable_arms=None)\n",
      "CostmapLocation.Location(pose=[[0.08000004291534424, 0.3199999928474426, 0.0], [-0.0, 0.0, 0.48190144367489307, -0.876225426807539]], reachable_arms=None)\n",
      "CostmapLocation.Location(pose=[[0.7800000309944153, -1.2799999713897705, 0.0], [0.0, 0.0, 0.7825789261444073, 0.6225513829031836]], reachable_arms=None)\n",
      "CostmapLocation.Location(pose=[[0.7800000309944153, -1.2599999904632568, 0.0], [0.0, 0.0, 0.7843680335767259, 0.6202957261685592]], reachable_arms=None)\n",
      "CostmapLocation.Location(pose=[[0.3800000250339508, -1.0199999809265137, 0.0], [0.0, 0.0, 0.552431006844886, 0.8335586258184516]], reachable_arms=None)\n",
      "CostmapLocation.Location(pose=[[0.3800000250339508, -1.0, 0.0], [0.0, 0.0, 0.5464711447682644, 0.8374779328051949]], reachable_arms=None)\n",
      "CostmapLocation.Location(pose=[[0.3800000250339508, -0.9800000190734863, 0.0], [0.0, 0.0, 0.5400672839423339, 0.841621844307258]], reachable_arms=None)\n",
      "CostmapLocation.Location(pose=[[0.5200000405311584, -0.06000000238418579, 0.0], [-0.0, 0.0, 0.6407474731093289, -0.7677517018567982]], reachable_arms=None)\n",
      "CostmapLocation.Location(pose=[[0.3800000250339508, -0.9399999976158142, 0.0], [0.0, 0.0, 0.5257311305564937, 0.8506507969571244]], reachable_arms=None)\n",
      "CostmapLocation.Location(pose=[[0.3800000250339508, -0.9199999570846558, 0.0], [0.0, 0.0, 0.5176837884061924, 0.8555720280732725]], reachable_arms=None)\n",
      "CostmapLocation.Location(pose=[[0.5200000405311584, 0.0, 0.0], [-0.0, 0.0, 0.6488488178842474, -0.7609173486852661]], reachable_arms=None)\n",
      "CostmapLocation.Location(pose=[[0.5200000405311584, 0.019999980926513672, 0.0], [-0.0, 0.0, 0.6511308952716572, -0.7589654519296185]], reachable_arms=None)\n",
      "CostmapLocation.Location(pose=[[0.48000001907348633, -1.059999942779541, 0.0], [0.0, 0.0, 0.6286775495598441, 0.7776660843057448]], reachable_arms=None)\n",
      "CostmapLocation.Location(pose=[[0.48000001907348633, -1.0399999618530273, 0.0], [0.0, 0.0, 0.6257274008845831, 0.7800418064323374]], reachable_arms=None)\n",
      "CostmapLocation.Location(pose=[[0.48000001907348633, -1.0199999809265137, 0.0], [0.0, 0.0, 0.6225514112922013, 0.7825789035605857]], reachable_arms=None)\n",
      "CostmapLocation.Location(pose=[[0.7800000309944153, -1.2000000476837158, 0.0], [0.0, 0.0, 0.7902661147111265, 0.6127637945729012]], reachable_arms=None)\n",
      "CostmapLocation.Location(pose=[[0.5400000214576721, -0.9199999570846558, 0.0], [0.0, 0.0, 0.6552017548686996, 0.7554539432797849]], reachable_arms=None)\n",
      "CostmapLocation.Location(pose=[[0.5400000214576721, -0.9399999976158142, 0.0], [0.0, 0.0, 0.6576043042689353, 0.7533635105358963]], reachable_arms=None)\n",
      "CostmapLocation.Location(pose=[[0.5400000214576721, -0.9600000381469727, 0.0], [0.0, 0.0, 0.659795753229806, 0.7514449840273824]], reachable_arms=None)\n",
      "CostmapLocation.Location(pose=[[0.5400000214576721, -0.9800000190734863, 0.0], [0.0, 0.0, 0.6618025815677604, 0.7496781596326839]], reachable_arms=None)\n",
      "CostmapLocation.Location(pose=[[0.10000002384185791, -0.6200000047683716, 0.0], [0.0, 0.0, 0.11750043116766049, 0.9930728315060351]], reachable_arms=None)\n",
      "CostmapLocation.Location(pose=[[0.10000002384185791, -0.6399999856948853, 0.0], [0.0, 0.0, 0.13608081508922823, 0.9906977398604739]], reachable_arms=None)\n",
      "CostmapLocation.Location(pose=[[0.5400000214576721, -1.0399999618530273, 0.0], [0.0, 0.0, 0.6669214740997972, 0.7451280073816535]], reachable_arms=None)\n",
      "CostmapLocation.Location(pose=[[0.10000002384185791, -0.6599999666213989, 0.0], [0.0, 0.0, 0.15423332740224135, 0.9880344532041547]], reachable_arms=None)\n",
      "CostmapLocation.Location(pose=[[0.10000002384185791, -0.6800000071525574, 0.0], [0.0, 0.0, 0.1719194543502525, 0.9851110095902448]], reachable_arms=None)\n",
      "CostmapLocation.Location(pose=[[0.10000002384185791, -0.699999988079071, 0.0], [0.0, 0.0, 0.18910751913670412, 0.9819563871201007]], reachable_arms=None)\n",
      "CostmapLocation.Location(pose=[[0.10000002384185791, -0.7200000286102295, 0.0], [0.0, 0.0, 0.20577292577442133, 0.9785997665124565]], reachable_arms=None)\n",
      "CostmapLocation.Location(pose=[[0.10000002384185791, -0.7400000095367432, 0.0], [0.0, 0.0, 0.2218974507397795, 0.9750700084379517]], reachable_arms=None)\n",
      "CostmapLocation.Location(pose=[[0.48000001907348633, -0.9800000190734863, 0.0], [0.0, 0.0, 0.6154122278264409, 0.7882054236312364]], reachable_arms=None)\n",
      "CostmapLocation.Location(pose=[[0.48000001907348633, -0.9600000381469727, 0.0], [0.0, 0.0, 0.6113829242042519, 0.791334897493759]], reachable_arms=None)\n",
      "CostmapLocation.Location(pose=[[0.6200000047683716, -0.9199999570846558, 0.0], [0.0, 0.0, 0.7237282520322774, 0.6900850796896745]], reachable_arms=None)\n",
      "CostmapLocation.Location(pose=[[0.6200000047683716, -0.9399999976158142, 0.0], [0.0, 0.0, 0.7229825972898299, 0.6908662417690211]], reachable_arms=None)\n",
      "CostmapLocation.Location(pose=[[0.6200000047683716, -0.9600000381469727, 0.0], [0.0, 0.0, 0.7223009175605529, 0.6915789069160391]], reachable_arms=None)\n",
      "CostmapLocation.Location(pose=[[0.6200000047683716, -0.9800000190734863, 0.0], [0.0, 0.0, 0.7216753262267915, 0.6922316978551719]], reachable_arms=None)\n",
      "CostmapLocation.Location(pose=[[0.7800000309944153, -1.1800000667572021, 0.0], [0.0, 0.0, 0.7924306209432104, 0.6099620570097439]], reachable_arms=None)\n",
      "CostmapLocation.Location(pose=[[0.7800000309944153, -1.1600000858306885, 0.0], [0.0, 0.0, 0.7947066805159658, 0.6069936506614337]], reachable_arms=None)\n",
      "CostmapLocation.Location(pose=[[0.2600000202655792, -0.9199999570846558, 0.0], [0.0, 0.0, 0.43058202188965916, 0.9025514514006462]], reachable_arms=None)\n",
      "CostmapLocation.Location(pose=[[0.2600000202655792, -0.9399999976158142, 0.0], [0.0, 0.0, 0.44076780716676023, 0.8976211562599256]], reachable_arms=None)\n",
      "CostmapLocation.Location(pose=[[0.4400000274181366, -1.0199999809265137, 0.0], [0.0, 0.0, 0.59410192195675, 0.8043897726396673]], reachable_arms=None)\n",
      "CostmapLocation.Location(pose=[[0.4400000274181366, -0.9600000381469727, 0.0], [0.0, 0.0, 0.5794305176561816, 0.8150216409450055]], reachable_arms=None)\n",
      "CostmapLocation.Location(pose=[[0.4400000274181366, -0.9399999976158142, 0.0], [0.0, 0.0, 0.5736972141298249, 0.8190674615070959]], reachable_arms=None)\n",
      "CostmapLocation.Location(pose=[[0.4400000274181366, -0.9199999570846558, 0.0], [0.0, 0.0, 0.5674525063456244, 0.8234061288586995]], reachable_arms=None)\n",
      "CostmapLocation.Location(pose=[[0.6200000047683716, -1.059999942779541, 0.0], [0.0, 0.0, 0.7196150160514267, 0.6943732632189296]], reachable_arms=None)\n",
      "CostmapLocation.Location(pose=[[0.7800000309944153, -1.1399999856948853, 0.0], [0.0, 0.0, 0.7971027617970364, 0.6038436777308652]], reachable_arms=None)\n",
      "CostmapLocation.Location(pose=[[0.7800000309944153, -1.1200000047683716, 0.0], [0.0, 0.0, 0.7996281126758352, 0.6004955298905078]], reachable_arms=None)\n",
      "CostmapLocation.Location(pose=[[0.7800000309944153, -1.100000023841858, 0.0], [0.0, 0.0, 0.8022929391700772, 0.596930515016479]], reachable_arms=None)\n",
      "CostmapLocation.Location(pose=[[0.7800000309944153, -1.0799999237060547, 0.0], [0.0, 0.0, 0.8051084700180202, 0.593127601368578]], reachable_arms=None)\n",
      "CostmapLocation.Location(pose=[[0.7800000309944153, -1.059999942779541, 0.0], [0.0, 0.0, 0.8080870177496051, 0.5890631305255399]], reachable_arms=None)\n",
      "CostmapLocation.Location(pose=[[0.7800000309944153, -1.0399999618530273, 0.0], [0.0, 0.0, 0.8112422064736688, 0.5847102551142174]], reachable_arms=None)\n",
      "CostmapLocation.Location(pose=[[0.7800000309944153, -1.0199999809265137, 0.0], [0.0, 0.0, 0.8145890451314459, 0.5800385224722916]], reachable_arms=None)\n",
      "CostmapLocation.Location(pose=[[0.7800000309944153, -0.9800000190734863, 0.0], [0.0, 0.0, 0.8219256299576326, 0.5695948198664984]], reachable_arms=None)\n",
      "CostmapLocation.Location(pose=[[0.48000001907348633, 0.019999980926513672, 0.0], [-0.0, 0.0, 0.6225514112922014, -0.7825789035605856]], reachable_arms=None)\n",
      "CostmapLocation.Location(pose=[[0.48000001907348633, 0.0, 0.0], [-0.0, 0.0, 0.6191232036509696, -0.7852938677342133]], reachable_arms=None)\n",
      "CostmapLocation.Location(pose=[[0.48000001907348633, -0.02000001072883606, 0.0], [-0.0, 0.0, 0.6154122220690025, -0.7882054281265086]], reachable_arms=None)\n",
      "CostmapLocation.Location(pose=[[0.7800000309944153, -0.9600000381469727, 0.0], [0.0, 0.0, 0.8259538052423626, 0.5637378039529204]], reachable_arms=None)\n",
      "CostmapLocation.Location(pose=[[0.48000001907348633, -0.06000000238418579, 0.0], [-0.0, 0.0, 0.6069936703981873, -0.7947066654411153]], reachable_arms=None)\n",
      "CostmapLocation.Location(pose=[[0.7800000309944153, -0.9199999570846558, 0.0], [0.0, 0.0, 0.8348411195814525, 0.550490967279198]], reachable_arms=None)\n",
      "CostmapLocation.Location(pose=[[0.3800000250339508, -0.06000000238418579, 0.0], [-0.0, 0.0, 0.5257311305564938, -0.8506507969571244]], reachable_arms=None)\n",
      "CostmapLocation.Location(pose=[[0.6800000071525574, 0.0, 0.0], [-0.0, 0.0, 0.760917378852507, -0.6488487825065485]], reachable_arms=None)\n",
      "CostmapLocation.Location(pose=[[0.3800000250339508, -0.03999999165534973, 0.0], [-0.0, 0.0, 0.5331718995887333, -0.8460069299296205]], reachable_arms=None)\n",
      "CostmapLocation.Location(pose=[[0.6800000071525574, -0.06000000238418579, 0.0], [-0.0, 0.0, 0.7677517354653404, -0.6407474328391477]], reachable_arms=None)\n",
      "CostmapLocation.Location(pose=[[0.08000004291534424, 0.3399999737739563, 0.0], [-0.0, 0.0, 0.4866443284925208, -0.8736001931925516]], reachable_arms=None)\n",
      "CostmapLocation.Location(pose=[[0.08000004291534424, 0.36000001430511475, 0.0], [-0.0, 0.0, 0.49121314043053116, -0.871039408217777]], reachable_arms=None)\n",
      "CostmapLocation.Location(pose=[[0.3800000250339508, 0.48000001907348633, 0.0], [-0.0, 0.0, 0.6248846635502159, -0.7807170788830827]], reachable_arms=None)\n",
      "CostmapLocation.Location(pose=[[0.3800000250339508, 0.4599999785423279, 0.0], [-0.0, 0.0, 0.6231467977438087, -0.7821048960731781]], reachable_arms=None)\n",
      "CostmapLocation.Location(pose=[[0.3800000250339508, 0.4399999976158142, 0.0], [-0.0, 0.0, 0.6213354796962035, -0.7835446519954614]], reachable_arms=None)\n",
      "CostmapLocation.Location(pose=[[0.3800000250339508, 0.42000001668930054, 0.0], [-0.0, 0.0, 0.6194460492255451, -0.7850392296559857]], reachable_arms=None)\n",
      "CostmapLocation.Location(pose=[[0.3800000250339508, 0.3999999761581421, 0.0], [-0.0, 0.0, 0.6174734524996947, -0.7865917209442949]], reachable_arms=None)\n",
      "CostmapLocation.Location(pose=[[0.3800000250339508, 0.3799999952316284, 0.0], [-0.0, 0.0, 0.6154122194519845, -0.7882054301698146]], reachable_arms=None)\n",
      "CostmapLocation.Location(pose=[[0.48000001907348633, -0.9199999570846558, 0.0], [0.0, 0.0, 0.6021955191300243, 0.7983486436011027]], reachable_arms=None)\n",
      "CostmapLocation.Location(pose=[[0.24000000953674316, -0.9399999976158142, 0.0], [0.0, 0.0, 0.4282302054595228, 0.9036696803213522]], reachable_arms=None)\n",
      "CostmapLocation.Location(pose=[[0.24000000953674316, -0.9199999570846558, 0.0], [0.0, 0.0, 0.41785679254297015, 0.90851290630662]], reachable_arms=None)\n",
      "CostmapLocation.Location(pose=[[0.3800000250339508, 0.24000000953674316, 0.0], [-0.0, 0.0, 0.5979254824327949, -0.8015516935653679]], reachable_arms=None)\n",
      "CostmapLocation.Location(pose=[[0.3800000250339508, 0.2200000286102295, 0.0], [-0.0, 0.0, 0.5948871764601592, -0.8038092107479606]], reachable_arms=None)\n",
      "CostmapLocation.Location(pose=[[0.3800000250339508, 0.19999998807907104, 0.0], [-0.0, 0.0, 0.5916812611799743, -0.8061719947805648]], reachable_arms=None)\n",
      "CostmapLocation.Location(pose=[[0.3800000250339508, 0.18000000715255737, 0.0], [-0.0, 0.0, 0.5882940375460608, -0.8086470957022934]], reachable_arms=None)\n",
      "CostmapLocation.Location(pose=[[0.3800000250339508, 0.1600000262260437, 0.0], [-0.0, 0.0, 0.5847103033459152, -0.8112421717102285]], reachable_arms=None)\n",
      "CostmapLocation.Location(pose=[[0.6800000071525574, -1.059999942779541, 0.0], [0.0, 0.0, 0.7554539637826473, 0.6552017312287008]], reachable_arms=None)\n",
      "CostmapLocation.Location(pose=[[0.6800000071525574, -1.0399999618530273, 0.0], [0.0, 0.0, 0.7571488242217552, 0.6532424189989606]], reachable_arms=None)\n",
      "CostmapLocation.Location(pose=[[0.7800000309944153, -0.03999999165534973, 0.0], [-0.0, 0.0, 0.8259538114393408, -0.5637377948734907]], reachable_arms=None)\n",
      "CostmapLocation.Location(pose=[[0.7800000309944153, -0.02000001072883606, 0.0], [-0.0, 0.0, 0.8219256357710747, -0.5695948114776983]], reachable_arms=None)\n",
      "CostmapLocation.Location(pose=[[0.6800000071525574, -0.9800000190734863, 0.0], [0.0, 0.0, 0.7630199850758976, 0.6463748930572544]], reachable_arms=None)\n",
      "CostmapLocation.Location(pose=[[0.6800000071525574, -0.9399999976158142, 0.0], [0.0, 0.0, 0.7677517354653404, 0.6407474328391477]], reachable_arms=None)\n",
      "CostmapLocation.Location(pose=[[0.4400000274181366, 0.0, 0.0], [-0.0, 0.0, 0.5895864314382999, -0.8077052927051122]], reachable_arms=None)\n",
      "CostmapLocation.Location(pose=[[0.7800000309944153, 0.04000002145767212, 0.0], [-0.0, 0.0, 0.8112421967927096, -0.5847102685458316]], reachable_arms=None)\n",
      "CostmapLocation.Location(pose=[[0.7800000309944153, 0.06000000238418579, 0.0], [-0.0, 0.0, 0.8080870086167103, -0.5890631430542033]], reachable_arms=None)\n",
      "CostmapLocation.Location(pose=[[0.1600000262260437, -0.6200000047683716, 0.0], [0.0, 0.0, 0.13273316352252004, 0.9911518084033868]], reachable_arms=None)\n"
     ]
    }
   ],
   "source": [
    "from pycram.designators.location_designator import *\n",
    "from pycram.designators.object_designator import *\n",
    "\n",
    "robot_desig = BelieveObject(types=[\"robot\"]).resolve()\n",
    "milk_desig = BelieveObject(names=[\"Milk\"]).resolve()\n",
    "location_desig = CostmapLocation(target=milk_desig, visible_for=robot_desig)\n",
    "\n",
    "print(f\"Resolved: {location_desig.resolve()}\")\n",
    "print()\n",
    "\n",
    "for pose in location_desig:\n",
    "    print(pose)\n",
    "                              "
   ]
  },
  {
   "cell_type": "markdown",
   "metadata": {},
   "source": [
    "# Action Designator\n",
    "Action Designator are used to describe high-level actions. Action Designator are usually composed of other Designators to describe the high-level action in detail. "
   ]
  },
  {
   "cell_type": "code",
   "execution_count": 26,
   "metadata": {},
   "outputs": [],
   "source": [
    "from pycram.designators.action_designator import *\n",
    "from pycram.enums import Arms\n",
    "\n",
    "with simulated_robot:\n",
    "    ParkArmsAction([Arms.BOTH]).resolve().perform()\n"
   ]
  },
  {
   "cell_type": "markdown",
   "metadata": {},
   "source": [
    "# Making a simple plan\n",
    "To get familiar with the PyCRAM Framework we will write a simple pick and place plan. This plan will let the robot grab a cereal box from the kitchen counter and place it on the kitchen island. This is a simple pick and place plan."
   ]
  },
  {
   "cell_type": "code",
   "execution_count": 27,
   "metadata": {},
   "outputs": [],
   "source": [
    "from pycram.designators.object_designator import *\n",
    "cereal = Object(\"cereal\", \"cereal\", \"breakfast_cereal.stl\", position=[1.4, 1, 0.95])\n"
   ]
  },
  {
   "cell_type": "code",
   "execution_count": 28,
   "metadata": {},
   "outputs": [],
   "source": [
    "cereal_desig = ObjectDesignatorDescription(names=[\"cereal\"])\n",
    "kitchen_desig = ObjectDesignatorDescription(names=[\"kitchen\"])\n",
    "robot_desig = ObjectDesignatorDescription(names=[\"pr2\"]).resolve()\n",
    "with simulated_robot:\n",
    "    ParkArmsAction([Arms.BOTH]).resolve().perform()\n",
    "\n",
    "    MoveTorsoAction([0.3]).resolve().perform()\n",
    "\n",
    "    pickup_pose = CostmapLocation(target=cereal_desig.resolve(), reachable_for=robot_desig).resolve()\n",
    "    pickup_arm = pickup_pose.reachable_arms[0]\n",
    "\n",
    "    NavigateAction(target_locations=[pickup_pose.pose]).resolve().perform()\n",
    "\n",
    "    PickUpAction(object_designator_description=cereal_desig, arms=[pickup_arm], grasps=[\"front\"]).resolve().perform()\n",
    "\n",
    "    ParkArmsAction([Arms.BOTH]).resolve().perform()\n",
    "\n",
    "    place_island = SemanticCostmapLocation(\"kitchen_island_surface\", kitchen_desig.resolve(), cereal_desig.resolve()).resolve()\n",
    "\n",
    "    place_stand = CostmapLocation(place_island.pose, reachable_for=robot_desig, reachable_arm=pickup_arm).resolve()\n",
    "\n",
    "    NavigateAction(target_locations=[place_stand.pose]).resolve().perform()\n",
    "\n",
    "    PlaceAction(cereal_desig, target_locations=[place_island.pose], arms=[pickup_arm]).resolve().perform()\n",
    "\n",
    "    ParkArmsAction([Arms.BOTH]).resolve().perform()\n",
    "    \n",
    "    \n",
    "    "
   ]
  },
  {
   "cell_type": "markdown",
   "metadata": {},
   "source": [
    "# Task Trees\n",
    "Task trees are a hirachical representation of all Actions involved in a plan. The Task tree can later be used to inspect and restructre the execution order of Actions in the plan."
   ]
  },
  {
   "cell_type": "code",
   "execution_count": 29,
   "metadata": {},
   "outputs": [
    {
     "name": "stdout",
     "output_type": "stream",
     "text": [
      "no_operation()\n",
      "├── perform(ParkArmsAction, )\n",
      "├── perform(ParkArmsAction, )\n",
      "├── perform(MoveTorsoAction, )\n",
      "├── perform(NavigateAction, )\n",
      "├── perform(PickUpAction, )\n",
      "├── perform(ParkArmsAction, )\n",
      "├── perform(NavigateAction, )\n",
      "├── perform(PlaceAction, )\n",
      "└── perform(ParkArmsAction, )\n"
     ]
    }
   ],
   "source": [
    "import pycram.task\n",
    "import anytree\n",
    "tt = pycram.task.task_tree\n",
    "print(anytree.RenderTree(tt))"
   ]
  },
  {
   "cell_type": "code",
   "execution_count": 30,
   "metadata": {},
   "outputs": [],
   "source": [
    "from anytree.dotexport import RenderTreeGraph, DotExporter\n",
    "RenderTreeGraph(tt).to_picture(\"tree.png\")"
   ]
  },
  {
   "cell_type": "markdown",
   "metadata": {},
   "source": [
    "# ORM\n"
   ]
  },
  {
   "cell_type": "code",
   "execution_count": 31,
   "metadata": {},
   "outputs": [
    {
     "name": "stderr",
     "output_type": "stream",
     "text": [
      "Inserting TaskTree into database: 100%|██████████| 10/10 [00:00<00:00, 32.87it/s]\n"
     ]
    },
    {
     "data": {
      "text/plain": [
       "pycram.orm.task.TaskTreeNode(1, 2023-07-10 12:43:26.331509, None, TaskStatus.RUNNING, None, None, 1, 1)"
      ]
     },
     "execution_count": 31,
     "metadata": {},
     "output_type": "execute_result"
    }
   ],
   "source": [
    "import sqlalchemy\n",
    "import sqlalchemy.orm\n",
    "import pycram.orm.base\n",
    "import pycram.orm.task\n",
    "import pycram.orm.object_designator\n",
    "import pycram.orm.motion_designator\n",
    "import pycram.orm.action_designator\n",
    "\n",
    "# set description of what we are doing\n",
    "pycram.orm.base.MetaData().description = \"Tutorial for getting familiar with the ORM.\"\n",
    "\n",
    "engine = sqlalchemy.create_engine(\"sqlite+pysqlite:///:memory:\", echo=False)\n",
    "session = sqlalchemy.orm.Session(bind=engine)\n",
    "pycram.orm.base.Base.metadata.create_all(engine)\n",
    "session.commit()\n",
    "\n",
    "\n",
    "tt.insert(session)"
   ]
  },
  {
   "cell_type": "code",
   "execution_count": 32,
   "metadata": {},
   "outputs": [
    {
     "name": "stdout",
     "output_type": "stream",
     "text": [
      "pycram.orm.action_designator.NavigateAction(Navigate, 4, 4, 1, 4, 4)\n",
      "pycram.orm.action_designator.NavigateAction(Navigate, 7, 7, 1, 9, 9)\n"
     ]
    }
   ],
   "source": [
    "navigations = session.query(pycram.orm.action_designator.NavigateAction).all()\n",
    "print(*navigations, sep=\"\\n\")"
   ]
  },
  {
   "cell_type": "code",
   "execution_count": 33,
   "metadata": {},
   "outputs": [
    {
     "name": "stdout",
     "output_type": "stream",
     "text": [
      "(pycram.orm.action_designator.NavigateAction(Navigate, 4, 4, 1, 4, 4), pycram.orm.base.Position(0.5799999833106995, 1.2799999713897705, 0.0, 4, None), pycram.orm.base.Quaternion(0.0, 0.0, 0.1637835947575506, -0.9864962919789888, 4, None))\n",
      "(pycram.orm.action_designator.NavigateAction(Navigate, 7, 7, 1, 9, 9), pycram.orm.base.Position(-1.8675000667572021, 0.5192000865936279, 0.0, 9, None), pycram.orm.base.Quaternion(0.0, 0.0, 0.3185182993544762, 0.9479167120461229, 9, None))\n"
     ]
    }
   ],
   "source": [
    "navigations = session.query(pycram.orm.action_designator.NavigateAction, \n",
    "                            pycram.orm.base.Position, \n",
    "                            pycram.orm.base.Quaternion).\\\n",
    "                                join(pycram.orm.base.Position).\\\n",
    "                                join(pycram.orm.base.Quaternion).all()\n",
    "print(*navigations, sep=\"\\n\")"
   ]
  }
 ],
 "metadata": {
  "kernelspec": {
   "display_name": "Python 3",
   "language": "python",
   "name": "python3"
  },
  "language_info": {
   "codemirror_mode": {
    "name": "ipython",
    "version": 3
   },
   "file_extension": ".py",
   "mimetype": "text/x-python",
   "name": "python",
   "nbconvert_exporter": "python",
   "pygments_lexer": "ipython3",
   "version": "3.8.10"
  }
 },
 "nbformat": 4,
 "nbformat_minor": 4
}
