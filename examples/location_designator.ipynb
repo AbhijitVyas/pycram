{
 "cells": [
  {
   "cell_type": "markdown",
   "id": "579dca47",
   "metadata": {},
   "source": [
    "# Location Designator\n",
    "This example will show you waht location designator are, how to use them and what they are capable of. \n",
    "\n",
    "Location Deisgnator are used to semantically describe locations in the world. You could, for example, create a location designator that describes every position where a robot can be placed without colliding with the environment. Location designator can describe locations for:\n",
    "   \n",
    "   * Occupany \n",
    "   * Reachability   \n",
    "   * Visibility \n",
    "   * ...and more\n",
    "\n",
    "To find locations that fit the given constrains, location designator create Costmaps. Costmaps are a 2D distribution that have a value greater than 0 for every position that fits the costmap criteria.\n",
    "\n",
    "Location designator work similar to other designator, meaning you have to create a location designator description which describes the location. This description can then be resolved to the actual 6D pose on runtime."
   ]
  },
  {
   "cell_type": "code",
   "execution_count": null,
   "id": "69417dcf",
   "metadata": {
    "tags": []
   },
   "outputs": [],
   "source": [
    "from pycram.bullet_world import BulletWorld\n",
    "from pycram.pose import Pose\n",
    "\n",
    "world = BulletWorld()"
   ]
  },
  {
   "cell_type": "markdown",
   "id": "f40af439-b2b1-45a4-9125-109dd3ea384c",
   "metadata": {},
   "source": [
    "The following visualizes the robot, environment and objects to RvizWeb.\n",
    "(Skip if running locally.)"
   ]
  },
  {
   "cell_type": "code",
   "execution_count": null,
   "id": "17ab485d-fcfa-4514-ab10-34235467c881",
   "metadata": {
    "tags": []
   },
   "outputs": [],
   "source": [
    "from pycram.ros.tf_broadcaster import TFBroadcaster\n",
    "from pycram.ros.viz_marker_publisher import VizMarkerPublisher\n",
    "\n",
    "tf_broadcaster = TFBroadcaster()\n",
    "viz_publisher = VizMarkerPublisher()"
   ]
  },
  {
   "cell_type": "markdown",
   "id": "a8b6d6b1-055c-4a7a-9a9e-2a36d2bf6ba6",
   "metadata": {},
   "source": [
    "## Occupancy\n",
    "\n",
    "We will start with a simple location designator that describes a location where the robot can stand without colliding with the environment."
   ]
  },
  {
   "cell_type": "code",
   "execution_count": null,
   "id": "d10d5e8e-06a5-450e-bfed-3b89aae1f689",
   "metadata": {
    "tags": []
   },
   "outputs": [],
   "source": [
    "from pycram.bullet_world import Object\n",
    "\n",
    "kitchen = Object(\"kitchen\", \"environment\", \"kitchen_no_walls.urdf\")"
   ]
  },
  {
   "cell_type": "code",
   "execution_count": null,
   "id": "d1acc16e-b172-445d-a243-4fd26ae2c340",
   "metadata": {
    "tags": []
   },
   "outputs": [],
   "source": [
    "from pycram.designators.motion_designator import MoveMotion\n",
    "from pycram.process_module import simulated_robot\n",
    "\n",
    "pr2 = Object(\"pr2\", \"robot\", \"pr2.urdf\")\n",
    "pr2.set_joint_state(\"torso_lift_joint\", 0.2)"
   ]
  },
  {
   "cell_type": "markdown",
   "id": "aa09bc52",
   "metadata": {},
   "source": [
    "Next up we will create the location designator description, the ```CostmapLocation``` that we will be using needs a target as parameter. This target describes what the location designator is for, this could either be a pose or object that the robot should be able to see or reach.\n",
    "\n",
    "In this case we only want poses where the robot can be placed, this is the default behaviour of the location designator which we will be extending later. "
   ]
  },
  {
   "cell_type": "code",
   "execution_count": null,
   "id": "d13c7900",
   "metadata": {
    "tags": []
   },
   "outputs": [],
   "source": [
    "from pycram.designators.location_designator import CostmapLocation\n",
    "\n",
    "location_description = CostmapLocation(Pose([0, 0, 0], [0, 0, 0, 1]))\n",
    "\n",
    "pose = location_description.resolve()\n",
    "\n",
    "print(pose)"
   ]
  },
  {
   "cell_type": "markdown",
   "id": "9fb117db-bf7f-43d8-a654-37bc5b1ee0d6",
   "metadata": {},
   "source": [
    "Or define the designator resolution iteratively."
   ]
  },
  {
   "cell_type": "code",
   "execution_count": null,
   "id": "1322f90a-3b33-4d8b-becd-c721a248803e",
   "metadata": {
    "tags": []
   },
   "outputs": [],
   "source": [
    "location_description = iter(CostmapLocation(Pose()))"
   ]
  },
  {
   "cell_type": "code",
   "execution_count": null,
   "id": "1f44de91-5be3-47ff-aa56-23e4eb2a5dd6",
   "metadata": {
    "tags": []
   },
   "outputs": [],
   "source": [
    "print(next(location_description).pose)"
   ]
  },
  {
   "cell_type": "markdown",
   "id": "548444a1",
   "metadata": {},
   "source": [
    "## Reachable\n",
    "Next we want to locations from where the robot can reach a specific point, like an object the robot should pick up. This can also be done with the ```CostmapLocation``` description, but this time we need to provide an additional argument. The additional argument is the robo which should be able to reach the pose. \n",
    "\n",
    "Since a robot is needed we will use the PR2 and use a milk as a target point for the robot to reach. The torso of the PR2 will be set to 0.2 since otherwise the arms of the robot will be too low to reach on the countertop.\n"
   ]
  },
  {
   "cell_type": "code",
   "execution_count": null,
   "id": "ac67b83f",
   "metadata": {
    "tags": []
   },
   "outputs": [],
   "source": [
    "milk = Object(\"milk\", \"milk\", \"milk.stl\", pose=Pose([1.3, 1, 0.9]))"
   ]
  },
  {
   "cell_type": "code",
   "execution_count": null,
   "id": "a84e7525",
   "metadata": {
    "tags": []
   },
   "outputs": [],
   "source": [
    "from pycram.designators.object_designator import BelieveObject\n",
    "\n",
    "pr2.set_joint_state(\"torso_lift_joint\", 0.2)\n",
    "\n",
    "target = BelieveObject(names=[\"milk\"]).resolve()\n",
    "robot_desig = BelieveObject(names=[\"pr2\"]).resolve()\n",
    "location_description = CostmapLocation(target=target, reachable_for=robot_desig)\n",
    "\n",
    "print(location_description.resolve())"
   ]
  },
  {
   "cell_type": "markdown",
   "id": "4b811f25",
   "metadata": {},
   "source": [
    "As you can see we get a pose near the countertop where the robot can be placed without colliding with it. Furthermore, we get a list of arms with which the robot can reach the given object."
   ]
  },
  {
   "cell_type": "markdown",
   "id": "a9f835b1",
   "metadata": {},
   "source": [
    "## Visible\n",
    "The ```CostmapLocation``` can also find position from which the robot can see a given object or location. This is very similar to how rechable locations are described, meaning we provide a object designator or a pose and a robot designator but this time we use the ```visible_for``` parameter.  \n",
    "\n",
    "For this example we need the milk as well as the PR2, so if you did not spawn them during the previous location designator you can spawn them with the following cell.  "
   ]
  },
  {
   "cell_type": "code",
   "execution_count": null,
   "id": "7d6fb946",
   "metadata": {
    "tags": []
   },
   "outputs": [],
   "source": [
    "location_description = CostmapLocation(target=target, visible_for=robot_desig)\n",
    "\n",
    "print(location_description.resolve())"
   ]
  },
  {
   "cell_type": "code",
   "execution_count": null,
   "id": "9b9cfd59-081b-44db-b08e-17496aa2689f",
   "metadata": {
    "tags": []
   },
   "outputs": [],
   "source": [
    "location_description = iter(CostmapLocation(target=target, visible_for=robot_desig))\n",
    "\n",
    "print(next(location_description))"
   ]
  },
  {
   "cell_type": "code",
   "execution_count": null,
   "id": "7b7cda90-00c5-4801-8a25-7e7f87bc3907",
   "metadata": {
    "tags": []
   },
   "outputs": [],
   "source": [
    "print(next(location_description))"
   ]
  },
  {
   "cell_type": "code",
   "execution_count": null,
   "id": "90a4d7d7-2b34-4a29-a9e8-680f20988bc2",
   "metadata": {
    "tags": []
   },
   "outputs": [],
   "source": [
    "target = next(location_description)"
   ]
  },
  {
   "cell_type": "code",
   "execution_count": null,
   "id": "fa3a9d3e-3b0d-431e-89ac-05cdcaa268f0",
   "metadata": {
    "tags": []
   },
   "outputs": [],
   "source": [
    "target.pose"
   ]
  },
  {
   "cell_type": "markdown",
   "id": "b1813244",
   "metadata": {},
   "source": [
    "## Semantic \n",
    "Semantic location designator are used to create location descriptions for semantic entities, like a table. An example of this is: You have a robot that picked up an object and should place it on a table. Semantic location designator then allows to find poses that are on this table.\n",
    "\n",
    "Semantic location designator need an object from which the target entity is a part and the urdf link representing the entity. In this case we want a position on the kitchen island, so we have to provide the kitchen object designator since the island is a part of the kitchen and the link name of the island surface. \n",
    "\n",
    "For this example we need the kitchen as well as the milk. If you spawned them in one of the previous examples you don't need to execute the following cell."
   ]
  },
  {
   "cell_type": "code",
   "execution_count": null,
   "id": "328d9091",
   "metadata": {
    "tags": []
   },
   "outputs": [],
   "source": [
    "from pycram.designators.location_designator import SemanticCostmapLocation \n",
    "from pycram.designators.object_designator import BelieveObject\n",
    "\n",
    "kitchen_desig = BelieveObject(names=[\"kitchen\"]).resolve()\n",
    "milk_desig = BelieveObject(names=[\"milk\"]).resolve()\n",
    "\n",
    "location_description = SemanticCostmapLocation(urdf_link_name=\"kitchen_island_surface\", \n",
    "                                               part_of=kitchen_desig,\n",
    "                                              for_object=milk_desig)\n",
    "\n",
    "print(location_description.resolve())"
   ]
  },
  {
   "cell_type": "markdown",
   "id": "8c811caf",
   "metadata": {},
   "source": [
    "## Location Designator as Generator\n",
    "Location designator descriptions implement an iter method, so they can be used as generators which generate valid poses for the location described in the description. This can be useful if the first pose does not work for some reason. "
   ]
  },
  {
   "cell_type": "code",
   "execution_count": null,
   "id": "2b829201",
   "metadata": {},
   "outputs": [],
   "source": [
    "from pycram.designators.location_designator import CostmapLocation\n",
    "from pycram.designators.object_designator import BelieveObject\n",
    "\n",
    "target = BelieveObject(names=[\"milk\"]).resolve()\n",
    "robot_desig = BelieveObject(names=[\"pr2\"]).resolve()\n",
    "\n",
    "location_description = CostmapLocation(target=target, visible_for=robot_desig)\n",
    "\n",
    "for pose in location_description:\n",
    "    print(pose.pose)"
   ]
  },
  {
   "cell_type": "markdown",
   "id": "9279fde8",
   "metadata": {},
   "source": [
    "## Accessing Locations\n",
    "Accessing describes a location from which the robot can open a drawer. The drawer is specified by a ObjectPart designator which describes the handle of the drawer.\n",
    "\n",
    "At the moment this location designator only works in the apartment environment, so please remove the kitchen if you spawned it in a previous example. Furthermore, we need a robot so we also spawn the pr2 if it isn't spawned already."
   ]
  },
  {
   "cell_type": "code",
   "execution_count": null,
   "id": "223facbe",
   "metadata": {
    "tags": []
   },
   "outputs": [],
   "source": [
    "kitchen.remove()"
   ]
  },
  {
   "cell_type": "code",
   "execution_count": null,
   "id": "e3b0dac5",
   "metadata": {
    "tags": []
   },
   "outputs": [],
   "source": [
    "apartment = Object(\"apartment\", \"environment\", \"apartment.urdf\")"
   ]
  },
  {
   "cell_type": "code",
   "execution_count": null,
   "id": "85d459ed",
   "metadata": {},
   "outputs": [],
   "source": [
    "pr2 = Object(\"pr2\", \"robot\", \"pr2.urdf\")\n",
    "pr2.set_joint_state(\"torso_lift_joint\", 0.25)"
   ]
  },
  {
   "cell_type": "code",
   "execution_count": null,
   "id": "e8394d98",
   "metadata": {
    "tags": []
   },
   "outputs": [],
   "source": [
    "from pycram.designators.object_designator import *\n",
    "from pycram.designators.location_designator import *\n",
    "\n",
    "apartment_desig = BelieveObject(names=[\"apartment\"])\n",
    "handle_desig = ObjectPart(names=[\"handle_cab10_t\"], part_of=apartment_desig.resolve())\n",
    "robot_desig = BelieveObject(names=[\"pr2\"])\n",
    "\n",
    "access_location = AccessingLocation(handle_desig.resolve(), robot_desig.resolve()).resolve()\n",
    "print(access_location.pose)"
   ]
  }
 ],
 "metadata": {
  "kernelspec": {
   "display_name": "Python 3 (ipykernel)",
   "language": "python",
   "name": "python3"
  },
  "language_info": {
   "codemirror_mode": {
    "name": "ipython",
    "version": 3
   },
   "file_extension": ".py",
   "mimetype": "text/x-python",
   "name": "python",
   "nbconvert_exporter": "python",
   "pygments_lexer": "ipython3",
   "version": "3.10.6"
  }
 },
 "nbformat": 4,
 "nbformat_minor": 5
}
