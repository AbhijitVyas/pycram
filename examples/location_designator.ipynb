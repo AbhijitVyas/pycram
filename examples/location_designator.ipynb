{
 "cells": [
  {
   "cell_type": "markdown",
   "id": "8b4a2b11",
   "metadata": {},
   "source": [
    "# Location Designator\n",
    "This example will show you waht location designator are, how to use them and what they are capable of. \n",
    "\n",
    "Location Deisgnator are used to semantically describe locations in the world. You could, for example, create a location designator that describes every position where a robot can be placed without colliding with the environment. Location designator can describe locations for:\n",
    "\n",
    "   * Visibility \n",
    "   * Reachability\n",
    "   * Occupany \n",
    "   * URDF Links (for example a table)\n",
    "\n",
    "To find locations that fit the given constrains, location designator create Costmaps. Costmaps are a 2D distribution that have a value greater than 0 for every position that fits the costmap criteria.\n",
    "\n",
    "Location designator work similar to other designator, meaning you have to create a location designator description which describes the location. This description can then be resolved to the actual 6D pose on runtime.\n",
    "\n",
    "## Occupancy\n",
    "\n",
    "We will start with a simple location designator that describes a location where the robot can be placed without colliding with the environment. To do this we need a BulletWorld since the costmaps are mostly created from the current state of the BulletWorld. "
   ]
  },
  {
   "cell_type": "code",
   "execution_count": 1,
   "id": "41ef1a45",
   "metadata": {},
   "outputs": [
    {
     "name": "stderr",
     "output_type": "stream",
     "text": [
      "Unknown tag \"material\" in /robot[@name='plane']/link[@name='planeLink']/collision[1]\n",
      "Unknown tag \"contact\" in /robot[@name='plane']/link[@name='planeLink']\n",
      "Scalar element defined multiple times: limit\n",
      "Unknown tag \"material\" in /robot[@name='plane']/link[@name='planeLink']/collision[1]\n",
      "Unknown tag \"contact\" in /robot[@name='plane']/link[@name='planeLink']\n",
      "Scalar element defined multiple times: limit\n"
     ]
    }
   ],
   "source": [
    "from pycram.bullet_world import BulletWorld, Object\n",
    "\n",
    "world = BulletWorld()\n",
    "kitchen = Object(\"kitchen\", \"environment\", \"kitchen.urdf\")"
   ]
  },
  {
   "cell_type": "code",
   "execution_count": 12,
   "id": "6ad51bc7",
   "metadata": {},
   "outputs": [],
   "source": [
    "world.exit()"
   ]
  },
  {
   "cell_type": "markdown",
   "id": "28f41cf5",
   "metadata": {},
   "source": [
    "Next up we will create the location designator description, the ```CostmapLocation``` that we will be using needs a target as parameter. This target describes what the location designator is for, this could either be a pose or object that the robot should be able to see or reach.\n",
    "\n",
    "In this case we only want poses where the robot can be placed, this is the default behaviour of the location designator which we will be extending later. "
   ]
  },
  {
   "cell_type": "code",
   "execution_count": 2,
   "id": "67a392fc",
   "metadata": {},
   "outputs": [
    {
     "name": "stdout",
     "output_type": "stream",
     "text": [
      "CostmapLocation.Location(pose=[[-1.159999966621399, -0.25999999046325684, -0.0], [0.0, 0.0, 0.11002368521143333, 0.9939289656170079]], reachable_arms=None)\n"
     ]
    }
   ],
   "source": [
    "from pycram.designators.location_designator import CostmapLocation\n",
    "\n",
    "target = kitchen.get_position_and_orientation()\n",
    "\n",
    "location_description = CostmapLocation(target)\n",
    "\n",
    "pose = location_description.resolve()\n",
    "\n",
    "print(pose)"
   ]
  },
  {
   "cell_type": "markdown",
   "id": "72be94a7",
   "metadata": {},
   "source": [
    "## Reachable\n",
    "Next we want to locations from where the robot can reach a specific point, like an object the robot should pick up. This can also be done with the ```CostmapLocation``` description, but this time we need to provide an additional argument. The additional argument is the robo which should be able to reach the pose. \n",
    "\n",
    "Since a robot is needed we will use the PR2 and use a milk as a target point for the robot to reach. The torso of the PR2 will be set to 0.2 since otherwise the arms of the robot will be too low to reach on the countertop.\n"
   ]
  },
  {
   "cell_type": "code",
   "execution_count": 3,
   "id": "b83c62c2",
   "metadata": {},
   "outputs": [],
   "source": [
    "pr2 = Object(\"pr2\", \"robot\", \"pr2.urdf\")\n",
    "pr2.set_joint_state(\"torso_lift_joint\", 0.2)\n",
    "milk = Object(\"milk\", \"milk\", \"milk.stl\", position=[1.3, 1, 0.9])\n"
   ]
  },
  {
   "cell_type": "code",
   "execution_count": 4,
   "id": "95b9f988",
   "metadata": {},
   "outputs": [
    {
     "name": "stdout",
     "output_type": "stream",
     "text": [
      "CostmapLocation.Location(pose=[[0.7199999690055847, 0.9599999785423279, 0.0], [0.0, 0.0, 0.03442146029735499, 0.9994074059516458]], reachable_arms=['left', 'right'])\n"
     ]
    }
   ],
   "source": [
    "from pycram.designators.location_designator import CostmapLocation\n",
    "from pycram.designators.object_designator import BelieveObject\n",
    "\n",
    "target = BelieveObject(names=[\"milk\"]).resolve()\n",
    "robot_desig = BelieveObject(names=[\"pr2\"]).resolve()\n",
    "\n",
    "location_description = CostmapLocation(target=target, reachable_for=robot_desig)\n",
    "\n",
    "print(location_description.resolve())"
   ]
  },
  {
   "cell_type": "markdown",
   "id": "00fc78c1",
   "metadata": {},
   "source": [
    "As you can see we get a pose near the countertop where the robot can be placed without colliding with it. Furthermore, we get a list of arms with which the robot can reach the given object."
   ]
  },
  {
   "cell_type": "markdown",
   "id": "282a735a",
   "metadata": {},
   "source": [
    "## Visibile\n",
    "The ```CostmapLocation``` can also find position from which the robot can see a given object or location. This is very similar to how rechable locations are described, meaning we provide a object designator or a pose and a robot designator but this time we use the ```visible_for``` parameter.  \n",
    "\n",
    "For this example we need the milk as well as the PR2, so if you did not spawn them during the previous location designator you can spawn them with the following cell.  "
   ]
  },
  {
   "cell_type": "code",
   "execution_count": null,
   "id": "84c42c8b",
   "metadata": {},
   "outputs": [],
   "source": [
    "pr2 = Object(\"pr2\", \"robot\", \"pr2.urdf\")\n",
    "milk = Object(\"milk\", \"milk\", \"milk.stl\", position=[1.3, 1, 0.9])"
   ]
  },
  {
   "cell_type": "code",
   "execution_count": 5,
   "id": "48ec4295",
   "metadata": {},
   "outputs": [
    {
     "name": "stdout",
     "output_type": "stream",
     "text": [
      "CostmapLocation.Location(pose=[[0.6999999284744263, 0.7799999713897705, 0.0], [0.0, 0.0, 0.17481945732557833, 0.9846005064697003]], reachable_arms=None)\n"
     ]
    }
   ],
   "source": [
    "from pycram.designators.location_designator import CostmapLocation\n",
    "from pycram.designators.object_designator import BelieveObject\n",
    "\n",
    "target = BelieveObject(names=[\"milk\"]).resolve()\n",
    "robot_desig = BelieveObject(names=[\"pr2\"]).resolve()\n",
    "\n",
    "location_description = CostmapLocation(target=target, visible_for=robot_desig)\n",
    "\n",
    "print(location_description.resolve())"
   ]
  },
  {
   "cell_type": "markdown",
   "id": "d6c8e446",
   "metadata": {},
   "source": [
    "## Semantic \n",
    "Semantic location designator are used to create location descriptions for semantic entities, like a table. An example of this is: You have a robot that picked up an object and should place it on a table. Semantic location designator then allows to find poses that are on this table.\n",
    "\n",
    "Semantic location designator need an object from which the target entity is a part and the urdf link representing the entity. In this case we want a position on the kitchen island, so we have to provide the kitchen object designator since the island is a part of the kitchen and the link name of the island surface. \n",
    "\n",
    "For this example we need the kitchen as well as the milk. If you spawned them in one of the previous examples you don't need to execute the following cell."
   ]
  },
  {
   "cell_type": "code",
   "execution_count": 8,
   "id": "61ac9f5b",
   "metadata": {},
   "outputs": [],
   "source": [
    "kitchen = Object(\"kitchen\", \"environment\", \"kitchen.urdf\")\n",
    "milk = Object(\"milk\", \"milk\", \"milk.stl\")"
   ]
  },
  {
   "cell_type": "code",
   "execution_count": 6,
   "id": "846ae603",
   "metadata": {},
   "outputs": [
    {
     "name": "stdout",
     "output_type": "stream",
     "text": [
      "SemanticCostmapLocation.Location(pose=[[-1.2074999809265137, 1.019200086593628, 0.9398907270729542], [0.0, 0.0, 0.6339889056055381, 0.7733421413379024]])\n"
     ]
    }
   ],
   "source": [
    "from pycram.designators.location_designator import SemanticCostmapLocation \n",
    "from pycram.designators.object_designator import BelieveObject\n",
    "\n",
    "kitchen_desig = BelieveObject(names=[\"kitchen\"]).resolve()\n",
    "milk_desig = BelieveObject(names=[\"milk\"]).resolve()\n",
    "\n",
    "location_description = SemanticCostmapLocation(urdf_link_name=\"kitchen_island_surface\", \n",
    "                                               part_of=kitchen_desig,\n",
    "                                              for_object=milk_desig)\n",
    "\n",
    "print(location_description.resolve())"
   ]
  },
  {
   "cell_type": "markdown",
   "id": "974b6e52",
   "metadata": {},
   "source": [
    "## Location Designator as Generator\n",
    "Location designator descriptions implement an iter method, so they can be used as generators which generate valid poses for the location described in the description. This can be useful if the first pose does not work for some reason. \n",
    "\n",
    "We will see this at the example of a location designator for visibility. For this example we need the milk, if you already have a milk spawned in you world you can ignore the following cell."
   ]
  },
  {
   "cell_type": "code",
   "execution_count": null,
   "id": "21afc26b",
   "metadata": {},
   "outputs": [],
   "source": [
    "milk = Object(\"milk\", \"milk\", \"milk.stl\")"
   ]
  },
  {
   "cell_type": "code",
   "execution_count": 9,
   "id": "c622ef43",
   "metadata": {},
   "outputs": [
    {
     "name": "stdout",
     "output_type": "stream",
     "text": [
      "[[0.6999999284744263, 0.7799999713897705, 0.0], [0.0, 0.0, 0.17481945732557833, 0.9846005064697003]]\n",
      "[[0.2999999523162842, 1.3799999952316284, 0.0], [-0.0, 0.0, 0.1805774242634438, -0.9835607728281869]]\n",
      "[[0.2999999523162842, 1.440000057220459, 0.0], [-0.0, 0.0, 0.2057729085728114, -0.9785997701294873]]\n",
      "[[0.2999999523162842, 1.0800000429153442, 0.0], [-0.0, 0.0, 0.0399044143055408, -0.9992035016546588]]\n",
      "[[0.2999999523162842, 1.3600000143051147, 0.0], [-0.0, 0.0, 0.17191943937986326, -0.9851110122028448]]\n",
      "[[0.2999999523162842, 1.340000033378601, 0.0], [-0.0, 0.0, 0.1631368446021929, -0.9866034512068361]]\n",
      "[[0.2999999523162842, 1.3199999332427979, 0.0], [-0.0, 0.0, 0.154233313726437, -0.9880344553389636]]\n",
      "[[0.2999999523162842, 1.2999999523162842, 0.0], [-0.0, 0.0, 0.1452131165515644, -0.9894003996266536]]\n",
      "[[0.2999999523162842, 1.2799999713897705, 0.0], [-0.0, 0.0, 0.13608080282361212, -0.9906977415452612]]\n",
      "[[0.2999999523162842, 1.2599999904632568, 0.0], [-0.0, 0.0, 0.12684141287795903, -0.9919230090985505]]\n",
      "[[0.2999999523162842, 1.2400000095367432, 0.0], [-0.0, 0.0, 0.11750042042180461, -0.9930728327774853]]\n",
      "[[0.2999999523162842, 0.800000011920929, 0.0], [0.0, 0.0, 0.09853760770065961, 0.9951333276846027]]\n",
      "[[0.6799999475479126, 0.9599999785423279, 0.0], [0.0, 0.0, 0.03220786317481437, 0.9994811921940865]]\n",
      "[[0.6799999475479126, 0.9399999976158142, 0.0], [0.0, 0.0, 0.04821818137577524, 0.9988368270067003]]\n",
      "[[0.7399999499320984, 0.7799999713897705, 0.0], [0.0, 0.0, 0.1860759409716344, 0.9825353653642809]]\n",
      "[[0.7399999499320984, 0.7599999904632568, 0.0], [0.0, 0.0, 0.20106586345975674, 0.9795777246095291]]\n",
      "[[0.7399999499320984, 0.7400000095367432, 0.0], [0.0, 0.0, 0.21562816603037907, 0.9764755470642239]]\n",
      "[[0.7999999523162842, 0.9200000166893005, 0.0], [0.0, 0.0, 0.07924443384508842, 0.9968552150159878]]\n",
      "[[0.7999999523162842, 0.9399999976158142, 0.0], [0.0, 0.0, 0.05967897757581295, 0.998217621380982]]\n",
      "[[0.7999999523162842, 0.9599999785423279, 0.0], [0.0, 0.0, 0.03990441241183046, 0.9992035017302865]]\n",
      "[[0.7999999523162842, 0.9800000190734863, 0.0], [0.0, 0.0, 0.019987991441926978, 0.9998002201430631]]\n",
      "[[0.7999999523162842, 1.0, 0.0], [-0.0, 0.0, 1.2246467991473532e-16, -1.0]]\n",
      "[[0.7999999523162842, 1.0199999809265137, 0.0], [-0.0, 0.0, 0.01998799144192732, -0.9998002201430631]]\n",
      "[[0.7999999523162842, 1.0399999618530273, 0.0], [-0.0, 0.0, 0.03990435323340828, -0.9992035040936472]]\n",
      "[[0.7999999523162842, 1.059999942779541, 0.0], [-0.0, 0.0, 0.0596789189220255, -0.9982176248876286]]\n",
      "[[0.2999999523162842, 0.7599999904632568, 0.0], [0.0, 0.0, 0.11750042042180471, 0.9930728327774853]]\n",
      "[[0.2999999523162842, 0.7400000095367432, 0.0], [0.0, 0.0, 0.12684141287795891, 0.9919230090985506]]\n",
      "[[0.5399999618530273, 0.7400000095367432, 0.0], [0.0, 0.0, 0.16406706926534198, 0.9864491861128385]]\n",
      "[[0.5399999618530273, 0.7599999904632568, 0.0], [0.0, 0.0, 0.15234391021900964, 0.9883275433879106]]\n",
      "[[0.5399999618530273, 0.7799999713897705, 0.0], [0.0, 0.0, 0.1404203359843421, 0.990091980192772]]\n",
      "[[0.5399999618530273, 0.800000011920929, 0.0], [0.0, 0.0, 0.12830716242717066, 0.9917344765963759]]\n",
      "[[0.5399999618530273, 0.8199999928474426, 0.0], [0.0, 0.0, 0.11601661943343232, 0.9932472723422089]]\n",
      "[[0.5399999618530273, 0.8400000333786011, 0.0], [0.0, 0.0, 0.10356206898497522, 0.9946229928307264]]\n",
      "[[0.5399999618530273, 0.8600000143051147, 0.0], [0.0, 0.0, 0.09095825001842239, 0.9958547066483073]]\n",
      "[[0.5399999618530273, 0.8799999952316284, 0.0], [0.0, 0.0, 0.0782209512205175, 0.9969360474925949]]\n",
      "[[0.6999999284744263, 1.1399999856948853, 0.0], [-0.0, 0.0, 0.1143651588688689, -0.9934387804172427]]\n",
      "[[0.5399999618530273, 0.8999999761581421, 0.0], [0.0, 0.0, 0.06536706981871615, 0.9978612860429625]]\n",
      "[[0.7199999690055847, 0.7599999904632568, 0.0], [0.0, 0.0, 0.19491429620111167, 0.9808202776943518]]\n",
      "[[0.7199999690055847, 0.7799999713897705, 0.0], [0.0, 0.0, 0.18028100661408863, 0.9836151476335706]]\n",
      "[[0.5399999618530273, 0.9399999976158142, 0.0], [0.0, 0.0, 0.03938179326770913, 0.999224236274831]]\n",
      "[[0.7599999308586121, 1.2400000095367432, 0.0], [-0.0, 0.0, 0.20759147148865206, -0.9782156106734221]]\n",
      "[[0.7599999308586121, 1.2599999904632568, 0.0], [-0.0, 0.0, 0.2224840469677294, -0.9749363306620905]]\n",
      "[[0.7599999308586121, 1.2799999713897705, 0.0], [-0.0, 0.0, 0.2369023271783604, -0.9715334720829113]]\n",
      "[[0.5399999618530273, 0.9599999785423279, 0.0], [0.0, 0.0, 0.026288514686661647, 0.9996543972771635]]\n",
      "[[0.6799999475479126, 0.9800000190734863, 0.0], [0.0, 0.0, 0.016122725910570807, 0.999870020407259]]\n",
      "[[0.6799999475479126, 1.0, 0.0], [-0.0, 0.0, 1.2246467991473532e-16, -1.0]]\n",
      "[[0.7399999499320984, 1.1800000667572021, 0.0], [-0.0, 0.0, 0.15487327691910185, -0.9879343440210686]]\n",
      "[[0.7199999690055847, 1.2000000476837158, 0.0], [-0.0, 0.0, 0.16526802013348565, -0.9862486915180967]]\n",
      "[[0.7199999690055847, 1.1800000667572021, 0.0], [-0.0, 0.0, 0.14989311162132987, -0.9887022074863976]]\n",
      "[[0.7199999690055847, 1.159999966621399, 0.0], [-0.0, 0.0, 0.13417779982016512, -0.9909572735670392]]\n",
      "[[0.7199999690055847, 1.1399999856948853, 0.0], [-0.0, 0.0, 0.11814775304289885, -0.992996026402379]]\n",
      "[[0.7199999690055847, 1.1200000047683716, 0.0], [-0.0, 0.0, 0.10183216569949728, -0.9948015932983573]]\n",
      "[[0.7199999690055847, 1.100000023841858, 0.0], [-0.0, 0.0, 0.08526397104895936, -0.9963583969842188]]\n",
      "[[0.7399999499320984, 1.2000000476837158, 0.0], [-0.0, 0.0, 0.17067235317949217, -0.9853278377576545]]\n",
      "[[0.7399999499320984, 1.2200000286102295, 0.0], [-0.0, 0.0, 0.18607594097163432, -0.9825353653642809]]\n",
      "[[0.7599999308586121, 0.6800000071525574, 0.0], [0.0, 0.0, 0.2642994823491529, 0.964440658428485]]\n",
      "[[0.7599999308586121, 0.699999988079071, 0.0], [0.0, 0.0, 0.25084129013489, 0.9680282264290975]]\n",
      "[[0.7599999308586121, 0.7200000286102295, 0.0], [0.0, 0.0, 0.23690232717836007, 0.9715334720829114]]\n",
      "[[0.5399999618530273, 0.9800000190734863, 0.0], [0.0, 0.0, 0.013154466022524704, 0.9999134762686531]]\n",
      "[[0.5399999618530273, 1.0, 0.0], [-0.0, 0.0, 1.2246467991473532e-16, -1.0]]\n",
      "[[0.5399999618530273, 1.0399999618530273, 0.0], [-0.0, 0.0, 0.026288475594921153, -0.9996543983051819]]\n",
      "[[0.5399999618530273, 1.059999942779541, 0.0], [-0.0, 0.0, 0.03938175432725304, -0.9992242378095659]]\n",
      "[[0.7199999690055847, 0.8600000143051147, 0.0], [0.0, 0.0, 0.11814775304289894, 0.992996026402379]]\n",
      "[[0.7199999690055847, 0.8199999928474426, 0.0], [0.0, 0.0, 0.14989306528168928, 0.9887022145117604]]\n",
      "[[0.7199999690055847, 0.800000011920929, 0.0], [0.0, 0.0, 0.16526797484217343, 0.9862486991076677]]\n",
      "[[0.7799999713897705, 0.6800000071525574, 0.0], [0.0, 0.0, 0.2723432257242828, 0.9622001701320221]]\n",
      "[[0.5399999618530273, 1.0800000429153442, 0.0], [-0.0, 0.0, 0.052414465455948654, -0.9986254171665006]]\n",
      "[[0.5399999618530273, 1.100000023841858, 0.0], [-0.0, 0.0, 0.0653670698187165, -0.9978612860429625]]\n",
      "[[0.5399999618530273, 1.1200000047683716, 0.0], [-0.0, 0.0, 0.07822095122051763, -0.9969360474925949]]\n",
      "[[0.6999999284744263, 0.8199999928474426, 0.0], [0.0, 0.0, 0.14521313386469786, 0.9894003970856254]]\n",
      "[[0.6999999284744263, 0.8400000333786011, 0.0], [0.0, 0.0, 0.1299327506237014, 0.9915228087721225]]\n",
      "[[0.6999999284744263, 0.8600000143051147, 0.0], [0.0, 0.0, 0.11436515886886878, 0.9934387804172427]]\n",
      "[[0.6999999284744263, 0.8799999952316284, 0.0], [0.0, 0.0, 0.09853761036221105, 0.9951333274210572]]\n",
      "[[0.6999999284744263, 0.8999999761581421, 0.0], [0.0, 0.0, 0.08248054117757617, 0.9965926752324914]]\n",
      "[[0.6999999284744263, 0.9200000166893005, 0.0], [0.0, 0.0, 0.0662272362453219, 0.9978045666258029]]\n",
      "[[0.6999999284744263, 0.9599999785423279, 0.0], [0.0, 0.0, 0.03327795054885287, 0.9994461356207588]]\n",
      "[[0.6999999284744263, 0.9800000190734863, 0.0], [0.0, 0.0, 0.01665970934226657, 0.9998612174120123]]\n",
      "[[0.6999999284744263, 1.0, 0.0], [-0.0, 0.0, 1.2246467991473532e-16, -1.0]]\n",
      "[[0.6999999284744263, 1.0199999809265137, 0.0], [-0.0, 0.0, 0.016659709342266692, -0.9998612174120123]]\n",
      "[[0.6999999284744263, 1.0399999618530273, 0.0], [-0.0, 0.0, 0.03327790112549158, -0.9994461372663772]]\n",
      "[[0.6999999284744263, 1.059999942779541, 0.0], [-0.0, 0.0, 0.04981364883305396, -0.998758529570555]]\n",
      "[[0.6999999284744263, 1.0800000429153442, 0.0], [-0.0, 0.0, 0.06622728494110208, -0.9978045633937189]]\n",
      "[[0.7799999713897705, 1.3199999332427979, 0.0], [-0.0, 0.0, 0.2723431857258482, -0.962200181453265]]\n",
      "[[0.7799999713897705, 1.2999999523162842, 0.0], [-0.0, 0.0, 0.25866422990954274, -0.9659672955982015]]\n",
      "[[0.7799999713897705, 1.2799999713897705, 0.0], [-0.0, 0.0, 0.24446765529154915, -0.9696574475123946]]\n",
      "[[0.6999999284744263, 1.100000023841858, 0.0], [-0.0, 0.0, 0.08248054117757629, -0.9965926752324914]]\n",
      "[[0.6999999284744263, 1.1200000047683716, 0.0], [-0.0, 0.0, 0.09853761036221116, -0.9951333274210572]]\n",
      "[[0.6199999451637268, 1.340000033378601, 0.0], [-0.0, 0.0, 0.22975292395972305, -0.9732489886621808]]\n"
     ]
    }
   ],
   "source": [
    "from pycram.designators.location_designator import CostmapLocation\n",
    "from pycram.designators.object_designator import BelieveObject\n",
    "\n",
    "target = BelieveObject(names=[\"milk\"]).resolve()\n",
    "robot_desig = BelieveObject(names=[\"pr2\"]).resolve()\n",
    "\n",
    "location_description = CostmapLocation(target=target, visible_for=robot_desig)\n",
    "\n",
    "for pose in location_description:\n",
    "    print(pose.pose)"
   ]
  },
  {
   "cell_type": "markdown",
   "id": "1250ba35",
   "metadata": {},
   "source": [
    "## Accessing Locations\n",
    "Accessing describes a location from which the robot can open a drawer. The drawer is specified by a ObjetcPart designator which describes the handle of the drawer.\n",
    "\n",
    "At the moment this location designator only works in the apartment environment, so please remove the kitchen if you spawned it in a previous example. Furthermore, we need a robot so we also spawn the pr2 if it isn't spawned already."
   ]
  },
  {
   "cell_type": "code",
   "execution_count": 2,
   "id": "2053f51d",
   "metadata": {},
   "outputs": [],
   "source": [
    "kitchen.remove()"
   ]
  },
  {
   "cell_type": "code",
   "execution_count": 3,
   "id": "74775ccf",
   "metadata": {},
   "outputs": [
    {
     "name": "stderr",
     "output_type": "stream",
     "text": [
      "Unknown tag \"material\" in /robot[@name='apartment']/link[@name='coffe_machine']/collision[1]\n",
      "Unknown tag \"material\" in /robot[@name='apartment']/link[@name='coffe_machine']/collision[1]\n"
     ]
    }
   ],
   "source": [
    "apartment = Object(\"apartment\", \"environment\", \"apartment.urdf\")"
   ]
  },
  {
   "cell_type": "code",
   "execution_count": 10,
   "id": "6ea707cb",
   "metadata": {},
   "outputs": [
    {
     "name": "stderr",
     "output_type": "stream",
     "text": [
      "Unknown attribute \"type\" in /robot[@name='pr2']/link[@name='base_laser_link']\n",
      "Unknown attribute \"type\" in /robot[@name='pr2']/link[@name='wide_stereo_optical_frame']\n",
      "Unknown attribute \"type\" in /robot[@name='pr2']/link[@name='narrow_stereo_optical_frame']\n",
      "Unknown attribute \"type\" in /robot[@name='pr2']/link[@name='laser_tilt_link']\n",
      "Unknown attribute \"type\" in /robot[@name='pr2']/link[@name='base_laser_link']\n",
      "Unknown attribute \"type\" in /robot[@name='pr2']/link[@name='wide_stereo_optical_frame']\n",
      "Unknown attribute \"type\" in /robot[@name='pr2']/link[@name='narrow_stereo_optical_frame']\n",
      "Unknown attribute \"type\" in /robot[@name='pr2']/link[@name='laser_tilt_link']\n"
     ]
    }
   ],
   "source": [
    "pr2 = Object(\"pr2\", \"robot\", \"pr2.urdf\")\n",
    "pr2.set_joint_state(\"torso_lift_joint\", 0.25)"
   ]
  },
  {
   "cell_type": "code",
   "execution_count": 11,
   "id": "e0b2baa6",
   "metadata": {},
   "outputs": [
    {
     "name": "stdout",
     "output_type": "stream",
     "text": [
      "([1.8074915409088135, 2.7473597526550293, 0.0], [-0.0, 0.0, 0.5893608435105937, -0.8078699128798408])\n"
     ]
    }
   ],
   "source": [
    "from pycram.designators.object_designator import *\n",
    "from pycram.designators.location_designator import *\n",
    "\n",
    "apartment_desig = BelieveObject(names=[\"apartment\"])\n",
    "handle_desig = ObjectPart(names=[\"handle_cab10_t\"], part_of=apartment_desig.resolve())\n",
    "robot_desig = BelieveObject(names=[\"pr2\"])\n",
    "\n",
    "access_location = AccessingLocation(handle_desig.resolve(), robot_desig.resolve()).resolve()\n",
    "print(access_location.pose)"
   ]
  }
 ],
 "metadata": {
  "kernelspec": {
   "display_name": "Python 3",
   "language": "python",
   "name": "python3"
  },
  "language_info": {
   "codemirror_mode": {
    "name": "ipython",
    "version": 3
   },
   "file_extension": ".py",
   "mimetype": "text/x-python",
   "name": "python",
   "nbconvert_exporter": "python",
   "pygments_lexer": "ipython3",
   "version": "3.8.10"
  }
 },
 "nbformat": 4,
 "nbformat_minor": 5
}
