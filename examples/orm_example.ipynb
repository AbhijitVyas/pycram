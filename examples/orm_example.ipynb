{
 "cells": [
  {
   "cell_type": "markdown",
   "metadata": {},
   "source": [
    "# Hands on Object Relational Mapping in PyCram\n",
    "\n",
    "This tutorial will walk through the serialization of a minimal plan in pycram.\n",
    "First we will import sqlalchemy, create an in memory database and connect a session to it."
   ]
  },
  {
   "cell_type": "code",
   "execution_count": 1,
   "metadata": {
    "ExecuteTime": {
     "end_time": "2023-06-21T11:11:41.897598419Z",
     "start_time": "2023-06-21T11:11:41.739547902Z"
    }
   },
   "outputs": [
    {
     "data": {
      "text/plain": [
       "<sqlalchemy.orm.session.Session at 0x7f33a1390250>"
      ]
     },
     "execution_count": 1,
     "metadata": {},
     "output_type": "execute_result"
    }
   ],
   "source": [
    "import sqlalchemy\n",
    "import sqlalchemy.orm\n",
    "\n",
    "engine = sqlalchemy.create_engine(\"sqlite+pysqlite:///:memory:\", echo=False)\n",
    "session = sqlalchemy.orm.Session(bind=engine)\n",
    "session"
   ]
  },
  {
   "cell_type": "markdown",
   "metadata": {},
   "source": [
    "Next we create the database schema using the sqlalchemy functionality. For that we need to import the base class of pycram.orm."
   ]
  },
  {
   "cell_type": "code",
   "execution_count": 2,
   "metadata": {
    "ExecuteTime": {
     "end_time": "2023-06-21T11:11:42.300229473Z",
     "start_time": "2023-06-21T11:11:41.852909323Z"
    }
   },
   "outputs": [
    {
     "name": "stderr",
     "output_type": "stream",
     "text": [
      "Unknown attribute \"type\" in /robot[@name='pr2']/link[@name='base_laser_link']\n",
      "Unknown attribute \"type\" in /robot[@name='pr2']/link[@name='wide_stereo_optical_frame']\n",
      "Unknown attribute \"type\" in /robot[@name='pr2']/link[@name='narrow_stereo_optical_frame']\n",
      "Unknown attribute \"type\" in /robot[@name='pr2']/link[@name='laser_tilt_link']\n",
      "Unknown attribute \"type\" in /robot[@name='pr2']/link[@name='base_laser_link']\n",
      "Unknown attribute \"type\" in /robot[@name='pr2']/link[@name='wide_stereo_optical_frame']\n",
      "Unknown attribute \"type\" in /robot[@name='pr2']/link[@name='narrow_stereo_optical_frame']\n",
      "Unknown attribute \"type\" in /robot[@name='pr2']/link[@name='laser_tilt_link']\n"
     ]
    }
   ],
   "source": [
    "import pycram.orm.base\n",
    "import pycram.orm.task\n",
    "import pycram.orm.object_designator\n",
    "import pycram.orm.motion_designator\n",
    "import pycram.orm.action_designator\n",
    "pycram.orm.base.Base.metadata.create_all(engine)\n",
    "session.commit()"
   ]
  },
  {
   "cell_type": "markdown",
   "metadata": {},
   "source": [
    "Next we will write a simple plan where the robot parks his arms and then moves somewhere. We will construct a TaskTree around it such that we can serialize it later. As usual, we first create a world and then define the plan. After that we get and print the task tree."
   ]
  },
  {
   "cell_type": "code",
   "execution_count": 3,
   "metadata": {
    "ExecuteTime": {
     "end_time": "2023-06-21T11:11:52.950477426Z",
     "start_time": "2023-06-21T11:11:42.308351573Z"
    }
   },
   "outputs": [
    {
     "name": "stdout",
     "output_type": "stream",
     "text": [
      "no_operation()\n",
      "└── plan()\n",
      "    ├── perform(ParkArmsAction, )\n",
      "    ├── perform(MoveTorsoAction, )\n",
      "    ├── perform(NavigateAction, )\n",
      "    ├── perform(PickUpAction, )\n",
      "    ├── perform(ParkArmsAction, )\n",
      "    ├── perform(NavigateAction, )\n",
      "    ├── perform(PlaceAction, )\n",
      "    └── perform(ParkArmsAction, )\n"
     ]
    }
   ],
   "source": [
    "from pycram.designators.action_designator import *\n",
    "from pycram.designators.location_designator import *\n",
    "from pycram.process_module import simulated_robot\n",
    "from pycram.enums import Arms\n",
    "from pycram.task import with_tree\n",
    "import pycram.task\n",
    "from pycram.bullet_world import BulletWorld, Object\n",
    "from pycram.robot_descriptions import robot_description\n",
    "from pycram.designators.object_designator import *\n",
    "import anytree\n",
    "\n",
    "world = BulletWorld()\n",
    "pr2 = Object(\"pr2\", \"robot\", \"pr2.urdf\")\n",
    "kitchen = Object(\"kitchen\", \"environment\", \"kitchen.urdf\")\n",
    "milk = Object(\"milk\", \"milk\", \"milk.stl\", position=[1.3, 1, 0.9])\n",
    "cereal = Object(\"cereal\", \"cereal\", \"breakfast_cereal.stl\", position=[1.3, 0.7, 0.95])\n",
    "milk_desig = ObjectDesignatorDescription(names=[\"milk\"])\n",
    "cereal_desig = ObjectDesignatorDescription(names=[\"cereal\"])\n",
    "robot_desig = ObjectDesignatorDescription(names=[\"pr2\"]).resolve()\n",
    "kitchen_desig = ObjectDesignatorDescription(names=[\"kitchen\"])\n",
    "\n",
    "@with_tree\n",
    "def plan():\n",
    "    with simulated_robot:\n",
    "        ParkArmsAction.Action(Arms.BOTH).perform()\n",
    "        MoveTorsoAction([0.3]).resolve().perform()\n",
    "        pickup_pose = CostmapLocation(target=cereal_desig.resolve(), reachable_for=robot_desig).resolve()\n",
    "        pickup_arm = pickup_pose.reachable_arms[0]\n",
    "        NavigateAction(target_locations=[pickup_pose.pose]).resolve().perform()\n",
    "        PickUpAction(object_designator_description=cereal_desig, arms=[pickup_arm], grasps=[\"front\"]).resolve().perform()\n",
    "        ParkArmsAction([Arms.BOTH]).resolve().perform()\n",
    "\n",
    "        place_island = SemanticCostmapLocation(\"kitchen_island_surface\", kitchen_desig.resolve(),\n",
    "                                           cereal_desig.resolve()).resolve()\n",
    "\n",
    "        place_stand = CostmapLocation(place_island.pose, reachable_for=robot_desig, reachable_arm=pickup_arm).resolve()\n",
    "\n",
    "        NavigateAction(target_locations=[place_stand.pose]).resolve().perform()\n",
    "\n",
    "        PlaceAction(cereal_desig, target_locations=[place_island.pose], arms=[pickup_arm]).resolve().perform()\n",
    "\n",
    "        ParkArmsAction.Action(Arms.BOTH).perform()\n",
    "\n",
    "plan()\n",
    "\n",
    "# set description of what we are doing\n",
    "pycram.orm.base.MetaData().description = \"Tutorial for getting familiar with the ORM.\"\n",
    "task_tree = pycram.task.task_tree\n",
    "print(anytree.RenderTree(task_tree))"
   ]
  },
  {
   "cell_type": "markdown",
   "metadata": {},
   "source": [
    "Next we serialize the task tree by just recursively inserting from its root and close the simulation."
   ]
  },
  {
   "cell_type": "code",
   "execution_count": 4,
   "metadata": {
    "ExecuteTime": {
     "end_time": "2023-06-21T11:11:53.349360415Z",
     "start_time": "2023-06-21T11:11:52.951808593Z"
    }
   },
   "outputs": [
    {
     "name": "stderr",
     "output_type": "stream",
     "text": [
      "Inserting TaskTree into database: 100%|██████████| 10/10 [00:00<00:00, 72.24it/s]\n"
     ]
    }
   ],
   "source": [
    "task_tree.root.insert(session)\n",
    "world.exit()"
   ]
  },
  {
   "cell_type": "markdown",
   "metadata": {},
   "source": [
    "We can look at our experiment MetaData to get some context on the data we just created."
   ]
  },
  {
   "cell_type": "code",
   "execution_count": 5,
   "metadata": {
    "ExecuteTime": {
     "end_time": "2023-06-21T11:11:53.356399377Z",
     "start_time": "2023-06-21T11:11:53.352163032Z"
    }
   },
   "outputs": [
    {
     "name": "stdout",
     "output_type": "stream",
     "text": [
      "pycram.orm.base.MetaData(2023-06-21 11:11:52, tom_sch, Tutorial for getting familiar with the ORM., 3b4179f690079c2f066b528366d3831e85a5c841, 1, None)\n"
     ]
    }
   ],
   "source": [
    "print(*session.query(pycram.orm.base.MetaData).all())"
   ]
  },
  {
   "cell_type": "markdown",
   "metadata": {},
   "source": [
    "Lastly we can look at various table to see how the structures got logged.\n",
    "For example, we can get all the navigate actions that occurred."
   ]
  },
  {
   "cell_type": "code",
   "execution_count": 6,
   "metadata": {
    "ExecuteTime": {
     "end_time": "2023-06-21T11:11:53.362943886Z",
     "start_time": "2023-06-21T11:11:53.355804185Z"
    }
   },
   "outputs": [
    {
     "name": "stdout",
     "output_type": "stream",
     "text": [
      "pycram.orm.action_designator.NavigateAction(3, Navigate, 3, 1, 3, 3)\n",
      "pycram.orm.action_designator.NavigateAction(6, Navigate, 6, 1, 8, 8)\n"
     ]
    }
   ],
   "source": [
    "navigations = session.query(pycram.orm.action_designator.NavigateAction).all()\n",
    "print(*navigations, sep=\"\\n\")"
   ]
  },
  {
   "cell_type": "markdown",
   "metadata": {},
   "source": [
    "Since inheritance is correctly mapped in the ORM package we can also get all actions that were executed with the correct classes in just one line."
   ]
  },
  {
   "cell_type": "code",
   "execution_count": 7,
   "metadata": {
    "ExecuteTime": {
     "end_time": "2023-06-21T11:11:53.398349475Z",
     "start_time": "2023-06-21T11:11:53.363583533Z"
    }
   },
   "outputs": [
    {
     "name": "stdout",
     "output_type": "stream",
     "text": [
      "pycram.orm.action_designator.ParkArmsAction(1, ParkArms, 1, 1, BOTH)\n",
      "pycram.orm.action_designator.MoveTorsoAction(2, MoveTorso, 2, 1, 0.3)\n",
      "pycram.orm.action_designator.NavigateAction(3, Navigate, 3, 1, 3, 3)\n",
      "pycram.orm.action_designator.PickUpAction(4, PickUp, 4, 1, left, front, 1)\n",
      "pycram.orm.action_designator.ParkArmsAction(5, ParkArms, 5, 1, BOTH)\n",
      "pycram.orm.action_designator.NavigateAction(6, Navigate, 6, 1, 8, 8)\n",
      "pycram.orm.action_designator.PlaceAction(7, Place, 7, 1, left, 12, 12, 2)\n",
      "pycram.orm.action_designator.ParkArmsAction(8, ParkArms, 8, 1, BOTH)\n"
     ]
    }
   ],
   "source": [
    "actions = session.query(pycram.orm.action_designator.Action).all()\n",
    "print(*actions, sep=\"\\n\")"
   ]
  },
  {
   "cell_type": "markdown",
   "metadata": {},
   "source": [
    "Of course all relational algebra operators, such as filtering and joining also work in pycram.orm queries. For example if we want all actions that have an object designator assigned in them, we can execute:"
   ]
  },
  {
   "cell_type": "code",
   "execution_count": 8,
   "metadata": {
    "ExecuteTime": {
     "end_time": "2023-06-21T11:11:53.398761828Z",
     "start_time": "2023-06-21T11:11:53.375613258Z"
    }
   },
   "outputs": [
    {
     "name": "stdout",
     "output_type": "stream",
     "text": [
      "(pycram.orm.action_designator.PickUpAction(4, PickUp, 4, 1, left, front, 1), pycram.orm.object_designator.ObjectDesignator(1, Object, cereal, cereal, 6, 6, 1))\n",
      "(pycram.orm.action_designator.PlaceAction(7, Place, 7, 1, left, 12, 12, 2), pycram.orm.object_designator.ObjectDesignator(2, Object, cereal, cereal, 11, 11, 1))\n"
     ]
    }
   ],
   "source": [
    "object_actions = session.query(pycram.orm.action_designator.PickUpAction,\n",
    "                               pycram.orm.object_designator.ObjectDesignator).join(pycram.orm.object_designator.ObjectDesignator).all() + \\\n",
    "                 session.query(pycram.orm.action_designator.PlaceAction,\n",
    "                               pycram.orm.object_designator.ObjectDesignator).join(pycram.orm.object_designator.ObjectDesignator).all()\n",
    "print(*object_actions, sep=\"\\n\")"
   ]
  },
  {
   "cell_type": "markdown",
   "metadata": {},
   "source": [
    "If we want to filter for all successful tasks we can just add the filter operator."
   ]
  },
  {
   "cell_type": "code",
   "execution_count": 9,
   "metadata": {
    "ExecuteTime": {
     "end_time": "2023-06-21T11:11:53.399106817Z",
     "start_time": "2023-06-21T11:11:53.378997634Z"
    }
   },
   "outputs": [
    {
     "name": "stdout",
     "output_type": "stream",
     "text": [
      "pycram.orm.task.TaskTreeNode(2, 2, 2023-06-21 13:11:48.360113, 2023-06-21 13:11:52.938849, SUCCEEDED, None, 1, 1)\n",
      "pycram.orm.task.TaskTreeNode(3, 3, 2023-06-21 13:11:48.360178, 2023-06-21 13:11:48.861320, SUCCEEDED, None, 2, 1)\n",
      "pycram.orm.task.TaskTreeNode(4, 4, 2023-06-21 13:11:48.861418, 2023-06-21 13:11:49.362737, SUCCEEDED, None, 2, 1)\n",
      "pycram.orm.task.TaskTreeNode(5, 5, 2023-06-21 13:11:49.681729, 2023-06-21 13:11:50.183847, SUCCEEDED, None, 2, 1)\n",
      "pycram.orm.task.TaskTreeNode(6, 6, 2023-06-21 13:11:50.184025, 2023-06-21 13:11:50.692115, SUCCEEDED, None, 2, 1)\n",
      "pycram.orm.task.TaskTreeNode(7, 7, 2023-06-21 13:11:50.692217, 2023-06-21 13:11:51.194235, SUCCEEDED, None, 2, 1)\n",
      "pycram.orm.task.TaskTreeNode(8, 8, 2023-06-21 13:11:51.424789, 2023-06-21 13:11:51.926648, SUCCEEDED, None, 2, 1)\n",
      "pycram.orm.task.TaskTreeNode(9, 9, 2023-06-21 13:11:51.926780, 2023-06-21 13:11:52.435604, SUCCEEDED, None, 2, 1)\n",
      "pycram.orm.task.TaskTreeNode(10, 10, 2023-06-21 13:11:52.435685, 2023-06-21 13:11:52.938835, SUCCEEDED, None, 2, 1)\n"
     ]
    }
   ],
   "source": [
    "successful_tasks = session.query(pycram.orm.task.TaskTreeNode).filter(pycram.orm.task.TaskTreeNode.status == \"SUCCEEDED\")\n",
    "print(*successful_tasks, sep=\"\\n\")"
   ]
  },
  {
   "cell_type": "markdown",
   "metadata": {},
   "source": [
    "As expected all but the root node succeeded, since the root node is still running.\n",
    "\n",
    "Writing an extension to the ORM package is also done with ease. We need to create a class that can be inserted and its ORM equivalent, write a to_sql() and insert() method and then insert it somewhere."
   ]
  },
  {
   "cell_type": "code",
   "execution_count": 10,
   "metadata": {
    "ExecuteTime": {
     "end_time": "2023-06-21T11:11:53.447272385Z",
     "start_time": "2023-06-21T11:11:53.387755801Z"
    }
   },
   "outputs": [],
   "source": [
    "import pycram.designators.action_designator\n",
    "\n",
    "\n",
    "# define ORM class from pattern in every pycram.orm class\n",
    "class ORMSaying(pycram.orm.action_designator.Action):\n",
    "    __tablename__ = \"Saying\"\n",
    "    id = sqlalchemy.Column(sqlalchemy.types.Integer, sqlalchemy.ForeignKey(\"Action.id\"), primary_key=True)\n",
    "    text = sqlalchemy.Column(sqlalchemy.types.String(255))\n",
    "\n",
    "    __mapper_args__ = {\n",
    "        \"polymorphic_identity\": __tablename__,\n",
    "        \"polymorphic_on\": \"dtype\",\n",
    "    }\n",
    "\n",
    "    def __init__(self, text: str):\n",
    "        super().__init__()\n",
    "        self.text = text\n",
    "\n",
    "\n",
    "# define brand new action designator\n",
    "class Saying(pycram.designators.action_designator.ActionDesignatorDescription):\n",
    "\n",
    "    def __init__(self, text):\n",
    "        super().__init__()\n",
    "        self.text = text\n",
    "\n",
    "    def to_sql(self):\n",
    "        return ORMSaying(self.text)\n",
    "\n",
    "    def insert(self, session):\n",
    "        action = self.to_sql()\n",
    "        session.add(action)\n",
    "        session.commit()\n",
    "        return action"
   ]
  },
  {
   "cell_type": "markdown",
   "metadata": {},
   "source": [
    "So we now got our new ActionDesignator called Saying and its ORM version. Since this class got created after all other classes got inserted into the database (in the beginning of the notebook) we have to insert it manually."
   ]
  },
  {
   "cell_type": "code",
   "execution_count": 11,
   "metadata": {
    "ExecuteTime": {
     "end_time": "2023-06-21T11:11:53.450154560Z",
     "start_time": "2023-06-21T11:11:53.428325526Z"
    }
   },
   "outputs": [],
   "source": [
    "ORMSaying.metadata.create_all(bind=engine)"
   ]
  },
  {
   "cell_type": "markdown",
   "metadata": {},
   "source": [
    "Now we can create and insert a Saying action."
   ]
  },
  {
   "cell_type": "code",
   "execution_count": 12,
   "metadata": {
    "ExecuteTime": {
     "end_time": "2023-06-21T11:11:53.450638445Z",
     "start_time": "2023-06-21T11:11:53.428465315Z"
    }
   },
   "outputs": [
    {
     "data": {
      "text/plain": [
       "__main__.ORMSaying(9, Saying, None, None, Patchie, Patchie; Where is my Patchie?)"
      ]
     },
     "execution_count": 12,
     "metadata": {},
     "output_type": "execute_result"
    }
   ],
   "source": [
    "# create a saying action and insert it\n",
    "foo = Saying(\"Patchie, Patchie; Where is my Patchie?\")\n",
    "orm_foo = foo.insert(session)\n",
    "orm_foo"
   ]
  },
  {
   "cell_type": "markdown",
   "metadata": {},
   "source": [
    "It is notable that committing the object to the session fills its primary key. Hence, there is no worries about assigning unique IDs manually.\n",
    "Finally, we can double-check that our object exists in the database."
   ]
  },
  {
   "cell_type": "code",
   "execution_count": 13,
   "metadata": {
    "ExecuteTime": {
     "end_time": "2023-06-21T11:11:53.450826183Z",
     "start_time": "2023-06-21T11:11:53.428548847Z"
    }
   },
   "outputs": [
    {
     "data": {
      "text/plain": [
       "[__main__.ORMSaying(9, Saying, None, None, Patchie, Patchie; Where is my Patchie?)]"
      ]
     },
     "execution_count": 13,
     "metadata": {},
     "output_type": "execute_result"
    }
   ],
   "source": [
    "session.query(ORMSaying).all()"
   ]
  }
 ],
 "metadata": {
  "kernelspec": {
   "display_name": "Python 3",
   "language": "python",
   "name": "python3"
  },
  "language_info": {
   "codemirror_mode": {
    "name": "ipython",
    "version": 3
   },
   "file_extension": ".py",
   "mimetype": "text/x-python",
   "name": "python",
   "nbconvert_exporter": "python",
   "pygments_lexer": "ipython3",
   "version": "3.8.10"
  }
 },
 "nbformat": 4,
 "nbformat_minor": 1
}
