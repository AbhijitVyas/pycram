{
 "cells": [
  {
   "cell_type": "markdown",
   "metadata": {},
   "source": [
    "# What is the bootstrapping approach for the task learning?\n",
    "In the context of teaching, bootstrapping approach often involve starting with basic knowledge or skills and then iteratively improving or expanding upon them through additional learning experiences, in this case by interacting with a human mentor. This approach allows learners to gradually acquire more complex knowledge or abilities by building on what they already know. Bootstrapping is a common strategy in education and learning systems, helping individuals incrementally develop their expertise.\n",
    "\n",
    "For the learning of the pouring task, a task learning strategy has been developed by leveraging primitive actions that the PR2 robot can execute using PyCRAM action and/or motion designators. This strategy involves breaking down the pouring task into simpler, fundamental actions that the robot can understand and execute. By utilizing these primitive actions, the robot can gradually learn and perform the complete pouring task. When the instruction to save the learning plan is given, the robot can then incorporate this complex plan into its existing repertoire of skills. This method allows the robot to accumulate and store knowledge about various tasks and their constraints, contributing to its overall capabilities."
   ],
   "id": "76255ddcb84c6ce8"
  },
  {
   "cell_type": "markdown",
   "source": [
    "# List of bootstrapping instructions\n"
   ],
   "metadata": {
    "collapsed": false
   },
   "id": "7f7a02527f77dcd0"
  },
  {
   "cell_type": "markdown",
   "source": [
    "## Start teaching "
   ],
   "metadata": {
    "collapsed": false
   },
   "id": "144cc936b55ac8d6"
  },
  {
   "cell_type": "markdown",
   "metadata": {},
   "source": [
    "## At first Initialize an environment and robot agent"
   ],
   "id": "6c03427dcd398832"
  },
  {
   "cell_type": "code",
   "execution_count": 2,
   "metadata": {
    "ExecuteTime": {
     "end_time": "2023-11-30T14:01:17.733701605Z",
     "start_time": "2023-11-30T14:01:17.690609971Z"
    }
   },
   "outputs": [],
   "source": [
    "from pycram.designators.action_designator import PickUpAction, PlaceAction, ParkArmsAction, MoveTorsoAction, \\\n",
    "    NavigateAction, PourAction\n",
    "from pycram.designators.object_designator import *\n",
    "from pycram.process_module import simulated_robot\n",
    "from pycram.enums import Arms\n",
    "from pycram.pose import Pose\n",
    "# from pycram.designator import ObjectDesignatorDescription as odd\n",
    "from pycram.bullet_world import BulletWorld, Object\n",
    "from pycram.designators.location_designator import CostmapLocation, SemanticCostmapLocation\n",
    "import tf\n",
    "\n",
    "\n"
   ],
   "id": "830ea1dc3c78c792"
  },
  {
   "cell_type": "markdown",
   "source": [
    "## Pour\n",
    "Pour action designator lets the robot pour a particle(not yet simulated) from one container to the other. It is an extention of pick and place example given earlier. \n",
    "\n",
    "This action designator only works in the apartment environment for the moment. "
   ],
   "metadata": {
    "collapsed": false
   },
   "id": "c17e54e6aa82883d"
  },
  {
   "cell_type": "code",
   "execution_count": 4,
   "outputs": [
    {
     "name": "stderr",
     "output_type": "stream",
     "text": [
      "Exception in thread Thread-11:\n",
      "Traceback (most recent call last):\n",
      "  File \"/usr/lib/python3.8/threading.py\", line 932, in _bootstrap_inner\n",
      "    self.run()\n",
      "  File \"/home/abhijit/catkin_ws/src/pycram/src/pycram/bullet_world.py\", line 517, in run\n",
      "    self.world.client_id = p.connect(p.GUI)\n",
      "pybullet.error: Only one local in-process GUI/GUI_SERVER connection allowed. Use DIRECT connection mode or start a separate GUI physics server (ExampleBrowser, App_SharedMemoryPhysics_GUI, App_SharedMemoryPhysics_VR) and connect over SHARED_MEMORY, UDP or TCP instead.\n"
     ]
    },
    {
     "ename": "error",
     "evalue": "Not connected to physics server.",
     "output_type": "error",
     "traceback": [
      "\u001B[0;31m---------------------------------------------------------------------------\u001B[0m",
      "\u001B[0;31merror\u001B[0m                                     Traceback (most recent call last)",
      "Cell \u001B[0;32mIn[4], line 13\u001B[0m\n\u001B[1;32m      9\u001B[0m \u001B[38;5;28;01mfrom\u001B[39;00m \u001B[38;5;21;01mpycram\u001B[39;00m\u001B[38;5;21;01m.\u001B[39;00m\u001B[38;5;21;01mdesignators\u001B[39;00m\u001B[38;5;21;01m.\u001B[39;00m\u001B[38;5;21;01mlocation_designator\u001B[39;00m \u001B[38;5;28;01mimport\u001B[39;00m CostmapLocation, SemanticCostmapLocation\n\u001B[1;32m     10\u001B[0m \u001B[38;5;28;01mimport\u001B[39;00m \u001B[38;5;21;01mtf\u001B[39;00m\n\u001B[0;32m---> 13\u001B[0m world \u001B[38;5;241m=\u001B[39m \u001B[43mBulletWorld\u001B[49m\u001B[43m(\u001B[49m\u001B[43m)\u001B[49m\n\u001B[1;32m     14\u001B[0m world\u001B[38;5;241m.\u001B[39mset_gravity([\u001B[38;5;241m0\u001B[39m, \u001B[38;5;241m0\u001B[39m, \u001B[38;5;241m-\u001B[39m\u001B[38;5;241m9.8\u001B[39m])\n",
      "File \u001B[0;32m~/catkin_ws/src/pycram/src/pycram/bullet_world.py:94\u001B[0m, in \u001B[0;36mBulletWorld.__init__\u001B[0;34m(self, type, is_shadow_world)\u001B[0m\n\u001B[1;32m     91\u001B[0m     \u001B[38;5;28mself\u001B[39m\u001B[38;5;241m.\u001B[39mlocal_transformer\u001B[38;5;241m.\u001B[39mbullet_world \u001B[38;5;241m=\u001B[39m \u001B[38;5;28mself\u001B[39m\n\u001B[1;32m     93\u001B[0m \u001B[38;5;66;03m# Some default settings\u001B[39;00m\n\u001B[0;32m---> 94\u001B[0m \u001B[38;5;28;43mself\u001B[39;49m\u001B[38;5;241;43m.\u001B[39;49m\u001B[43mset_gravity\u001B[49m\u001B[43m(\u001B[49m\u001B[43m[\u001B[49m\u001B[38;5;241;43m0\u001B[39;49m\u001B[43m,\u001B[49m\u001B[43m \u001B[49m\u001B[38;5;241;43m0\u001B[39;49m\u001B[43m,\u001B[49m\u001B[43m \u001B[49m\u001B[38;5;241;43m-\u001B[39;49m\u001B[38;5;241;43m9.8\u001B[39;49m\u001B[43m]\u001B[49m\u001B[43m)\u001B[49m\n\u001B[1;32m     95\u001B[0m \u001B[38;5;28;01mif\u001B[39;00m \u001B[38;5;129;01mnot\u001B[39;00m is_shadow_world:\n\u001B[1;32m     96\u001B[0m     plane \u001B[38;5;241m=\u001B[39m Object(\u001B[38;5;124m\"\u001B[39m\u001B[38;5;124mfloor\u001B[39m\u001B[38;5;124m\"\u001B[39m, \u001B[38;5;124m\"\u001B[39m\u001B[38;5;124menvironment\u001B[39m\u001B[38;5;124m\"\u001B[39m, \u001B[38;5;124m\"\u001B[39m\u001B[38;5;124mplane.urdf\u001B[39m\u001B[38;5;124m\"\u001B[39m, world\u001B[38;5;241m=\u001B[39m\u001B[38;5;28mself\u001B[39m)\n",
      "File \u001B[0;32m~/catkin_ws/src/pycram/src/pycram/bullet_world.py:166\u001B[0m, in \u001B[0;36mBulletWorld.set_gravity\u001B[0;34m(self, velocity)\u001B[0m\n\u001B[1;32m    159\u001B[0m \u001B[38;5;28;01mdef\u001B[39;00m \u001B[38;5;21mset_gravity\u001B[39m(\u001B[38;5;28mself\u001B[39m, velocity: List[\u001B[38;5;28mfloat\u001B[39m]) \u001B[38;5;241m-\u001B[39m\u001B[38;5;241m>\u001B[39m \u001B[38;5;28;01mNone\u001B[39;00m:\n\u001B[1;32m    160\u001B[0m \u001B[38;5;250m    \u001B[39m\u001B[38;5;124;03m\"\"\"\u001B[39;00m\n\u001B[1;32m    161\u001B[0m \u001B[38;5;124;03m    Sets the gravity that is used in the BullteWorld, by default the is the gravity on earth ([0, 0, -9.8]). Gravity\u001B[39;00m\n\u001B[1;32m    162\u001B[0m \u001B[38;5;124;03m    is given as a vector in x,y,z. Gravity is only applied while simulating Physic.\u001B[39;00m\n\u001B[1;32m    163\u001B[0m \n\u001B[1;32m    164\u001B[0m \u001B[38;5;124;03m    :param velocity: The gravity vector that should be used in the BulletWorld.\u001B[39;00m\n\u001B[1;32m    165\u001B[0m \u001B[38;5;124;03m    \"\"\"\u001B[39;00m\n\u001B[0;32m--> 166\u001B[0m     \u001B[43mp\u001B[49m\u001B[38;5;241;43m.\u001B[39;49m\u001B[43msetGravity\u001B[49m\u001B[43m(\u001B[49m\u001B[43mvelocity\u001B[49m\u001B[43m[\u001B[49m\u001B[38;5;241;43m0\u001B[39;49m\u001B[43m]\u001B[49m\u001B[43m,\u001B[49m\u001B[43m \u001B[49m\u001B[43mvelocity\u001B[49m\u001B[43m[\u001B[49m\u001B[38;5;241;43m1\u001B[39;49m\u001B[43m]\u001B[49m\u001B[43m,\u001B[49m\u001B[43m \u001B[49m\u001B[43mvelocity\u001B[49m\u001B[43m[\u001B[49m\u001B[38;5;241;43m2\u001B[39;49m\u001B[43m]\u001B[49m\u001B[43m,\u001B[49m\u001B[43m \u001B[49m\u001B[43mphysicsClientId\u001B[49m\u001B[38;5;241;43m=\u001B[39;49m\u001B[38;5;28;43mself\u001B[39;49m\u001B[38;5;241;43m.\u001B[39;49m\u001B[43mclient_id\u001B[49m\u001B[43m)\u001B[49m\n",
      "\u001B[0;31merror\u001B[0m: Not connected to physics server."
     ]
    }
   ],
   "source": [
    "from pycram.designators.action_designator import PickUpAction, PlaceAction, ParkArmsAction, MoveTorsoAction, \\\n",
    "    NavigateAction, PourAction\n",
    "from pycram.designators.object_designator import *\n",
    "from pycram.process_module import simulated_robot\n",
    "from pycram.enums import Arms\n",
    "from pycram.pose import Pose\n",
    "# from pycram.designator import ObjectDesignatorDescription as odd\n",
    "from pycram.bullet_world import BulletWorld, Object\n",
    "from pycram.designators.location_designator import CostmapLocation, SemanticCostmapLocation\n",
    "import tf\n",
    "\n",
    "\n",
    "world = BulletWorld()\n",
    "world.set_gravity([0, 0, -9.8])\n",
    "\n",
    "\n",
    "# source container\n",
    "milk = Object(\"milk\", \"milk\", \"milk.stl\", pose=Pose([2.4, 2.5, 1]))\n",
    "# destination container\n",
    "bowl = Object(\"bowl\", \"bowl\", \"bowl.stl\", pose=Pose([2.4, 2.8, 0.98]))\n",
    "pr2 = Object(\"pr2\", \"robot\", \"pr2.urdf\", pose=Pose([1.2, 2.5, 0]))\n",
    "\n",
    "pr2_desig = BelieveObject(names=[\"pr2\"])\n",
    "milk_desig = BelieveObject(names=[\"milk\"])\n",
    "bowl_desig = BelieveObject(names=[\"bowl\"])\n",
    "\n",
    "apartment = Object(\"apartment\", \"environment\", \"apartment.urdf\")"
   ],
   "metadata": {
    "collapsed": false,
    "ExecuteTime": {
     "end_time": "2023-11-30T14:02:11.553276588Z",
     "start_time": "2023-11-30T14:02:11.301636955Z"
    }
   },
   "id": "1ae67e049420a46b"
  },
  {
   "cell_type": "code",
   "execution_count": null,
   "outputs": [],
   "source": [
    "## Provide pouring plan for robot to follow by using bootstrapping instructions"
   ],
   "metadata": {
    "collapsed": false
   },
   "id": "6c3ae8ec6c969d8"
  },
  {
   "cell_type": "code",
   "execution_count": 3,
   "outputs": [
    {
     "ename": "AttributeError",
     "evalue": "'NoneType' object has no attribute 'get_pose'",
     "output_type": "error",
     "traceback": [
      "\u001B[0;31m---------------------------------------------------------------------------\u001B[0m",
      "\u001B[0;31mAttributeError\u001B[0m                            Traceback (most recent call last)",
      "Cell \u001B[0;32mIn[3], line 2\u001B[0m\n\u001B[1;32m      1\u001B[0m \u001B[38;5;28;01mwith\u001B[39;00m simulated_robot:\n\u001B[0;32m----> 2\u001B[0m     \u001B[43mParkArmsAction\u001B[49m\u001B[43m(\u001B[49m\u001B[43m[\u001B[49m\u001B[43mArms\u001B[49m\u001B[38;5;241;43m.\u001B[39;49m\u001B[43mBOTH\u001B[49m\u001B[43m]\u001B[49m\u001B[43m)\u001B[49m\u001B[38;5;241;43m.\u001B[39;49m\u001B[43mresolve\u001B[49m\u001B[43m(\u001B[49m\u001B[43m)\u001B[49m\u001B[38;5;241m.\u001B[39mperform()\n\u001B[1;32m      3\u001B[0m     MoveTorsoAction([\u001B[38;5;241m0.3\u001B[39m])\u001B[38;5;241m.\u001B[39mresolve()\u001B[38;5;241m.\u001B[39mperform()\n\u001B[1;32m      5\u001B[0m     \u001B[38;5;66;03m# find pick up pose for source container\u001B[39;00m\n",
      "File \u001B[0;32m~/catkin_ws/src/pycram/src/pycram/designators/action_designator.py:264\u001B[0m, in \u001B[0;36mParkArmsAction.ground\u001B[0;34m(self)\u001B[0m\n\u001B[1;32m    258\u001B[0m \u001B[38;5;28;01mdef\u001B[39;00m \u001B[38;5;21mground\u001B[39m(\u001B[38;5;28mself\u001B[39m) \u001B[38;5;241m-\u001B[39m\u001B[38;5;241m>\u001B[39m Action:\n\u001B[1;32m    259\u001B[0m \u001B[38;5;250m    \u001B[39m\u001B[38;5;124;03m\"\"\"\u001B[39;00m\n\u001B[1;32m    260\u001B[0m \u001B[38;5;124;03m    Default resolver that returns a performable designator with the first element of the list of possible arms\u001B[39;00m\n\u001B[1;32m    261\u001B[0m \n\u001B[1;32m    262\u001B[0m \u001B[38;5;124;03m    :return: A performable designator\u001B[39;00m\n\u001B[1;32m    263\u001B[0m \u001B[38;5;124;03m    \"\"\"\u001B[39;00m\n\u001B[0;32m--> 264\u001B[0m     \u001B[38;5;28;01mreturn\u001B[39;00m \u001B[38;5;28;43mself\u001B[39;49m\u001B[38;5;241;43m.\u001B[39;49m\u001B[43mAction\u001B[49m\u001B[43m(\u001B[49m\u001B[38;5;28;43mself\u001B[39;49m\u001B[38;5;241;43m.\u001B[39;49m\u001B[43marms\u001B[49m\u001B[43m[\u001B[49m\u001B[38;5;241;43m0\u001B[39;49m\u001B[43m]\u001B[49m\u001B[43m)\u001B[49m\n",
      "File \u001B[0;32m<string>:4\u001B[0m, in \u001B[0;36m__init__\u001B[0;34m(self, arm)\u001B[0m\n",
      "File \u001B[0;32m~/catkin_ws/src/pycram/src/pycram/designator.py:481\u001B[0m, in \u001B[0;36mActionDesignatorDescription.Action.__post_init__\u001B[0;34m(self)\u001B[0m\n\u001B[1;32m    480\u001B[0m \u001B[38;5;28;01mdef\u001B[39;00m \u001B[38;5;21m__post_init__\u001B[39m(\u001B[38;5;28mself\u001B[39m):\n\u001B[0;32m--> 481\u001B[0m     \u001B[38;5;28mself\u001B[39m\u001B[38;5;241m.\u001B[39mrobot_position \u001B[38;5;241m=\u001B[39m \u001B[43mBulletWorld\u001B[49m\u001B[38;5;241;43m.\u001B[39;49m\u001B[43mrobot\u001B[49m\u001B[38;5;241;43m.\u001B[39;49m\u001B[43mget_pose\u001B[49m()\n\u001B[1;32m    482\u001B[0m     \u001B[38;5;28mself\u001B[39m\u001B[38;5;241m.\u001B[39mrobot_torso_height \u001B[38;5;241m=\u001B[39m BulletWorld\u001B[38;5;241m.\u001B[39mrobot\u001B[38;5;241m.\u001B[39mget_joint_state(robot_description\u001B[38;5;241m.\u001B[39mtorso_joint)\n\u001B[1;32m    483\u001B[0m     \u001B[38;5;28mself\u001B[39m\u001B[38;5;241m.\u001B[39mrobot_type \u001B[38;5;241m=\u001B[39m BulletWorld\u001B[38;5;241m.\u001B[39mrobot\u001B[38;5;241m.\u001B[39mtype\n",
      "\u001B[0;31mAttributeError\u001B[0m: 'NoneType' object has no attribute 'get_pose'"
     ]
    }
   ],
   "source": [
    "with simulated_robot:\n",
    "    ParkArmsAction([Arms.BOTH]).resolve().perform()\n",
    "    MoveTorsoAction([0.3]).resolve().perform()\n",
    "\n",
    "    # find pick up pose for source container\n",
    "    pickup_pose = CostmapLocation(target=milk_desig.resolve(), reachable_for=pr2_desig.resolve()).resolve()\n",
    "    pickup_arm = pickup_pose.reachable_arms[0]\n",
    "\n",
    "    # navigate to the source container\n",
    "    NavigateAction(target_locations=[pickup_pose.pose]).resolve().perform()\n",
    "\n",
    "    ParkArmsAction([Arms.BOTH]).resolve().perform()\n",
    "\n",
    "    # perform pickup action\n",
    "    PickUpAction(object_designator_description=milk_desig, arms=[pickup_arm], grasps=[\"front\"]).resolve().perform()\n",
    "\n",
    "    ParkArmsAction([Arms.BOTH]).resolve().perform()\n",
    "    # calculate pouring angle in quaternion\n",
    "    quaternion = tf.transformations.quaternion_from_euler(90, 0, 0, axes=\"sxyz\")\n",
    "    # for simplicity calculate tilting pose where the destination container is. In this case a bowl\n",
    "    tilting_pose = SemanticCostmapLocation.Location(pose=Pose( bowl.original_pose.position_as_list(), list(quaternion)))\n",
    "    revert_tilting_pose = SemanticCostmapLocation.Location(pose=Pose(bowl.original_pose.position_as_list(), [0.0, 0, 0, 1]))\n",
    "    # do pouring by tilting, and accept time interval\n",
    "    PourAction(milk_desig, pouring_location=[tilting_pose.pose], revert_location=[revert_tilting_pose.pose],\n",
    "               arms=[pickup_arm], wait_duration=5).resolve().perform()\n",
    "\n",
    "    ParkArmsAction([Arms.BOTH]).resolve().perform()\n",
    "    # place the source container to its original position\n",
    "    place_pose = SemanticCostmapLocation.Location(pose=Pose(milk.original_pose.position_as_list(), [0.0, 0, 0, 1.0]))\n",
    "    PlaceAction(milk_desig, target_locations=[place_pose.pose], arms=[pickup_arm]).resolve().perform()\n",
    "\n",
    "    ParkArmsAction([Arms.BOTH]).resolve().perform()\n",
    "    # move pr2 to end pose\n",
    "    end_pose = SemanticCostmapLocation.Location(pose=Pose([1, 2.5, 0], [0.0, 0, 0, 1.0]))\n",
    "    NavigateAction(target_locations=[end_pose.pose]).resolve().perform()"
   ],
   "metadata": {
    "collapsed": false,
    "ExecuteTime": {
     "end_time": "2023-11-30T09:46:28.486380704Z",
     "start_time": "2023-11-30T09:46:28.391373957Z"
    }
   },
   "id": "7854017a08654f1d"
  },
  {
   "cell_type": "code",
   "execution_count": 4,
   "outputs": [
    {
     "ename": "NameError",
     "evalue": "name 'world' is not defined",
     "output_type": "error",
     "traceback": [
      "\u001B[0;31m---------------------------------------------------------------------------\u001B[0m",
      "\u001B[0;31mNameError\u001B[0m                                 Traceback (most recent call last)",
      "Cell \u001B[0;32mIn[4], line 1\u001B[0m\n\u001B[0;32m----> 1\u001B[0m \u001B[43mworld\u001B[49m\u001B[38;5;241m.\u001B[39mreset_bullet_world()\n",
      "\u001B[0;31mNameError\u001B[0m: name 'world' is not defined"
     ]
    }
   ],
   "source": [
    "world.reset_bullet_world()"
   ],
   "metadata": {
    "collapsed": false,
    "ExecuteTime": {
     "end_time": "2023-11-30T09:46:39.650520877Z",
     "start_time": "2023-11-30T09:46:39.611684976Z"
    }
   },
   "id": "bbc8a937a2c062e3"
  },
  {
   "cell_type": "code",
   "execution_count": null,
   "outputs": [],
   "source": [],
   "metadata": {
    "collapsed": false
   },
   "id": "68ff426a81767ec8"
  }
 ],
 "metadata": {
  "kernelspec": {
   "display_name": "Python 3",
   "language": "python",
   "name": "python3"
  },
  "language_info": {
   "codemirror_mode": {
    "name": "ipython",
    "version": 3
   },
   "file_extension": ".py",
   "mimetype": "text/x-python",
   "name": "python",
   "nbconvert_exporter": "python",
   "pygments_lexer": "ipython3",
   "version": "3.8.10"
  }
 },
 "nbformat": 4,
 "nbformat_minor": 5
}
