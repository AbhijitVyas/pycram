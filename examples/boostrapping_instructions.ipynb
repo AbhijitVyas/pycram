{
 "cells": [
  {
   "cell_type": "markdown",
   "metadata": {},
   "source": [
    "# What is the bootstrapping approach for the task learning?\n",
    "In the context of teaching, bootstrapping approach often involve starting with basic knowledge or skills and then iteratively improving or expanding upon them through additional learning experiences, in this case by interacting with a human mentor. This approach allows learners to gradually acquire more complex knowledge or abilities by building on what they already know. Bootstrapping is a common strategy in education and learning systems, helping individuals incrementally develop their expertise.\n",
    "\n",
    "For the learning of the pouring task, a task learning strategy has been developed by leveraging primitive actions that the PR2 robot can execute using PyCRAM action and/or motion designators. This strategy involves breaking down the pouring task into simpler, fundamental actions that the robot can understand and execute. By utilizing these primitive actions, the robot can gradually learn and perform the complete pouring task. When the instruction to save the learning plan is given, the robot can then incorporate this complex plan into its existing repertoire of skills. This method allows the robot to accumulate and store knowledge about various tasks and their constraints, contributing to its overall capabilities."
   ],
   "id": "76255ddcb84c6ce8"
  },
  {
   "cell_type": "markdown",
   "source": [
    "# List of bootstrapping instructions\n"
   ],
   "metadata": {
    "collapsed": false
   },
   "id": "7f7a02527f77dcd0"
  },
  {
   "cell_type": "markdown",
   "source": [
    "## Start teaching "
   ],
   "metadata": {
    "collapsed": false
   },
   "id": "144cc936b55ac8d6"
  },
  {
   "cell_type": "markdown",
   "metadata": {},
   "source": [
    "## At first Initialize an environment and robot agent"
   ],
   "id": "6c03427dcd398832"
  },
  {
   "cell_type": "code",
   "execution_count": 8,
   "metadata": {},
   "outputs": [
    {
     "name": "stderr",
     "output_type": "stream",
     "text": [
      "Scalar element defined multiple times: limit\n",
      "Scalar element defined multiple times: limit\n"
     ]
    }
   ],
   "source": [
    "from pycram.designators.action_designator import PickUpAction, PlaceAction, ParkArmsAction, MoveTorsoAction, \\\n",
    "    NavigateAction, PourAction\n",
    "from pycram.designators.object_designator import *\n",
    "from pycram.process_module import simulated_robot\n",
    "from pycram.enums import Arms\n",
    "from pycram.pose import Pose\n",
    "# from pycram.designator import ObjectDesignatorDescription as odd\n",
    "from pycram.bullet_world import BulletWorld, Object\n",
    "from pycram.designators.location_designator import CostmapLocation, SemanticCostmapLocation\n",
    "import tf\n",
    "\n",
    "\n"
   ],
   "id": "830ea1dc3c78c792"
  },
  {
   "cell_type": "markdown",
   "source": [
    "## Pour\n",
    "Pour action designator lets the robot pour a particle(not yet simulated) from one container to the other. It is an extention of pick and place example given earlier. \n",
    "\n",
    "This action designator only works in the apartment environment for the moment. "
   ],
   "metadata": {
    "collapsed": false
   },
   "id": "c17e54e6aa82883d"
  },
  {
   "cell_type": "code",
   "execution_count": 1,
   "outputs": [
    {
     "name": "stderr",
     "output_type": "stream",
     "text": [
      "(robot-description) Could not get robot name from parameter server. Try again.\n",
      "WARNING:root:gitpython is not installed.\n"
     ]
    },
    {
     "ename": "ROSInitException",
     "evalue": "time is not initialized. Have you called init_node()?",
     "output_type": "error",
     "traceback": [
      "\u001B[0;31m---------------------------------------------------------------------------\u001B[0m",
      "\u001B[0;31mROSInitException\u001B[0m                          Traceback (most recent call last)",
      "Cell \u001B[0;32mIn[1], line 13\u001B[0m\n\u001B[1;32m      9\u001B[0m \u001B[38;5;28;01mfrom\u001B[39;00m \u001B[38;5;21;01mpycram\u001B[39;00m\u001B[38;5;21;01m.\u001B[39;00m\u001B[38;5;21;01mdesignators\u001B[39;00m\u001B[38;5;21;01m.\u001B[39;00m\u001B[38;5;21;01mlocation_designator\u001B[39;00m \u001B[38;5;28;01mimport\u001B[39;00m CostmapLocation, SemanticCostmapLocation\n\u001B[1;32m     10\u001B[0m \u001B[38;5;28;01mimport\u001B[39;00m \u001B[38;5;21;01mtf\u001B[39;00m\n\u001B[0;32m---> 13\u001B[0m world \u001B[38;5;241m=\u001B[39m \u001B[43mBulletWorld\u001B[49m\u001B[43m(\u001B[49m\u001B[43m)\u001B[49m\n\u001B[1;32m     14\u001B[0m world\u001B[38;5;241m.\u001B[39mset_gravity([\u001B[38;5;241m0\u001B[39m, \u001B[38;5;241m0\u001B[39m, \u001B[38;5;241m-\u001B[39m\u001B[38;5;241m9.8\u001B[39m])\n\u001B[1;32m     17\u001B[0m \u001B[38;5;66;03m# source container\u001B[39;00m\n",
      "File \u001B[0;32m~/catkin_ws/src/pycram/src/pycram/bullet_world.py:96\u001B[0m, in \u001B[0;36mBulletWorld.__init__\u001B[0;34m(self, type, is_shadow_world)\u001B[0m\n\u001B[1;32m     94\u001B[0m \u001B[38;5;28mself\u001B[39m\u001B[38;5;241m.\u001B[39mset_gravity([\u001B[38;5;241m0\u001B[39m, \u001B[38;5;241m0\u001B[39m, \u001B[38;5;241m-\u001B[39m\u001B[38;5;241m9.8\u001B[39m])\n\u001B[1;32m     95\u001B[0m \u001B[38;5;28;01mif\u001B[39;00m \u001B[38;5;129;01mnot\u001B[39;00m is_shadow_world:\n\u001B[0;32m---> 96\u001B[0m     plane \u001B[38;5;241m=\u001B[39m \u001B[43mObject\u001B[49m\u001B[43m(\u001B[49m\u001B[38;5;124;43m\"\u001B[39;49m\u001B[38;5;124;43mfloor\u001B[39;49m\u001B[38;5;124;43m\"\u001B[39;49m\u001B[43m,\u001B[49m\u001B[43m \u001B[49m\u001B[38;5;124;43m\"\u001B[39;49m\u001B[38;5;124;43menvironment\u001B[39;49m\u001B[38;5;124;43m\"\u001B[39;49m\u001B[43m,\u001B[49m\u001B[43m \u001B[49m\u001B[38;5;124;43m\"\u001B[39;49m\u001B[38;5;124;43mplane.urdf\u001B[39;49m\u001B[38;5;124;43m\"\u001B[39;49m\u001B[43m,\u001B[49m\u001B[43m \u001B[49m\u001B[43mworld\u001B[49m\u001B[38;5;241;43m=\u001B[39;49m\u001B[38;5;28;43mself\u001B[39;49m\u001B[43m)\u001B[49m\n",
      "File \u001B[0;32m~/catkin_ws/src/pycram/src/pycram/bullet_world.py:728\u001B[0m, in \u001B[0;36mObject.__init__\u001B[0;34m(self, name, type, path, pose, world, color, ignoreCachedFiles)\u001B[0m\n\u001B[1;32m    714\u001B[0m \u001B[38;5;250m\u001B[39m\u001B[38;5;124;03m\"\"\"\u001B[39;00m\n\u001B[1;32m    715\u001B[0m \u001B[38;5;124;03mThe constructor loads the urdf file into the given BulletWorld, if no BulletWorld is specified the\u001B[39;00m\n\u001B[1;32m    716\u001B[0m \u001B[38;5;124;03m:py:attr:`~BulletWorld.current_bullet_world` will be used. It is also possible to load .obj and .stl file into the BulletWorld.\u001B[39;00m\n\u001B[0;32m   (...)\u001B[0m\n\u001B[1;32m    725\u001B[0m \u001B[38;5;124;03m:param ignoreCachedFiles: If true the file will be spawned while ignoring cached files.\u001B[39;00m\n\u001B[1;32m    726\u001B[0m \u001B[38;5;124;03m\"\"\"\u001B[39;00m\n\u001B[1;32m    727\u001B[0m \u001B[38;5;28;01mif\u001B[39;00m \u001B[38;5;129;01mnot\u001B[39;00m pose:\n\u001B[0;32m--> 728\u001B[0m     pose \u001B[38;5;241m=\u001B[39m \u001B[43mPose\u001B[49m\u001B[43m(\u001B[49m\u001B[43m)\u001B[49m\n\u001B[1;32m    729\u001B[0m \u001B[38;5;28mself\u001B[39m\u001B[38;5;241m.\u001B[39mworld: BulletWorld \u001B[38;5;241m=\u001B[39m world \u001B[38;5;28;01mif\u001B[39;00m world \u001B[38;5;129;01mis\u001B[39;00m \u001B[38;5;129;01mnot\u001B[39;00m \u001B[38;5;28;01mNone\u001B[39;00m \u001B[38;5;28;01melse\u001B[39;00m BulletWorld\u001B[38;5;241m.\u001B[39mcurrent_bullet_world\n\u001B[1;32m    730\u001B[0m \u001B[38;5;28mself\u001B[39m\u001B[38;5;241m.\u001B[39mname: \u001B[38;5;28mstr\u001B[39m \u001B[38;5;241m=\u001B[39m name\n",
      "File \u001B[0;32m~/catkin_ws/src/pycram/src/pycram/pose.py:48\u001B[0m, in \u001B[0;36mPose.__init__\u001B[0;34m(self, position, orientation, frame)\u001B[0m\n\u001B[1;32m     45\u001B[0m     \u001B[38;5;28mself\u001B[39m\u001B[38;5;241m.\u001B[39mpose\u001B[38;5;241m.\u001B[39morientation\u001B[38;5;241m.\u001B[39mw \u001B[38;5;241m=\u001B[39m \u001B[38;5;241m1.0\u001B[39m\n\u001B[1;32m     47\u001B[0m \u001B[38;5;28mself\u001B[39m\u001B[38;5;241m.\u001B[39mheader\u001B[38;5;241m.\u001B[39mframe_id \u001B[38;5;241m=\u001B[39m frame\n\u001B[0;32m---> 48\u001B[0m \u001B[38;5;28mself\u001B[39m\u001B[38;5;241m.\u001B[39mheader\u001B[38;5;241m.\u001B[39mstamp \u001B[38;5;241m=\u001B[39m \u001B[43mrospy\u001B[49m\u001B[38;5;241;43m.\u001B[39;49m\u001B[43mTime\u001B[49m\u001B[38;5;241;43m.\u001B[39;49m\u001B[43mnow\u001B[49m\u001B[43m(\u001B[49m\u001B[43m)\u001B[49m\n\u001B[1;32m     50\u001B[0m \u001B[38;5;28mself\u001B[39m\u001B[38;5;241m.\u001B[39mframe \u001B[38;5;241m=\u001B[39m frame\n",
      "File \u001B[0;32m/opt/ros/noetic/lib/python3/dist-packages/rospy/rostime.py:155\u001B[0m, in \u001B[0;36mTime.now\u001B[0;34m()\u001B[0m\n\u001B[1;32m    143\u001B[0m \u001B[38;5;129m@staticmethod\u001B[39m\n\u001B[1;32m    144\u001B[0m \u001B[38;5;28;01mdef\u001B[39;00m \u001B[38;5;21mnow\u001B[39m():\n\u001B[1;32m    145\u001B[0m \u001B[38;5;250m    \u001B[39m\u001B[38;5;124;03m\"\"\"\u001B[39;00m\n\u001B[1;32m    146\u001B[0m \u001B[38;5;124;03m    Create new L{Time} instance representing current time. This\u001B[39;00m\n\u001B[1;32m    147\u001B[0m \u001B[38;5;124;03m    can either be wall-clock time or a simulated clock. It is\u001B[39;00m\n\u001B[0;32m   (...)\u001B[0m\n\u001B[1;32m    153\u001B[0m \u001B[38;5;124;03m    @rtype: L{Time}\u001B[39;00m\n\u001B[1;32m    154\u001B[0m \u001B[38;5;124;03m    \"\"\"\u001B[39;00m\n\u001B[0;32m--> 155\u001B[0m     \u001B[38;5;28;01mreturn\u001B[39;00m \u001B[43mget_rostime\u001B[49m\u001B[43m(\u001B[49m\u001B[43m)\u001B[49m\n",
      "File \u001B[0;32m/opt/ros/noetic/lib/python3/dist-packages/rospy/rostime.py:190\u001B[0m, in \u001B[0;36mget_rostime\u001B[0;34m()\u001B[0m\n\u001B[1;32m    184\u001B[0m \u001B[38;5;250m\u001B[39m\u001B[38;5;124;03m\"\"\"\u001B[39;00m\n\u001B[1;32m    185\u001B[0m \u001B[38;5;124;03mGet the current time as a L{Time} object    \u001B[39;00m\n\u001B[1;32m    186\u001B[0m \u001B[38;5;124;03m@return: current time as a L{rospy.Time} object\u001B[39;00m\n\u001B[1;32m    187\u001B[0m \u001B[38;5;124;03m@rtype: L{Time}\u001B[39;00m\n\u001B[1;32m    188\u001B[0m \u001B[38;5;124;03m\"\"\"\u001B[39;00m\n\u001B[1;32m    189\u001B[0m \u001B[38;5;28;01mif\u001B[39;00m \u001B[38;5;129;01mnot\u001B[39;00m _rostime_initialized:\n\u001B[0;32m--> 190\u001B[0m     \u001B[38;5;28;01mraise\u001B[39;00m rospy\u001B[38;5;241m.\u001B[39mexceptions\u001B[38;5;241m.\u001B[39mROSInitException(\u001B[38;5;124m\"\u001B[39m\u001B[38;5;124mtime is not initialized. Have you called init_node()?\u001B[39m\u001B[38;5;124m\"\u001B[39m)\n\u001B[1;32m    191\u001B[0m \u001B[38;5;28;01mif\u001B[39;00m _rostime_current \u001B[38;5;129;01mis\u001B[39;00m \u001B[38;5;129;01mnot\u001B[39;00m \u001B[38;5;28;01mNone\u001B[39;00m:\n\u001B[1;32m    192\u001B[0m     \u001B[38;5;66;03m# initialize with sim time\u001B[39;00m\n\u001B[1;32m    193\u001B[0m     \u001B[38;5;28;01mreturn\u001B[39;00m _rostime_current\n",
      "\u001B[0;31mROSInitException\u001B[0m: time is not initialized. Have you called init_node()?"
     ]
    }
   ],
   "source": [
    "from pycram.designators.action_designator import PickUpAction, PlaceAction, ParkArmsAction, MoveTorsoAction, \\\n",
    "    NavigateAction, PourAction\n",
    "from pycram.designators.object_designator import *\n",
    "from pycram.process_module import simulated_robot\n",
    "from pycram.enums import Arms\n",
    "from pycram.pose import Pose\n",
    "# from pycram.designator import ObjectDesignatorDescription as odd\n",
    "from pycram.bullet_world import BulletWorld, Object\n",
    "from pycram.designators.location_designator import CostmapLocation, SemanticCostmapLocation\n",
    "import tf\n",
    "\n",
    "\n",
    "world = BulletWorld()\n",
    "world.set_gravity([0, 0, -9.8])\n",
    "\n",
    "\n",
    "# source container\n",
    "milk = Object(\"milk\", \"milk\", \"milk.stl\", pose=Pose([2.4, 2.5, 1]))\n",
    "# destination container\n",
    "bowl = Object(\"bowl\", \"bowl\", \"bowl.stl\", pose=Pose([2.4, 2.8, 0.98]))\n",
    "pr2 = Object(\"pr2\", \"robot\", \"pr2.urdf\", pose=Pose([1.2, 2.5, 0]))\n",
    "\n",
    "pr2_desig = BelieveObject(names=[\"pr2\"])\n",
    "milk_desig = BelieveObject(names=[\"milk\"])\n",
    "bowl_desig = BelieveObject(names=[\"bowl\"])\n",
    "\n",
    "apartment = Object(\"apartment\", \"environment\", \"apartment.urdf\")"
   ],
   "metadata": {
    "collapsed": false,
    "ExecuteTime": {
     "end_time": "2023-11-30T13:40:31.399909783Z",
     "start_time": "2023-11-30T13:40:29.591324199Z"
    }
   },
   "id": "1ae67e049420a46b"
  },
  {
   "cell_type": "code",
   "execution_count": null,
   "outputs": [],
   "source": [
    "## Provide pouring plan for robot to follow by using bootstrapping instructions"
   ],
   "metadata": {
    "collapsed": false
   },
   "id": "6c3ae8ec6c969d8"
  },
  {
   "cell_type": "code",
   "execution_count": 3,
   "outputs": [
    {
     "ename": "AttributeError",
     "evalue": "'NoneType' object has no attribute 'get_pose'",
     "output_type": "error",
     "traceback": [
      "\u001B[0;31m---------------------------------------------------------------------------\u001B[0m",
      "\u001B[0;31mAttributeError\u001B[0m                            Traceback (most recent call last)",
      "Cell \u001B[0;32mIn[3], line 2\u001B[0m\n\u001B[1;32m      1\u001B[0m \u001B[38;5;28;01mwith\u001B[39;00m simulated_robot:\n\u001B[0;32m----> 2\u001B[0m     \u001B[43mParkArmsAction\u001B[49m\u001B[43m(\u001B[49m\u001B[43m[\u001B[49m\u001B[43mArms\u001B[49m\u001B[38;5;241;43m.\u001B[39;49m\u001B[43mBOTH\u001B[49m\u001B[43m]\u001B[49m\u001B[43m)\u001B[49m\u001B[38;5;241;43m.\u001B[39;49m\u001B[43mresolve\u001B[49m\u001B[43m(\u001B[49m\u001B[43m)\u001B[49m\u001B[38;5;241m.\u001B[39mperform()\n\u001B[1;32m      3\u001B[0m     MoveTorsoAction([\u001B[38;5;241m0.3\u001B[39m])\u001B[38;5;241m.\u001B[39mresolve()\u001B[38;5;241m.\u001B[39mperform()\n\u001B[1;32m      5\u001B[0m     \u001B[38;5;66;03m# find pick up pose for source container\u001B[39;00m\n",
      "File \u001B[0;32m~/catkin_ws/src/pycram/src/pycram/designators/action_designator.py:264\u001B[0m, in \u001B[0;36mParkArmsAction.ground\u001B[0;34m(self)\u001B[0m\n\u001B[1;32m    258\u001B[0m \u001B[38;5;28;01mdef\u001B[39;00m \u001B[38;5;21mground\u001B[39m(\u001B[38;5;28mself\u001B[39m) \u001B[38;5;241m-\u001B[39m\u001B[38;5;241m>\u001B[39m Action:\n\u001B[1;32m    259\u001B[0m \u001B[38;5;250m    \u001B[39m\u001B[38;5;124;03m\"\"\"\u001B[39;00m\n\u001B[1;32m    260\u001B[0m \u001B[38;5;124;03m    Default resolver that returns a performable designator with the first element of the list of possible arms\u001B[39;00m\n\u001B[1;32m    261\u001B[0m \n\u001B[1;32m    262\u001B[0m \u001B[38;5;124;03m    :return: A performable designator\u001B[39;00m\n\u001B[1;32m    263\u001B[0m \u001B[38;5;124;03m    \"\"\"\u001B[39;00m\n\u001B[0;32m--> 264\u001B[0m     \u001B[38;5;28;01mreturn\u001B[39;00m \u001B[38;5;28;43mself\u001B[39;49m\u001B[38;5;241;43m.\u001B[39;49m\u001B[43mAction\u001B[49m\u001B[43m(\u001B[49m\u001B[38;5;28;43mself\u001B[39;49m\u001B[38;5;241;43m.\u001B[39;49m\u001B[43marms\u001B[49m\u001B[43m[\u001B[49m\u001B[38;5;241;43m0\u001B[39;49m\u001B[43m]\u001B[49m\u001B[43m)\u001B[49m\n",
      "File \u001B[0;32m<string>:4\u001B[0m, in \u001B[0;36m__init__\u001B[0;34m(self, arm)\u001B[0m\n",
      "File \u001B[0;32m~/catkin_ws/src/pycram/src/pycram/designator.py:481\u001B[0m, in \u001B[0;36mActionDesignatorDescription.Action.__post_init__\u001B[0;34m(self)\u001B[0m\n\u001B[1;32m    480\u001B[0m \u001B[38;5;28;01mdef\u001B[39;00m \u001B[38;5;21m__post_init__\u001B[39m(\u001B[38;5;28mself\u001B[39m):\n\u001B[0;32m--> 481\u001B[0m     \u001B[38;5;28mself\u001B[39m\u001B[38;5;241m.\u001B[39mrobot_position \u001B[38;5;241m=\u001B[39m \u001B[43mBulletWorld\u001B[49m\u001B[38;5;241;43m.\u001B[39;49m\u001B[43mrobot\u001B[49m\u001B[38;5;241;43m.\u001B[39;49m\u001B[43mget_pose\u001B[49m()\n\u001B[1;32m    482\u001B[0m     \u001B[38;5;28mself\u001B[39m\u001B[38;5;241m.\u001B[39mrobot_torso_height \u001B[38;5;241m=\u001B[39m BulletWorld\u001B[38;5;241m.\u001B[39mrobot\u001B[38;5;241m.\u001B[39mget_joint_state(robot_description\u001B[38;5;241m.\u001B[39mtorso_joint)\n\u001B[1;32m    483\u001B[0m     \u001B[38;5;28mself\u001B[39m\u001B[38;5;241m.\u001B[39mrobot_type \u001B[38;5;241m=\u001B[39m BulletWorld\u001B[38;5;241m.\u001B[39mrobot\u001B[38;5;241m.\u001B[39mtype\n",
      "\u001B[0;31mAttributeError\u001B[0m: 'NoneType' object has no attribute 'get_pose'"
     ]
    }
   ],
   "source": [
    "with simulated_robot:\n",
    "    ParkArmsAction([Arms.BOTH]).resolve().perform()\n",
    "    MoveTorsoAction([0.3]).resolve().perform()\n",
    "\n",
    "    # find pick up pose for source container\n",
    "    pickup_pose = CostmapLocation(target=milk_desig.resolve(), reachable_for=pr2_desig.resolve()).resolve()\n",
    "    pickup_arm = pickup_pose.reachable_arms[0]\n",
    "\n",
    "    # navigate to the source container\n",
    "    NavigateAction(target_locations=[pickup_pose.pose]).resolve().perform()\n",
    "\n",
    "    ParkArmsAction([Arms.BOTH]).resolve().perform()\n",
    "\n",
    "    # perform pickup action\n",
    "    PickUpAction(object_designator_description=milk_desig, arms=[pickup_arm], grasps=[\"front\"]).resolve().perform()\n",
    "\n",
    "    ParkArmsAction([Arms.BOTH]).resolve().perform()\n",
    "    # calculate pouring angle in quaternion\n",
    "    quaternion = tf.transformations.quaternion_from_euler(90, 0, 0, axes=\"sxyz\")\n",
    "    # for simplicity calculate tilting pose where the destination container is. In this case a bowl\n",
    "    tilting_pose = SemanticCostmapLocation.Location(pose=Pose( bowl.original_pose.position_as_list(), list(quaternion)))\n",
    "    revert_tilting_pose = SemanticCostmapLocation.Location(pose=Pose(bowl.original_pose.position_as_list(), [0.0, 0, 0, 1]))\n",
    "    # do pouring by tilting, and accept time interval\n",
    "    PourAction(milk_desig, pouring_location=[tilting_pose.pose], revert_location=[revert_tilting_pose.pose],\n",
    "               arms=[pickup_arm], wait_duration=5).resolve().perform()\n",
    "\n",
    "    ParkArmsAction([Arms.BOTH]).resolve().perform()\n",
    "    # place the source container to its original position\n",
    "    place_pose = SemanticCostmapLocation.Location(pose=Pose(milk.original_pose.position_as_list(), [0.0, 0, 0, 1.0]))\n",
    "    PlaceAction(milk_desig, target_locations=[place_pose.pose], arms=[pickup_arm]).resolve().perform()\n",
    "\n",
    "    ParkArmsAction([Arms.BOTH]).resolve().perform()\n",
    "    # move pr2 to end pose\n",
    "    end_pose = SemanticCostmapLocation.Location(pose=Pose([1, 2.5, 0], [0.0, 0, 0, 1.0]))\n",
    "    NavigateAction(target_locations=[end_pose.pose]).resolve().perform()"
   ],
   "metadata": {
    "collapsed": false,
    "ExecuteTime": {
     "end_time": "2023-11-30T09:46:28.486380704Z",
     "start_time": "2023-11-30T09:46:28.391373957Z"
    }
   },
   "id": "7854017a08654f1d"
  },
  {
   "cell_type": "code",
   "execution_count": 4,
   "outputs": [
    {
     "ename": "NameError",
     "evalue": "name 'world' is not defined",
     "output_type": "error",
     "traceback": [
      "\u001B[0;31m---------------------------------------------------------------------------\u001B[0m",
      "\u001B[0;31mNameError\u001B[0m                                 Traceback (most recent call last)",
      "Cell \u001B[0;32mIn[4], line 1\u001B[0m\n\u001B[0;32m----> 1\u001B[0m \u001B[43mworld\u001B[49m\u001B[38;5;241m.\u001B[39mreset_bullet_world()\n",
      "\u001B[0;31mNameError\u001B[0m: name 'world' is not defined"
     ]
    }
   ],
   "source": [
    "world.reset_bullet_world()"
   ],
   "metadata": {
    "collapsed": false,
    "ExecuteTime": {
     "end_time": "2023-11-30T09:46:39.650520877Z",
     "start_time": "2023-11-30T09:46:39.611684976Z"
    }
   },
   "id": "bbc8a937a2c062e3"
  },
  {
   "cell_type": "code",
   "execution_count": null,
   "outputs": [],
   "source": [],
   "metadata": {
    "collapsed": false
   },
   "id": "68ff426a81767ec8"
  }
 ],
 "metadata": {
  "kernelspec": {
   "display_name": "Python 3",
   "language": "python",
   "name": "python3"
  },
  "language_info": {
   "codemirror_mode": {
    "name": "ipython",
    "version": 3
   },
   "file_extension": ".py",
   "mimetype": "text/x-python",
   "name": "python",
   "nbconvert_exporter": "python",
   "pygments_lexer": "ipython3",
   "version": "3.8.10"
  }
 },
 "nbformat": 4,
 "nbformat_minor": 5
}
